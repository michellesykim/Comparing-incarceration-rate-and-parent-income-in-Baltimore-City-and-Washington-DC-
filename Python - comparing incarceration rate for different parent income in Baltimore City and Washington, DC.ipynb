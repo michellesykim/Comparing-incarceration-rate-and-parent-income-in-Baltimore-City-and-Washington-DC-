{
  "nbformat": 4,
  "nbformat_minor": 0,
  "metadata": {
    "colab": {
      "name": "Mini project 4.ipynb",
      "provenance": [],
      "authorship_tag": "ABX9TyMLxMD/GuNvDYw8K43I08Lw",
      "include_colab_link": true
    },
    "kernelspec": {
      "name": "python3",
      "display_name": "Python 3"
    }
  },
  "cells": [
    {
      "cell_type": "markdown",
      "metadata": {
        "id": "view-in-github",
        "colab_type": "text"
      },
      "source": [
        "<a href=\"https://colab.research.google.com/github/michellesykim/Comparing-incarceration-rate-and-parent-income-in-Baltimore-City-and-Washington-DC-/blob/master/Python%20-%20comparing%20incarceration%20rate%20for%20different%20parent%20income%20in%20Baltimore%20City%20and%20Washington%2C%20DC.ipynb\" target=\"_parent\"><img src=\"https://colab.research.google.com/assets/colab-badge.svg\" alt=\"Open In Colab\"/></a>"
      ]
    },
    {
      "cell_type": "markdown",
      "metadata": {
        "id": "Ov7eHv9wzL04"
      },
      "source": [
        "# Comparing Incarceration Rate and Parent Income in Baltimore City and Washington, DC"
      ]
    },
    {
      "cell_type": "markdown",
      "metadata": {
        "id": "RWmBGwqpzV0L"
      },
      "source": [
        "*   Does one's parents' income (financial status) affects one's life trajectories, specifically, the likelihood of imprisonment?\n",
        "\n"
      ]
    },
    {
      "cell_type": "markdown",
      "metadata": {
        "id": "sAb9GT3A1gP9"
      },
      "source": [
        "# Import Libraries"
      ]
    },
    {
      "cell_type": "code",
      "metadata": {
        "colab": {
          "base_uri": "https://localhost:8080/"
        },
        "id": "MFBMvrRI13Vv",
        "outputId": "9edb87ae-8db4-4efe-e4a8-af2de030b749"
      },
      "source": [
        "pip install plotly"
      ],
      "execution_count": 2,
      "outputs": [
        {
          "output_type": "stream",
          "text": [
            "Requirement already satisfied: plotly in /usr/local/lib/python3.6/dist-packages (4.4.1)\n",
            "Requirement already satisfied: retrying>=1.3.3 in /usr/local/lib/python3.6/dist-packages (from plotly) (1.3.3)\n",
            "Requirement already satisfied: six in /usr/local/lib/python3.6/dist-packages (from plotly) (1.15.0)\n"
          ],
          "name": "stdout"
        }
      ]
    },
    {
      "cell_type": "code",
      "metadata": {
        "id": "YXqjYxU72QiD"
      },
      "source": [
        "# import libraries\n",
        "\n",
        "# for data analysis\n",
        "import pandas as pd\n",
        "import numpy as np\n",
        "\n",
        "# for data visualization\n",
        "import plotly.express as px"
      ],
      "execution_count": 3,
      "outputs": []
    },
    {
      "cell_type": "markdown",
      "metadata": {
        "id": "57aj0bFg2hRo"
      },
      "source": [
        "# Import Data"
      ]
    },
    {
      "cell_type": "code",
      "metadata": {
        "id": "iF87-Inp2kD_"
      },
      "source": [
        "# import data\n",
        "\n",
        "# Baltimore city incarceration data - all parent income\n",
        "df_bal_incar_all = pd.read_csv(\"https://raw.githubusercontent.com/michellesykim/Python-project---comparing-incarceration-rate-and-parent-income-in-Baltimore-City-and-Washington-DC/main/Baltimore%20-%20shown_tract_jail_rP_gP_pall%20(16).csv\")"
      ],
      "execution_count": 4,
      "outputs": []
    },
    {
      "cell_type": "code",
      "metadata": {
        "colab": {
          "base_uri": "https://localhost:8080/",
          "height": 204
        },
        "id": "UrZ5f2fZDyCK",
        "outputId": "e244b80c-f4cd-4ee9-fa0b-d87c9ebc3105"
      },
      "source": [
        "# preview data\n",
        "\n",
        "df_bal_incar_all.head()"
      ],
      "execution_count": 5,
      "outputs": [
        {
          "output_type": "execute_result",
          "data": {
            "text/html": [
              "<div>\n",
              "<style scoped>\n",
              "    .dataframe tbody tr th:only-of-type {\n",
              "        vertical-align: middle;\n",
              "    }\n",
              "\n",
              "    .dataframe tbody tr th {\n",
              "        vertical-align: top;\n",
              "    }\n",
              "\n",
              "    .dataframe thead th {\n",
              "        text-align: right;\n",
              "    }\n",
              "</style>\n",
              "<table border=\"1\" class=\"dataframe\">\n",
              "  <thead>\n",
              "    <tr style=\"text-align: right;\">\n",
              "      <th></th>\n",
              "      <th>tract</th>\n",
              "      <th>Neighborhood</th>\n",
              "      <th>City</th>\n",
              "      <th>State</th>\n",
              "      <th>Incarceration_Rate_rP_gP_pall</th>\n",
              "    </tr>\n",
              "  </thead>\n",
              "  <tbody>\n",
              "    <tr>\n",
              "      <th>0</th>\n",
              "      <td>24510120500</td>\n",
              "      <td>Greenmount West</td>\n",
              "      <td>Baltimore</td>\n",
              "      <td>MD</td>\n",
              "      <td>0.1268</td>\n",
              "    </tr>\n",
              "    <tr>\n",
              "      <th>1</th>\n",
              "      <td>24510080800</td>\n",
              "      <td>Broadway East</td>\n",
              "      <td>Baltimore</td>\n",
              "      <td>MD</td>\n",
              "      <td>0.1161</td>\n",
              "    </tr>\n",
              "    <tr>\n",
              "      <th>2</th>\n",
              "      <td>24510080400</td>\n",
              "      <td>Broadway East</td>\n",
              "      <td>Baltimore</td>\n",
              "      <td>MD</td>\n",
              "      <td>0.1066</td>\n",
              "    </tr>\n",
              "    <tr>\n",
              "      <th>3</th>\n",
              "      <td>24510180100</td>\n",
              "      <td>Poppleton</td>\n",
              "      <td>Baltimore</td>\n",
              "      <td>MD</td>\n",
              "      <td>0.1033</td>\n",
              "    </tr>\n",
              "    <tr>\n",
              "      <th>4</th>\n",
              "      <td>24510160200</td>\n",
              "      <td>Sandtown-Winchester</td>\n",
              "      <td>Baltimore</td>\n",
              "      <td>MD</td>\n",
              "      <td>0.0996</td>\n",
              "    </tr>\n",
              "  </tbody>\n",
              "</table>\n",
              "</div>"
            ],
            "text/plain": [
              "         tract         Neighborhood  ... State Incarceration_Rate_rP_gP_pall\n",
              "0  24510120500      Greenmount West  ...    MD                        0.1268\n",
              "1  24510080800        Broadway East  ...    MD                        0.1161\n",
              "2  24510080400        Broadway East  ...    MD                        0.1066\n",
              "3  24510180100            Poppleton  ...    MD                        0.1033\n",
              "4  24510160200  Sandtown-Winchester  ...    MD                        0.0996\n",
              "\n",
              "[5 rows x 5 columns]"
            ]
          },
          "metadata": {
            "tags": []
          },
          "execution_count": 5
        }
      ]
    },
    {
      "cell_type": "code",
      "metadata": {
        "id": "piowa7rED8ZR"
      },
      "source": [
        "# import rest of the data for baltimore\n",
        "\n",
        "# Baltimore city incarceraton data - 75 percnetile parent income\n",
        "df_bal_incar_75 = pd.read_csv(\"https://raw.githubusercontent.com/michellesykim/Python-project---comparing-incarceration-rate-and-parent-income-in-Baltimore-City-and-Washington-DC/main/Baltimore%20-%20shown_tract_jail_rP_gP_p75%20(5).csv\")\n",
        "\n",
        "# Baltimore city incarceration data - 50 percentile parent income\n",
        "df_bal_incar_50 = pd.read_csv(\"https://raw.githubusercontent.com/michellesykim/Python-project---comparing-incarceration-rate-and-parent-income-in-Baltimore-City-and-Washington-DC/main/Baltimore%20-%20shown_tract_jail_rP_gP_p50%20(4).csv\")\n",
        "\n",
        "# Baltimore city incarceration data - 25 percentile parent income\n",
        "df_bal_incar_25 = pd.read_csv(\"https://raw.githubusercontent.com/michellesykim/Python-project---comparing-incarceration-rate-and-parent-income-in-Baltimore-City-and-Washington-DC/main/Baltimore%20-%20shown_tract_jail_rP_gP_p25%20(6).csv\")"
      ],
      "execution_count": 6,
      "outputs": []
    },
    {
      "cell_type": "code",
      "metadata": {
        "id": "ftDHraXGFQyH"
      },
      "source": [
        "# import rest of the data for Washington, DC\n",
        "\n",
        "# DC incarceration data - all percentile parent income\n",
        "df_dc_incar_all = pd.read_csv(\"https://raw.githubusercontent.com/michellesykim/Python-project---comparing-incarceration-rate-and-parent-income-in-Baltimore-City-and-Washington-DC/main/DC%20-%20shown_tract_jail_rP_gP_pall%20(16).csv\")\n",
        "\n",
        "# DC incarceration data - 75 percentile parent income\n",
        "df_dc_incar_75 = pd.read_csv(\"https://raw.githubusercontent.com/michellesykim/Python-project---comparing-incarceration-rate-and-parent-income-in-Baltimore-City-and-Washington-DC/main/DC%20-%20shown_tract_jail_rP_gP_p75%20(5).csv\")\n",
        "\n",
        "# DC incarceration data - 50 percentile parent income\n",
        "df_dc_incar_50 = pd.read_csv(\"https://raw.githubusercontent.com/michellesykim/Python-project---comparing-incarceration-rate-and-parent-income-in-Baltimore-City-and-Washington-DC/main/DC%20-%20shown_tract_jail_rP_gP_p50%20(4).csv\")\n",
        "\n",
        "# DC incarceration data - 25 percentile parent income\n",
        "df_dc_incar_25 = pd.read_csv(\"https://raw.githubusercontent.com/michellesykim/Python-project---comparing-incarceration-rate-and-parent-income-in-Baltimore-City-and-Washington-DC/main/DC%20-%20shown_tract_jail_rP_gP_p25%20(6).csv\")"
      ],
      "execution_count": 7,
      "outputs": []
    },
    {
      "cell_type": "markdown",
      "metadata": {
        "id": "DNkYdSg-WDze"
      },
      "source": [
        "# Merge Baltimore City Incarceration Data of Different Parent Income"
      ]
    },
    {
      "cell_type": "code",
      "metadata": {
        "colab": {
          "base_uri": "https://localhost:8080/"
        },
        "id": "fO1B_j2wQWVX",
        "outputId": "f2de22b2-f322-4b02-88c2-e88fd2616f20"
      },
      "source": [
        "df_bal_incar_all.columns"
      ],
      "execution_count": 8,
      "outputs": [
        {
          "output_type": "execute_result",
          "data": {
            "text/plain": [
              "Index(['tract', 'Neighborhood', 'City ', 'State',\n",
              "       'Incarceration_Rate_rP_gP_pall'],\n",
              "      dtype='object')"
            ]
          },
          "metadata": {
            "tags": []
          },
          "execution_count": 8
        }
      ]
    },
    {
      "cell_type": "code",
      "metadata": {
        "colab": {
          "base_uri": "https://localhost:8080/"
        },
        "id": "cQOp-Q28QbtA",
        "outputId": "5748467f-e922-4a5b-c85b-e9c4439946e9"
      },
      "source": [
        "df_bal_incar_75.columns"
      ],
      "execution_count": 9,
      "outputs": [
        {
          "output_type": "execute_result",
          "data": {
            "text/plain": [
              "Index(['tract', 'Neighborhood', 'City', 'State',\n",
              "       'Incarceration_Rate_rP_gP_p75'],\n",
              "      dtype='object')"
            ]
          },
          "metadata": {
            "tags": []
          },
          "execution_count": 9
        }
      ]
    },
    {
      "cell_type": "code",
      "metadata": {
        "id": "T4cb6q0cPvYD"
      },
      "source": [
        "# merge baltimore city incarceration data \n",
        "df_bal_incar_merge = pd.merge(df_bal_incar_all,\n",
        "                              df_bal_incar_75[[\"tract\",\"Incarceration_Rate_rP_gP_p75\"]],\n",
        "                              how = \"left\",\n",
        "                              on = \"tract\")"
      ],
      "execution_count": 10,
      "outputs": []
    },
    {
      "cell_type": "code",
      "metadata": {
        "id": "U0M3P49dSwp4"
      },
      "source": [
        "# merge bal city data continued\n",
        "df_bal_incar_merge = pd.merge(df_bal_incar_merge,\n",
        "                              df_bal_incar_50[[\"tract\",\"Incarceration_Rate_rP_gP_p50\"]],\n",
        "                              how = \"left\",\n",
        "                              on = \"tract\")"
      ],
      "execution_count": 11,
      "outputs": []
    },
    {
      "cell_type": "code",
      "metadata": {
        "id": "6-wGz5YETQj5"
      },
      "source": [
        "# merge continued\n",
        "df_bal_incar_merge = pd.merge(df_bal_incar_merge,\n",
        "                              df_bal_incar_25[[\"tract\",\"Incarceration_Rate_rP_gP_p25\"]],\n",
        "                              how = \"left\",\n",
        "                              on = \"tract\")"
      ],
      "execution_count": 12,
      "outputs": []
    },
    {
      "cell_type": "code",
      "metadata": {
        "colab": {
          "base_uri": "https://localhost:8080/",
          "height": 241
        },
        "id": "o_kN04_KTp_b",
        "outputId": "895f35de-b138-490b-f2a7-7090114b3414"
      },
      "source": [
        "# preview bal merge data\n",
        "df_bal_incar_merge.tail()"
      ],
      "execution_count": 13,
      "outputs": [
        {
          "output_type": "execute_result",
          "data": {
            "text/html": [
              "<div>\n",
              "<style scoped>\n",
              "    .dataframe tbody tr th:only-of-type {\n",
              "        vertical-align: middle;\n",
              "    }\n",
              "\n",
              "    .dataframe tbody tr th {\n",
              "        vertical-align: top;\n",
              "    }\n",
              "\n",
              "    .dataframe thead th {\n",
              "        text-align: right;\n",
              "    }\n",
              "</style>\n",
              "<table border=\"1\" class=\"dataframe\">\n",
              "  <thead>\n",
              "    <tr style=\"text-align: right;\">\n",
              "      <th></th>\n",
              "      <th>tract</th>\n",
              "      <th>Neighborhood</th>\n",
              "      <th>City</th>\n",
              "      <th>State</th>\n",
              "      <th>Incarceration_Rate_rP_gP_pall</th>\n",
              "      <th>Incarceration_Rate_rP_gP_p75</th>\n",
              "      <th>Incarceration_Rate_rP_gP_p50</th>\n",
              "      <th>Incarceration_Rate_rP_gP_p25</th>\n",
              "    </tr>\n",
              "  </thead>\n",
              "  <tbody>\n",
              "    <tr>\n",
              "      <th>189</th>\n",
              "      <td>24510270302</td>\n",
              "      <td>Waltherson</td>\n",
              "      <td>Baltimore</td>\n",
              "      <td>MD</td>\n",
              "      <td>0.0008</td>\n",
              "      <td>0.0000</td>\n",
              "      <td>0.0043</td>\n",
              "      <td>0.0170</td>\n",
              "    </tr>\n",
              "    <tr>\n",
              "      <th>190</th>\n",
              "      <td>24510271300</td>\n",
              "      <td>Roland Park</td>\n",
              "      <td>Baltimore</td>\n",
              "      <td>MD</td>\n",
              "      <td>0.0002</td>\n",
              "      <td>0.0019</td>\n",
              "      <td>0.0045</td>\n",
              "      <td>0.0099</td>\n",
              "    </tr>\n",
              "    <tr>\n",
              "      <th>191</th>\n",
              "      <td>24510240200</td>\n",
              "      <td>Riverside</td>\n",
              "      <td>Baltimore</td>\n",
              "      <td>MD</td>\n",
              "      <td>0.0000</td>\n",
              "      <td>0.0000</td>\n",
              "      <td>0.0043</td>\n",
              "      <td>0.0159</td>\n",
              "    </tr>\n",
              "    <tr>\n",
              "      <th>192</th>\n",
              "      <td>24510271501</td>\n",
              "      <td>Mount Washington</td>\n",
              "      <td>Baltimore</td>\n",
              "      <td>MD</td>\n",
              "      <td>0.0000</td>\n",
              "      <td>0.0041</td>\n",
              "      <td>0.0000</td>\n",
              "      <td>0.0000</td>\n",
              "    </tr>\n",
              "    <tr>\n",
              "      <th>193</th>\n",
              "      <td>24510130805</td>\n",
              "      <td>Cold Springs</td>\n",
              "      <td>Baltimore</td>\n",
              "      <td>MD</td>\n",
              "      <td>0.0000</td>\n",
              "      <td>0.0102</td>\n",
              "      <td>0.0000</td>\n",
              "      <td>0.0000</td>\n",
              "    </tr>\n",
              "  </tbody>\n",
              "</table>\n",
              "</div>"
            ],
            "text/plain": [
              "           tract  ... Incarceration_Rate_rP_gP_p25\n",
              "189  24510270302  ...                       0.0170\n",
              "190  24510271300  ...                       0.0099\n",
              "191  24510240200  ...                       0.0159\n",
              "192  24510271501  ...                       0.0000\n",
              "193  24510130805  ...                       0.0000\n",
              "\n",
              "[5 rows x 8 columns]"
            ]
          },
          "metadata": {
            "tags": []
          },
          "execution_count": 13
        }
      ]
    },
    {
      "cell_type": "markdown",
      "metadata": {
        "id": "s_TsYtYJWgH7"
      },
      "source": [
        "# Merge Washington, DC Incarceration Data of Different Parent Income"
      ]
    },
    {
      "cell_type": "code",
      "metadata": {
        "id": "olTAuZFzUHTz"
      },
      "source": [
        "# merge dc incarceration data\n",
        "df_dc_incar_merge = pd.merge(df_dc_incar_all,\n",
        "                             df_dc_incar_75[[\"tract\",\"Incarceration_Rate_rP_gP_p75\"]],\n",
        "                             how = \"left\",\n",
        "                             on = \"tract\")"
      ],
      "execution_count": 14,
      "outputs": []
    },
    {
      "cell_type": "code",
      "metadata": {
        "id": "Umnj0KWSUpB9"
      },
      "source": [
        "# merge continued\n",
        "df_dc_incar_merge = pd.merge(df_dc_incar_merge,\n",
        "                             df_dc_incar_50[[\"tract\",\"Incarceration_Rate_rP_gP_p50\"]],\n",
        "                             how = \"left\",\n",
        "                             on = \"tract\")"
      ],
      "execution_count": 15,
      "outputs": []
    },
    {
      "cell_type": "code",
      "metadata": {
        "id": "mV6zKUCMU4r0"
      },
      "source": [
        "# merge continued\n",
        "df_dc_incar_merge = pd.merge(df_dc_incar_merge,\n",
        "                             df_dc_incar_25[[\"tract\",\"Incarceration_Rate_rP_gP_p25\"]],\n",
        "                             how = \"left\",\n",
        "                             on = \"tract\")"
      ],
      "execution_count": 16,
      "outputs": []
    },
    {
      "cell_type": "code",
      "metadata": {
        "colab": {
          "base_uri": "https://localhost:8080/",
          "height": 258
        },
        "id": "EU0CiaeZVIo_",
        "outputId": "e5e66dbe-ff84-485f-b984-96eac037cf14"
      },
      "source": [
        "# preview dc merge data\n",
        "df_dc_incar_merge.head()"
      ],
      "execution_count": 17,
      "outputs": [
        {
          "output_type": "execute_result",
          "data": {
            "text/html": [
              "<div>\n",
              "<style scoped>\n",
              "    .dataframe tbody tr th:only-of-type {\n",
              "        vertical-align: middle;\n",
              "    }\n",
              "\n",
              "    .dataframe tbody tr th {\n",
              "        vertical-align: top;\n",
              "    }\n",
              "\n",
              "    .dataframe thead th {\n",
              "        text-align: right;\n",
              "    }\n",
              "</style>\n",
              "<table border=\"1\" class=\"dataframe\">\n",
              "  <thead>\n",
              "    <tr style=\"text-align: right;\">\n",
              "      <th></th>\n",
              "      <th>tract</th>\n",
              "      <th>Neighborhood</th>\n",
              "      <th>City</th>\n",
              "      <th>State</th>\n",
              "      <th>Incarceration_Rate_rP_gP_pall</th>\n",
              "      <th>Incarceration_Rate_rP_gP_p75</th>\n",
              "      <th>Incarceration_Rate_rP_gP_p50</th>\n",
              "      <th>Incarceration_Rate_rP_gP_p25</th>\n",
              "    </tr>\n",
              "  </thead>\n",
              "  <tbody>\n",
              "    <tr>\n",
              "      <th>0</th>\n",
              "      <td>11001004801</td>\n",
              "      <td>Northwest Washington</td>\n",
              "      <td>Washington</td>\n",
              "      <td>DC</td>\n",
              "      <td>0.1078</td>\n",
              "      <td>0.0411</td>\n",
              "      <td>0.0644</td>\n",
              "      <td>0.1121</td>\n",
              "    </tr>\n",
              "    <tr>\n",
              "      <th>1</th>\n",
              "      <td>11001010900</td>\n",
              "      <td>Southwest Washington</td>\n",
              "      <td>Washington</td>\n",
              "      <td>DC</td>\n",
              "      <td>0.1021</td>\n",
              "      <td>0.0602</td>\n",
              "      <td>0.0745</td>\n",
              "      <td>0.1039</td>\n",
              "    </tr>\n",
              "    <tr>\n",
              "      <th>2</th>\n",
              "      <td>11001007401</td>\n",
              "      <td>Barry Farm</td>\n",
              "      <td>Washington</td>\n",
              "      <td>DC</td>\n",
              "      <td>0.0874</td>\n",
              "      <td>0.0779</td>\n",
              "      <td>0.0815</td>\n",
              "      <td>0.0889</td>\n",
              "    </tr>\n",
              "    <tr>\n",
              "      <th>3</th>\n",
              "      <td>11001007407</td>\n",
              "      <td>Barry Farm</td>\n",
              "      <td>Washington</td>\n",
              "      <td>DC</td>\n",
              "      <td>0.0863</td>\n",
              "      <td>0.0770</td>\n",
              "      <td>0.0793</td>\n",
              "      <td>0.0839</td>\n",
              "    </tr>\n",
              "    <tr>\n",
              "      <th>4</th>\n",
              "      <td>11001003302</td>\n",
              "      <td>Bloomingdale</td>\n",
              "      <td>Washington</td>\n",
              "      <td>DC</td>\n",
              "      <td>0.0820</td>\n",
              "      <td>0.0244</td>\n",
              "      <td>0.0514</td>\n",
              "      <td>0.1068</td>\n",
              "    </tr>\n",
              "  </tbody>\n",
              "</table>\n",
              "</div>"
            ],
            "text/plain": [
              "         tract  ... Incarceration_Rate_rP_gP_p25\n",
              "0  11001004801  ...                       0.1121\n",
              "1  11001010900  ...                       0.1039\n",
              "2  11001007401  ...                       0.0889\n",
              "3  11001007407  ...                       0.0839\n",
              "4  11001003302  ...                       0.1068\n",
              "\n",
              "[5 rows x 8 columns]"
            ]
          },
          "metadata": {
            "tags": []
          },
          "execution_count": 17
        }
      ]
    },
    {
      "cell_type": "markdown",
      "metadata": {
        "id": "ZtBM9At1azII"
      },
      "source": [
        "# Histogram and Density Curve for Baltimore City\n",
        "\n",
        "---\n",
        "\n"
      ]
    },
    {
      "cell_type": "code",
      "metadata": {
        "id": "p1nUaStvuIrk"
      },
      "source": [
        "import plotly.figure_factory as ff"
      ],
      "execution_count": 18,
      "outputs": []
    },
    {
      "cell_type": "code",
      "metadata": {
        "id": "fSGMmuoPevC2"
      },
      "source": [
        "hist_bal_75pct = px.histogram(df_bal_incar_merge, x =\"Incarceration_Rate_rP_gP_p75\", barmode = \"overlay\", color_discrete_sequence=[\"blue\"], labels = {\"Incarceration_Rate_rP_gP_p75\": \"Incarceration rate for 75th percentile parent income\"})"
      ],
      "execution_count": 19,
      "outputs": []
    },
    {
      "cell_type": "code",
      "metadata": {
        "colab": {
          "base_uri": "https://localhost:8080/",
          "height": 542
        },
        "id": "ffO4n3i8e10Q",
        "outputId": "b338a6f4-1a12-426c-bd47-e157a67b85fb"
      },
      "source": [
        "hist_bal_75pct"
      ],
      "execution_count": 20,
      "outputs": [
        {
          "output_type": "display_data",
          "data": {
            "text/html": [
              "<html>\n",
              "<head><meta charset=\"utf-8\" /></head>\n",
              "<body>\n",
              "    <div>\n",
              "            <script src=\"https://cdnjs.cloudflare.com/ajax/libs/mathjax/2.7.5/MathJax.js?config=TeX-AMS-MML_SVG\"></script><script type=\"text/javascript\">if (window.MathJax) {MathJax.Hub.Config({SVG: {font: \"STIX-Web\"}});}</script>\n",
              "                <script type=\"text/javascript\">window.PlotlyConfig = {MathJaxConfig: 'local'};</script>\n",
              "        <script src=\"https://cdn.plot.ly/plotly-latest.min.js\"></script>    \n",
              "            <div id=\"f3ccad37-017d-4d83-9c59-eb15fd4f4082\" class=\"plotly-graph-div\" style=\"height:525px; width:100%;\"></div>\n",
              "            <script type=\"text/javascript\">\n",
              "                \n",
              "                    window.PLOTLYENV=window.PLOTLYENV || {};\n",
              "                    \n",
              "                if (document.getElementById(\"f3ccad37-017d-4d83-9c59-eb15fd4f4082\")) {\n",
              "                    Plotly.newPlot(\n",
              "                        'f3ccad37-017d-4d83-9c59-eb15fd4f4082',\n",
              "                        [{\"alignmentgroup\": \"True\", \"bingroup\": \"x\", \"hoverlabel\": {\"namelength\": 0}, \"hovertemplate\": \"Incarceration rate for 75th percentile parent income=%{x}<br>count=%{y}\", \"legendgroup\": \"\", \"marker\": {\"color\": \"blue\", \"opacity\": 0.5}, \"name\": \"\", \"offsetgroup\": \"\", \"orientation\": \"v\", \"showlegend\": false, \"type\": \"histogram\", \"x\": [0.1486, 0.0812, 0.0763, 0.1271, 0.0782, 0.0931, 0.0297, 0.0019, 0.0429, 0.0202, 0.1028, 0.0653, 0.0304, 0.1066, 0.0563, 0.0273, 0.051, 0.0574, 0.0363, 0.0294, 0.0271, 0.0666, 0.048, 0.0498, 0.0295, 0.0035, 0.0476, 0.035, 0.0253, 0.0954, 0.0129, 0.0055, 0.0076, 0.0578, 0.0254, 0.075, 0.0496, 0.0, 0.0289, 0.0, 0.0, 0.0549, 0.0063, 0.0852, 0.0478, 0.0329, 0.0411, 0.0409, 0.0301, 0.0346, 0.0, 0.0691, 0.0429, 0.0308, 0.0087, 0.0177, 0.0, 0.0292, 0.0472, 0.0501, 0.0334, 0.0246, 0.0256, 0.0155, 0.0452, 0.035, 0.0841, 0.0, 0.0526, 0.0143, 0.0142, 0.0195, 0.0085, 0.0186, 0.0, 0.0021, 0.0261, 0.0639, 0.0223, 0.0427, 0.0174, 0.0301, 0.0, 0.0301, 0.0357, 0.0208, 0.0, 0.005, 0.0, 0.039, 0.0162, 0.0259, 0.0373, 0.031, 0.0234, 0.0007, 0.0239, 0.0311, 0.0255, 0.0, 0.0054, 0.0233, 0.0041, 0.0501, 0.0107, 0.0366, 0.0268, 0.0207, 0.0, 0.0347, 0.0088, 0.0339, 0.0328, 0.0139, 0.0, 0.0088, 0.0007, 0.0041, 0.0, 0.0, 0.0, 0.0001, 0.0184, 0.0321, 0.0222, 0.0221, 0.0056, 0.0005, 0.0072, 0.0001, 0.021, 0.0102, 0.037000000000000005, 0.0188, 0.0247, 0.0185, 0.0303, 0.0205, 0.0137, 0.0298, 0.0323, 0.0, 0.0132, 0.0324, 0.0115, 0.0252, 0.0232, 0.0, 0.0197, 0.0081, 0.0052, 0.0013, 0.0, 0.0, 0.0098, 0.0006, 0.0106, 0.0061, 0.0124, 0.0047, 0.0124, 0.0, 0.0054, 0.0097, 0.0024, 0.0222, 0.0068, 0.0036, 0.0187, 0.0006, 0.0, 0.0096, 0.0088, 0.0119, 0.0026, 0.0041, 0.011000000000000001, 0.0, 0.0, 0.0, 0.0119, 0.0, 0.0083, 0.0068, 0.0042, 0.0, 0.0026, 0.0015, 0.0031, 0.0, 0.0019, 0.0, 0.0041, 0.0102], \"xaxis\": \"x\", \"yaxis\": \"y\"}],\n",
              "                        {\"barmode\": \"overlay\", \"legend\": {\"tracegroupgap\": 0}, \"margin\": {\"t\": 60}, \"template\": {\"data\": {\"bar\": [{\"error_x\": {\"color\": \"#2a3f5f\"}, \"error_y\": {\"color\": \"#2a3f5f\"}, \"marker\": {\"line\": {\"color\": \"#E5ECF6\", \"width\": 0.5}}, \"type\": \"bar\"}], \"barpolar\": [{\"marker\": {\"line\": {\"color\": \"#E5ECF6\", \"width\": 0.5}}, \"type\": \"barpolar\"}], \"carpet\": [{\"aaxis\": {\"endlinecolor\": \"#2a3f5f\", \"gridcolor\": \"white\", \"linecolor\": \"white\", \"minorgridcolor\": \"white\", \"startlinecolor\": \"#2a3f5f\"}, \"baxis\": {\"endlinecolor\": \"#2a3f5f\", \"gridcolor\": \"white\", \"linecolor\": \"white\", \"minorgridcolor\": \"white\", \"startlinecolor\": \"#2a3f5f\"}, \"type\": \"carpet\"}], \"choropleth\": [{\"colorbar\": {\"outlinewidth\": 0, \"ticks\": \"\"}, \"type\": \"choropleth\"}], \"contour\": [{\"colorbar\": {\"outlinewidth\": 0, \"ticks\": \"\"}, \"colorscale\": [[0.0, \"#0d0887\"], [0.1111111111111111, \"#46039f\"], [0.2222222222222222, \"#7201a8\"], [0.3333333333333333, \"#9c179e\"], [0.4444444444444444, \"#bd3786\"], [0.5555555555555556, \"#d8576b\"], [0.6666666666666666, \"#ed7953\"], [0.7777777777777778, \"#fb9f3a\"], [0.8888888888888888, \"#fdca26\"], [1.0, \"#f0f921\"]], \"type\": \"contour\"}], \"contourcarpet\": [{\"colorbar\": {\"outlinewidth\": 0, \"ticks\": \"\"}, \"type\": \"contourcarpet\"}], \"heatmap\": [{\"colorbar\": {\"outlinewidth\": 0, \"ticks\": \"\"}, \"colorscale\": [[0.0, \"#0d0887\"], [0.1111111111111111, \"#46039f\"], [0.2222222222222222, \"#7201a8\"], [0.3333333333333333, \"#9c179e\"], [0.4444444444444444, \"#bd3786\"], [0.5555555555555556, \"#d8576b\"], [0.6666666666666666, \"#ed7953\"], [0.7777777777777778, \"#fb9f3a\"], [0.8888888888888888, \"#fdca26\"], [1.0, \"#f0f921\"]], \"type\": \"heatmap\"}], \"heatmapgl\": [{\"colorbar\": {\"outlinewidth\": 0, \"ticks\": \"\"}, \"colorscale\": [[0.0, \"#0d0887\"], [0.1111111111111111, \"#46039f\"], [0.2222222222222222, \"#7201a8\"], [0.3333333333333333, \"#9c179e\"], [0.4444444444444444, \"#bd3786\"], [0.5555555555555556, \"#d8576b\"], [0.6666666666666666, \"#ed7953\"], [0.7777777777777778, \"#fb9f3a\"], [0.8888888888888888, \"#fdca26\"], [1.0, \"#f0f921\"]], \"type\": \"heatmapgl\"}], \"histogram\": [{\"marker\": {\"colorbar\": {\"outlinewidth\": 0, \"ticks\": \"\"}}, \"type\": \"histogram\"}], \"histogram2d\": [{\"colorbar\": {\"outlinewidth\": 0, \"ticks\": \"\"}, \"colorscale\": [[0.0, \"#0d0887\"], [0.1111111111111111, \"#46039f\"], [0.2222222222222222, \"#7201a8\"], [0.3333333333333333, \"#9c179e\"], [0.4444444444444444, \"#bd3786\"], [0.5555555555555556, \"#d8576b\"], [0.6666666666666666, \"#ed7953\"], [0.7777777777777778, \"#fb9f3a\"], [0.8888888888888888, \"#fdca26\"], [1.0, \"#f0f921\"]], \"type\": \"histogram2d\"}], \"histogram2dcontour\": [{\"colorbar\": {\"outlinewidth\": 0, \"ticks\": \"\"}, \"colorscale\": [[0.0, \"#0d0887\"], [0.1111111111111111, \"#46039f\"], [0.2222222222222222, \"#7201a8\"], [0.3333333333333333, \"#9c179e\"], [0.4444444444444444, \"#bd3786\"], [0.5555555555555556, \"#d8576b\"], [0.6666666666666666, \"#ed7953\"], [0.7777777777777778, \"#fb9f3a\"], [0.8888888888888888, \"#fdca26\"], [1.0, \"#f0f921\"]], \"type\": \"histogram2dcontour\"}], \"mesh3d\": [{\"colorbar\": {\"outlinewidth\": 0, \"ticks\": \"\"}, \"type\": \"mesh3d\"}], \"parcoords\": [{\"line\": {\"colorbar\": {\"outlinewidth\": 0, \"ticks\": \"\"}}, \"type\": \"parcoords\"}], \"pie\": [{\"automargin\": true, \"type\": \"pie\"}], \"scatter\": [{\"marker\": {\"colorbar\": {\"outlinewidth\": 0, \"ticks\": \"\"}}, \"type\": \"scatter\"}], \"scatter3d\": [{\"line\": {\"colorbar\": {\"outlinewidth\": 0, \"ticks\": \"\"}}, \"marker\": {\"colorbar\": {\"outlinewidth\": 0, \"ticks\": \"\"}}, \"type\": \"scatter3d\"}], \"scattercarpet\": [{\"marker\": {\"colorbar\": {\"outlinewidth\": 0, \"ticks\": \"\"}}, \"type\": \"scattercarpet\"}], \"scattergeo\": [{\"marker\": {\"colorbar\": {\"outlinewidth\": 0, \"ticks\": \"\"}}, \"type\": \"scattergeo\"}], \"scattergl\": [{\"marker\": {\"colorbar\": {\"outlinewidth\": 0, \"ticks\": \"\"}}, \"type\": \"scattergl\"}], \"scattermapbox\": [{\"marker\": {\"colorbar\": {\"outlinewidth\": 0, \"ticks\": \"\"}}, \"type\": \"scattermapbox\"}], \"scatterpolar\": [{\"marker\": {\"colorbar\": {\"outlinewidth\": 0, \"ticks\": \"\"}}, \"type\": \"scatterpolar\"}], \"scatterpolargl\": [{\"marker\": {\"colorbar\": {\"outlinewidth\": 0, \"ticks\": \"\"}}, \"type\": \"scatterpolargl\"}], \"scatterternary\": [{\"marker\": {\"colorbar\": {\"outlinewidth\": 0, \"ticks\": \"\"}}, \"type\": \"scatterternary\"}], \"surface\": [{\"colorbar\": {\"outlinewidth\": 0, \"ticks\": \"\"}, \"colorscale\": [[0.0, \"#0d0887\"], [0.1111111111111111, \"#46039f\"], [0.2222222222222222, \"#7201a8\"], [0.3333333333333333, \"#9c179e\"], [0.4444444444444444, \"#bd3786\"], [0.5555555555555556, \"#d8576b\"], [0.6666666666666666, \"#ed7953\"], [0.7777777777777778, \"#fb9f3a\"], [0.8888888888888888, \"#fdca26\"], [1.0, \"#f0f921\"]], \"type\": \"surface\"}], \"table\": [{\"cells\": {\"fill\": {\"color\": \"#EBF0F8\"}, \"line\": {\"color\": \"white\"}}, \"header\": {\"fill\": {\"color\": \"#C8D4E3\"}, \"line\": {\"color\": \"white\"}}, \"type\": \"table\"}]}, \"layout\": {\"annotationdefaults\": {\"arrowcolor\": \"#2a3f5f\", \"arrowhead\": 0, \"arrowwidth\": 1}, \"coloraxis\": {\"colorbar\": {\"outlinewidth\": 0, \"ticks\": \"\"}}, \"colorscale\": {\"diverging\": [[0, \"#8e0152\"], [0.1, \"#c51b7d\"], [0.2, \"#de77ae\"], [0.3, \"#f1b6da\"], [0.4, \"#fde0ef\"], [0.5, \"#f7f7f7\"], [0.6, \"#e6f5d0\"], [0.7, \"#b8e186\"], [0.8, \"#7fbc41\"], [0.9, \"#4d9221\"], [1, \"#276419\"]], \"sequential\": [[0.0, \"#0d0887\"], [0.1111111111111111, \"#46039f\"], [0.2222222222222222, \"#7201a8\"], [0.3333333333333333, \"#9c179e\"], [0.4444444444444444, \"#bd3786\"], [0.5555555555555556, \"#d8576b\"], [0.6666666666666666, \"#ed7953\"], [0.7777777777777778, \"#fb9f3a\"], [0.8888888888888888, \"#fdca26\"], [1.0, \"#f0f921\"]], \"sequentialminus\": [[0.0, \"#0d0887\"], [0.1111111111111111, \"#46039f\"], [0.2222222222222222, \"#7201a8\"], [0.3333333333333333, \"#9c179e\"], [0.4444444444444444, \"#bd3786\"], [0.5555555555555556, \"#d8576b\"], [0.6666666666666666, \"#ed7953\"], [0.7777777777777778, \"#fb9f3a\"], [0.8888888888888888, \"#fdca26\"], [1.0, \"#f0f921\"]]}, \"colorway\": [\"#636efa\", \"#EF553B\", \"#00cc96\", \"#ab63fa\", \"#FFA15A\", \"#19d3f3\", \"#FF6692\", \"#B6E880\", \"#FF97FF\", \"#FECB52\"], \"font\": {\"color\": \"#2a3f5f\"}, \"geo\": {\"bgcolor\": \"white\", \"lakecolor\": \"white\", \"landcolor\": \"#E5ECF6\", \"showlakes\": true, \"showland\": true, \"subunitcolor\": \"white\"}, \"hoverlabel\": {\"align\": \"left\"}, \"hovermode\": \"closest\", \"mapbox\": {\"style\": \"light\"}, \"paper_bgcolor\": \"white\", \"plot_bgcolor\": \"#E5ECF6\", \"polar\": {\"angularaxis\": {\"gridcolor\": \"white\", \"linecolor\": \"white\", \"ticks\": \"\"}, \"bgcolor\": \"#E5ECF6\", \"radialaxis\": {\"gridcolor\": \"white\", \"linecolor\": \"white\", \"ticks\": \"\"}}, \"scene\": {\"xaxis\": {\"backgroundcolor\": \"#E5ECF6\", \"gridcolor\": \"white\", \"gridwidth\": 2, \"linecolor\": \"white\", \"showbackground\": true, \"ticks\": \"\", \"zerolinecolor\": \"white\"}, \"yaxis\": {\"backgroundcolor\": \"#E5ECF6\", \"gridcolor\": \"white\", \"gridwidth\": 2, \"linecolor\": \"white\", \"showbackground\": true, \"ticks\": \"\", \"zerolinecolor\": \"white\"}, \"zaxis\": {\"backgroundcolor\": \"#E5ECF6\", \"gridcolor\": \"white\", \"gridwidth\": 2, \"linecolor\": \"white\", \"showbackground\": true, \"ticks\": \"\", \"zerolinecolor\": \"white\"}}, \"shapedefaults\": {\"line\": {\"color\": \"#2a3f5f\"}}, \"ternary\": {\"aaxis\": {\"gridcolor\": \"white\", \"linecolor\": \"white\", \"ticks\": \"\"}, \"baxis\": {\"gridcolor\": \"white\", \"linecolor\": \"white\", \"ticks\": \"\"}, \"bgcolor\": \"#E5ECF6\", \"caxis\": {\"gridcolor\": \"white\", \"linecolor\": \"white\", \"ticks\": \"\"}}, \"title\": {\"x\": 0.05}, \"xaxis\": {\"automargin\": true, \"gridcolor\": \"white\", \"linecolor\": \"white\", \"ticks\": \"\", \"title\": {\"standoff\": 15}, \"zerolinecolor\": \"white\", \"zerolinewidth\": 2}, \"yaxis\": {\"automargin\": true, \"gridcolor\": \"white\", \"linecolor\": \"white\", \"ticks\": \"\", \"title\": {\"standoff\": 15}, \"zerolinecolor\": \"white\", \"zerolinewidth\": 2}}}, \"xaxis\": {\"anchor\": \"y\", \"domain\": [0.0, 1.0], \"title\": {\"text\": \"Incarceration rate for 75th percentile parent income\"}}, \"yaxis\": {\"anchor\": \"x\", \"domain\": [0.0, 1.0], \"title\": {\"text\": \"count\"}}},\n",
              "                        {\"responsive\": true}\n",
              "                    ).then(function(){\n",
              "                            \n",
              "var gd = document.getElementById('f3ccad37-017d-4d83-9c59-eb15fd4f4082');\n",
              "var x = new MutationObserver(function (mutations, observer) {{\n",
              "        var display = window.getComputedStyle(gd).display;\n",
              "        if (!display || display === 'none') {{\n",
              "            console.log([gd, 'removed!']);\n",
              "            Plotly.purge(gd);\n",
              "            observer.disconnect();\n",
              "        }}\n",
              "}});\n",
              "\n",
              "// Listen for the removal of the full notebook cells\n",
              "var notebookContainer = gd.closest('#notebook-container');\n",
              "if (notebookContainer) {{\n",
              "    x.observe(notebookContainer, {childList: true});\n",
              "}}\n",
              "\n",
              "// Listen for the clearing of the current output cell\n",
              "var outputEl = gd.closest('.output');\n",
              "if (outputEl) {{\n",
              "    x.observe(outputEl, {childList: true});\n",
              "}}\n",
              "\n",
              "                        })\n",
              "                };\n",
              "                \n",
              "            </script>\n",
              "        </div>\n",
              "</body>\n",
              "</html>"
            ]
          },
          "metadata": {
            "tags": []
          }
        }
      ]
    },
    {
      "cell_type": "code",
      "metadata": {
        "id": "xzGQmgDffDuz"
      },
      "source": [
        "hist_bal_50pct = px.histogram(df_bal_incar_merge, x = \"Incarceration_Rate_rP_gP_p50\", barmode = \"overlay\", color_discrete_sequence=[\"orange\"], labels = {\"Incarceration_Rate_rP_gP_p50\": \"Incarceration rate for 50th Percentile parent income\"})"
      ],
      "execution_count": 21,
      "outputs": []
    },
    {
      "cell_type": "code",
      "metadata": {
        "colab": {
          "base_uri": "https://localhost:8080/",
          "height": 542
        },
        "id": "O_-gv1o_fP2y",
        "outputId": "bb3fa129-f40d-48f2-f2b9-b177b2e527b7"
      },
      "source": [
        "hist_bal_50pct"
      ],
      "execution_count": 22,
      "outputs": [
        {
          "output_type": "display_data",
          "data": {
            "text/html": [
              "<html>\n",
              "<head><meta charset=\"utf-8\" /></head>\n",
              "<body>\n",
              "    <div>\n",
              "            <script src=\"https://cdnjs.cloudflare.com/ajax/libs/mathjax/2.7.5/MathJax.js?config=TeX-AMS-MML_SVG\"></script><script type=\"text/javascript\">if (window.MathJax) {MathJax.Hub.Config({SVG: {font: \"STIX-Web\"}});}</script>\n",
              "                <script type=\"text/javascript\">window.PlotlyConfig = {MathJaxConfig: 'local'};</script>\n",
              "        <script src=\"https://cdn.plot.ly/plotly-latest.min.js\"></script>    \n",
              "            <div id=\"8f76b475-50a6-44a7-ab66-8b0119df7df9\" class=\"plotly-graph-div\" style=\"height:525px; width:100%;\"></div>\n",
              "            <script type=\"text/javascript\">\n",
              "                \n",
              "                    window.PLOTLYENV=window.PLOTLYENV || {};\n",
              "                    \n",
              "                if (document.getElementById(\"8f76b475-50a6-44a7-ab66-8b0119df7df9\")) {\n",
              "                    Plotly.newPlot(\n",
              "                        '8f76b475-50a6-44a7-ab66-8b0119df7df9',\n",
              "                        [{\"alignmentgroup\": \"True\", \"bingroup\": \"x\", \"hoverlabel\": {\"namelength\": 0}, \"hovertemplate\": \"Incarceration rate for 50th Percentile parent income=%{x}<br>count=%{y}\", \"legendgroup\": \"\", \"marker\": {\"color\": \"orange\", \"opacity\": 0.5}, \"name\": \"\", \"offsetgroup\": \"\", \"orientation\": \"v\", \"showlegend\": false, \"type\": \"histogram\", \"x\": [0.1426, 0.0915, 0.0885, 0.1189, 0.0873, 0.09699999999999999, 0.0498, 0.0243, 0.0592, 0.0414, 0.0987, 0.0694, 0.0431, 0.1039, 0.0658, 0.0421, 0.057999999999999996, 0.0639, 0.0508, 0.0434, 0.038, 0.0705, 0.0485, 0.0571, 0.0403, 0.035, 0.0546, 0.0557, 0.0456, 0.0897, 0.0257, 0.0284, 0.0228, 0.0638, 0.0366, 0.0695, 0.0565, 0.0198, 0.0417, 0.0, 0.0202, 0.0554, 0.0268, 0.0769, 0.0513, 0.0428, 0.051, 0.0447, 0.0377, 0.0467, 0.0101, 0.0658, 0.0467, 0.032, 0.0246, 0.0234, 0.0073, 0.0408, 0.0509, 0.0539, 0.0466, 0.0443, 0.0347, 0.0316, 0.0498, 0.0428, 0.073, 0.0111, 0.0518, 0.0321, 0.0266, 0.0326, 0.0332, 0.0302, 0.0158, 0.0223, 0.0369, 0.0578, 0.0366, 0.0459, 0.0281, 0.038, 0.0151, 0.0341, 0.0406, 0.0312, 0.0259, 0.016, 0.0066, 0.0392, 0.0283, 0.0309, 0.0416, 0.0363, 0.0332, 0.0127, 0.0299, 0.034, 0.0308, 0.0008, 0.0273, 0.0325, 0.0134, 0.0452, 0.0222, 0.046, 0.0353, 0.0347, 0.0, 0.0335, 0.0185, 0.0418, 0.0306, 0.0263, 0.0145, 0.0175, 0.0108, 0.012, 0.008, 0.0102, 0.0114, 0.0154, 0.031, 0.0341, 0.0287, 0.0327, 0.0194, 0.0063, 0.0212, 0.0115, 0.0258, 0.0204, 0.0415, 0.0254, 0.0288, 0.0215, 0.024, 0.0264, 0.0262, 0.0271, 0.0349, 0.0083, 0.0179, 0.0327, 0.0184, 0.0239, 0.024, 0.0049, 0.0161, 0.0168, 0.0119, 0.0196, 0.0239, 0.0, 0.0218, 0.0136, 0.0162, 0.0191, 0.0233, 0.0144, 0.0227, 0.0073, 0.0161, 0.0197, 0.0253, 0.0215, 0.0119, 0.0096, 0.0148, 0.0039, 0.0196, 0.0122, 0.015, 0.0085, 0.0091, 0.0002, 0.013999999999999999, 0.0056, 0.0, 0.0, 0.0437, 0.0141, 0.0109, 0.0, 0.0029, 0.0, 0.0, 0.0042, 0.0, 0.0043, 0.0045, 0.0043, 0.0, 0.0], \"xaxis\": \"x\", \"yaxis\": \"y\"}],\n",
              "                        {\"barmode\": \"overlay\", \"legend\": {\"tracegroupgap\": 0}, \"margin\": {\"t\": 60}, \"template\": {\"data\": {\"bar\": [{\"error_x\": {\"color\": \"#2a3f5f\"}, \"error_y\": {\"color\": \"#2a3f5f\"}, \"marker\": {\"line\": {\"color\": \"#E5ECF6\", \"width\": 0.5}}, \"type\": \"bar\"}], \"barpolar\": [{\"marker\": {\"line\": {\"color\": \"#E5ECF6\", \"width\": 0.5}}, \"type\": \"barpolar\"}], \"carpet\": [{\"aaxis\": {\"endlinecolor\": \"#2a3f5f\", \"gridcolor\": \"white\", \"linecolor\": \"white\", \"minorgridcolor\": \"white\", \"startlinecolor\": \"#2a3f5f\"}, \"baxis\": {\"endlinecolor\": \"#2a3f5f\", \"gridcolor\": \"white\", \"linecolor\": \"white\", \"minorgridcolor\": \"white\", \"startlinecolor\": \"#2a3f5f\"}, \"type\": \"carpet\"}], \"choropleth\": [{\"colorbar\": {\"outlinewidth\": 0, \"ticks\": \"\"}, \"type\": \"choropleth\"}], \"contour\": [{\"colorbar\": {\"outlinewidth\": 0, \"ticks\": \"\"}, \"colorscale\": [[0.0, \"#0d0887\"], [0.1111111111111111, \"#46039f\"], [0.2222222222222222, \"#7201a8\"], [0.3333333333333333, \"#9c179e\"], [0.4444444444444444, \"#bd3786\"], [0.5555555555555556, \"#d8576b\"], [0.6666666666666666, \"#ed7953\"], [0.7777777777777778, \"#fb9f3a\"], [0.8888888888888888, \"#fdca26\"], [1.0, \"#f0f921\"]], \"type\": \"contour\"}], \"contourcarpet\": [{\"colorbar\": {\"outlinewidth\": 0, \"ticks\": \"\"}, \"type\": \"contourcarpet\"}], \"heatmap\": [{\"colorbar\": {\"outlinewidth\": 0, \"ticks\": \"\"}, \"colorscale\": [[0.0, \"#0d0887\"], [0.1111111111111111, \"#46039f\"], [0.2222222222222222, \"#7201a8\"], [0.3333333333333333, \"#9c179e\"], [0.4444444444444444, \"#bd3786\"], [0.5555555555555556, \"#d8576b\"], [0.6666666666666666, \"#ed7953\"], [0.7777777777777778, \"#fb9f3a\"], [0.8888888888888888, \"#fdca26\"], [1.0, \"#f0f921\"]], \"type\": \"heatmap\"}], \"heatmapgl\": [{\"colorbar\": {\"outlinewidth\": 0, \"ticks\": \"\"}, \"colorscale\": [[0.0, \"#0d0887\"], [0.1111111111111111, \"#46039f\"], [0.2222222222222222, \"#7201a8\"], [0.3333333333333333, \"#9c179e\"], [0.4444444444444444, \"#bd3786\"], [0.5555555555555556, \"#d8576b\"], [0.6666666666666666, \"#ed7953\"], [0.7777777777777778, \"#fb9f3a\"], [0.8888888888888888, \"#fdca26\"], [1.0, \"#f0f921\"]], \"type\": \"heatmapgl\"}], \"histogram\": [{\"marker\": {\"colorbar\": {\"outlinewidth\": 0, \"ticks\": \"\"}}, \"type\": \"histogram\"}], \"histogram2d\": [{\"colorbar\": {\"outlinewidth\": 0, \"ticks\": \"\"}, \"colorscale\": [[0.0, \"#0d0887\"], [0.1111111111111111, \"#46039f\"], [0.2222222222222222, \"#7201a8\"], [0.3333333333333333, \"#9c179e\"], [0.4444444444444444, \"#bd3786\"], [0.5555555555555556, \"#d8576b\"], [0.6666666666666666, \"#ed7953\"], [0.7777777777777778, \"#fb9f3a\"], [0.8888888888888888, \"#fdca26\"], [1.0, \"#f0f921\"]], \"type\": \"histogram2d\"}], \"histogram2dcontour\": [{\"colorbar\": {\"outlinewidth\": 0, \"ticks\": \"\"}, \"colorscale\": [[0.0, \"#0d0887\"], [0.1111111111111111, \"#46039f\"], [0.2222222222222222, \"#7201a8\"], [0.3333333333333333, \"#9c179e\"], [0.4444444444444444, \"#bd3786\"], [0.5555555555555556, \"#d8576b\"], [0.6666666666666666, \"#ed7953\"], [0.7777777777777778, \"#fb9f3a\"], [0.8888888888888888, \"#fdca26\"], [1.0, \"#f0f921\"]], \"type\": \"histogram2dcontour\"}], \"mesh3d\": [{\"colorbar\": {\"outlinewidth\": 0, \"ticks\": \"\"}, \"type\": \"mesh3d\"}], \"parcoords\": [{\"line\": {\"colorbar\": {\"outlinewidth\": 0, \"ticks\": \"\"}}, \"type\": \"parcoords\"}], \"pie\": [{\"automargin\": true, \"type\": \"pie\"}], \"scatter\": [{\"marker\": {\"colorbar\": {\"outlinewidth\": 0, \"ticks\": \"\"}}, \"type\": \"scatter\"}], \"scatter3d\": [{\"line\": {\"colorbar\": {\"outlinewidth\": 0, \"ticks\": \"\"}}, \"marker\": {\"colorbar\": {\"outlinewidth\": 0, \"ticks\": \"\"}}, \"type\": \"scatter3d\"}], \"scattercarpet\": [{\"marker\": {\"colorbar\": {\"outlinewidth\": 0, \"ticks\": \"\"}}, \"type\": \"scattercarpet\"}], \"scattergeo\": [{\"marker\": {\"colorbar\": {\"outlinewidth\": 0, \"ticks\": \"\"}}, \"type\": \"scattergeo\"}], \"scattergl\": [{\"marker\": {\"colorbar\": {\"outlinewidth\": 0, \"ticks\": \"\"}}, \"type\": \"scattergl\"}], \"scattermapbox\": [{\"marker\": {\"colorbar\": {\"outlinewidth\": 0, \"ticks\": \"\"}}, \"type\": \"scattermapbox\"}], \"scatterpolar\": [{\"marker\": {\"colorbar\": {\"outlinewidth\": 0, \"ticks\": \"\"}}, \"type\": \"scatterpolar\"}], \"scatterpolargl\": [{\"marker\": {\"colorbar\": {\"outlinewidth\": 0, \"ticks\": \"\"}}, \"type\": \"scatterpolargl\"}], \"scatterternary\": [{\"marker\": {\"colorbar\": {\"outlinewidth\": 0, \"ticks\": \"\"}}, \"type\": \"scatterternary\"}], \"surface\": [{\"colorbar\": {\"outlinewidth\": 0, \"ticks\": \"\"}, \"colorscale\": [[0.0, \"#0d0887\"], [0.1111111111111111, \"#46039f\"], [0.2222222222222222, \"#7201a8\"], [0.3333333333333333, \"#9c179e\"], [0.4444444444444444, \"#bd3786\"], [0.5555555555555556, \"#d8576b\"], [0.6666666666666666, \"#ed7953\"], [0.7777777777777778, \"#fb9f3a\"], [0.8888888888888888, \"#fdca26\"], [1.0, \"#f0f921\"]], \"type\": \"surface\"}], \"table\": [{\"cells\": {\"fill\": {\"color\": \"#EBF0F8\"}, \"line\": {\"color\": \"white\"}}, \"header\": {\"fill\": {\"color\": \"#C8D4E3\"}, \"line\": {\"color\": \"white\"}}, \"type\": \"table\"}]}, \"layout\": {\"annotationdefaults\": {\"arrowcolor\": \"#2a3f5f\", \"arrowhead\": 0, \"arrowwidth\": 1}, \"coloraxis\": {\"colorbar\": {\"outlinewidth\": 0, \"ticks\": \"\"}}, \"colorscale\": {\"diverging\": [[0, \"#8e0152\"], [0.1, \"#c51b7d\"], [0.2, \"#de77ae\"], [0.3, \"#f1b6da\"], [0.4, \"#fde0ef\"], [0.5, \"#f7f7f7\"], [0.6, \"#e6f5d0\"], [0.7, \"#b8e186\"], [0.8, \"#7fbc41\"], [0.9, \"#4d9221\"], [1, \"#276419\"]], \"sequential\": [[0.0, \"#0d0887\"], [0.1111111111111111, \"#46039f\"], [0.2222222222222222, \"#7201a8\"], [0.3333333333333333, \"#9c179e\"], [0.4444444444444444, \"#bd3786\"], [0.5555555555555556, \"#d8576b\"], [0.6666666666666666, \"#ed7953\"], [0.7777777777777778, \"#fb9f3a\"], [0.8888888888888888, \"#fdca26\"], [1.0, \"#f0f921\"]], \"sequentialminus\": [[0.0, \"#0d0887\"], [0.1111111111111111, \"#46039f\"], [0.2222222222222222, \"#7201a8\"], [0.3333333333333333, \"#9c179e\"], [0.4444444444444444, \"#bd3786\"], [0.5555555555555556, \"#d8576b\"], [0.6666666666666666, \"#ed7953\"], [0.7777777777777778, \"#fb9f3a\"], [0.8888888888888888, \"#fdca26\"], [1.0, \"#f0f921\"]]}, \"colorway\": [\"#636efa\", \"#EF553B\", \"#00cc96\", \"#ab63fa\", \"#FFA15A\", \"#19d3f3\", \"#FF6692\", \"#B6E880\", \"#FF97FF\", \"#FECB52\"], \"font\": {\"color\": \"#2a3f5f\"}, \"geo\": {\"bgcolor\": \"white\", \"lakecolor\": \"white\", \"landcolor\": \"#E5ECF6\", \"showlakes\": true, \"showland\": true, \"subunitcolor\": \"white\"}, \"hoverlabel\": {\"align\": \"left\"}, \"hovermode\": \"closest\", \"mapbox\": {\"style\": \"light\"}, \"paper_bgcolor\": \"white\", \"plot_bgcolor\": \"#E5ECF6\", \"polar\": {\"angularaxis\": {\"gridcolor\": \"white\", \"linecolor\": \"white\", \"ticks\": \"\"}, \"bgcolor\": \"#E5ECF6\", \"radialaxis\": {\"gridcolor\": \"white\", \"linecolor\": \"white\", \"ticks\": \"\"}}, \"scene\": {\"xaxis\": {\"backgroundcolor\": \"#E5ECF6\", \"gridcolor\": \"white\", \"gridwidth\": 2, \"linecolor\": \"white\", \"showbackground\": true, \"ticks\": \"\", \"zerolinecolor\": \"white\"}, \"yaxis\": {\"backgroundcolor\": \"#E5ECF6\", \"gridcolor\": \"white\", \"gridwidth\": 2, \"linecolor\": \"white\", \"showbackground\": true, \"ticks\": \"\", \"zerolinecolor\": \"white\"}, \"zaxis\": {\"backgroundcolor\": \"#E5ECF6\", \"gridcolor\": \"white\", \"gridwidth\": 2, \"linecolor\": \"white\", \"showbackground\": true, \"ticks\": \"\", \"zerolinecolor\": \"white\"}}, \"shapedefaults\": {\"line\": {\"color\": \"#2a3f5f\"}}, \"ternary\": {\"aaxis\": {\"gridcolor\": \"white\", \"linecolor\": \"white\", \"ticks\": \"\"}, \"baxis\": {\"gridcolor\": \"white\", \"linecolor\": \"white\", \"ticks\": \"\"}, \"bgcolor\": \"#E5ECF6\", \"caxis\": {\"gridcolor\": \"white\", \"linecolor\": \"white\", \"ticks\": \"\"}}, \"title\": {\"x\": 0.05}, \"xaxis\": {\"automargin\": true, \"gridcolor\": \"white\", \"linecolor\": \"white\", \"ticks\": \"\", \"title\": {\"standoff\": 15}, \"zerolinecolor\": \"white\", \"zerolinewidth\": 2}, \"yaxis\": {\"automargin\": true, \"gridcolor\": \"white\", \"linecolor\": \"white\", \"ticks\": \"\", \"title\": {\"standoff\": 15}, \"zerolinecolor\": \"white\", \"zerolinewidth\": 2}}}, \"xaxis\": {\"anchor\": \"y\", \"domain\": [0.0, 1.0], \"title\": {\"text\": \"Incarceration rate for 50th Percentile parent income\"}}, \"yaxis\": {\"anchor\": \"x\", \"domain\": [0.0, 1.0], \"title\": {\"text\": \"count\"}}},\n",
              "                        {\"responsive\": true}\n",
              "                    ).then(function(){\n",
              "                            \n",
              "var gd = document.getElementById('8f76b475-50a6-44a7-ab66-8b0119df7df9');\n",
              "var x = new MutationObserver(function (mutations, observer) {{\n",
              "        var display = window.getComputedStyle(gd).display;\n",
              "        if (!display || display === 'none') {{\n",
              "            console.log([gd, 'removed!']);\n",
              "            Plotly.purge(gd);\n",
              "            observer.disconnect();\n",
              "        }}\n",
              "}});\n",
              "\n",
              "// Listen for the removal of the full notebook cells\n",
              "var notebookContainer = gd.closest('#notebook-container');\n",
              "if (notebookContainer) {{\n",
              "    x.observe(notebookContainer, {childList: true});\n",
              "}}\n",
              "\n",
              "// Listen for the clearing of the current output cell\n",
              "var outputEl = gd.closest('.output');\n",
              "if (outputEl) {{\n",
              "    x.observe(outputEl, {childList: true});\n",
              "}}\n",
              "\n",
              "                        })\n",
              "                };\n",
              "                \n",
              "            </script>\n",
              "        </div>\n",
              "</body>\n",
              "</html>"
            ]
          },
          "metadata": {
            "tags": []
          }
        }
      ]
    },
    {
      "cell_type": "code",
      "metadata": {
        "id": "JbLHN3sAg4lB"
      },
      "source": [
        "hist_bal_25pct = px.histogram(df_bal_incar_merge, x = \"Incarceration_Rate_rP_gP_p25\", barmode = \"overlay\", color_discrete_sequence=[\"green\"], labels = {\"Incarceration_Rate_rP_gP_p25\": \"Incarceration rate for 25th percentile parent income\"})"
      ],
      "execution_count": 23,
      "outputs": []
    },
    {
      "cell_type": "code",
      "metadata": {
        "colab": {
          "base_uri": "https://localhost:8080/",
          "height": 542
        },
        "id": "wpAnAjUjhK75",
        "outputId": "a90ba98a-9a0c-4d93-b164-ff70c11c8547"
      },
      "source": [
        "hist_bal_25pct"
      ],
      "execution_count": 24,
      "outputs": [
        {
          "output_type": "display_data",
          "data": {
            "text/html": [
              "<html>\n",
              "<head><meta charset=\"utf-8\" /></head>\n",
              "<body>\n",
              "    <div>\n",
              "            <script src=\"https://cdnjs.cloudflare.com/ajax/libs/mathjax/2.7.5/MathJax.js?config=TeX-AMS-MML_SVG\"></script><script type=\"text/javascript\">if (window.MathJax) {MathJax.Hub.Config({SVG: {font: \"STIX-Web\"}});}</script>\n",
              "                <script type=\"text/javascript\">window.PlotlyConfig = {MathJaxConfig: 'local'};</script>\n",
              "        <script src=\"https://cdn.plot.ly/plotly-latest.min.js\"></script>    \n",
              "            <div id=\"9ee944c5-1883-4d7f-a505-3dbe9a1b3cce\" class=\"plotly-graph-div\" style=\"height:525px; width:100%;\"></div>\n",
              "            <script type=\"text/javascript\">\n",
              "                \n",
              "                    window.PLOTLYENV=window.PLOTLYENV || {};\n",
              "                    \n",
              "                if (document.getElementById(\"9ee944c5-1883-4d7f-a505-3dbe9a1b3cce\")) {\n",
              "                    Plotly.newPlot(\n",
              "                        '9ee944c5-1883-4d7f-a505-3dbe9a1b3cce',\n",
              "                        [{\"alignmentgroup\": \"True\", \"bingroup\": \"x\", \"hoverlabel\": {\"namelength\": 0}, \"hovertemplate\": \"Incarceration rate for 25th percentile parent income=%{x}<br>count=%{y}\", \"legendgroup\": \"\", \"marker\": {\"color\": \"green\", \"opacity\": 0.5}, \"name\": \"\", \"offsetgroup\": \"\", \"orientation\": \"v\", \"showlegend\": false, \"type\": \"histogram\", \"x\": [0.1305, 0.1128, 0.1135, 0.102, 0.1061, 0.105, 0.0911, 0.0702, 0.0927, 0.085, 0.0901, 0.0779, 0.0692, 0.0982, 0.0854, 0.0726, 0.0723, 0.0773, 0.0806, 0.07200000000000001, 0.0605, 0.0787, 0.0496, 0.0721, 0.0624, 0.0998, 0.069, 0.0984, 0.0872, 0.0778, 0.0519, 0.0755, 0.0541, 0.0762, 0.0597, 0.0581, 0.0706, 0.0655, 0.0679, 0.0532, 0.063, 0.0563, 0.0689, 0.0597, 0.0587, 0.0631, 0.0716, 0.0525, 0.0532, 0.0717, 0.0648, 0.0591, 0.0546, 0.0345, 0.0572, 0.0352, 0.0565, 0.0646, 0.0585, 0.0616, 0.0737, 0.0849, 0.0534, 0.0648, 0.0592, 0.0589, 0.0503, 0.045, 0.0502, 0.0688, 0.0523, 0.0596, 0.0838, 0.0541, 0.0486, 0.0638, 0.0589, 0.0452, 0.066, 0.0523, 0.05, 0.0544, 0.0549, 0.0424, 0.0507, 0.0526, 0.0795, 0.0385, 0.0531, 0.0395, 0.0532, 0.0412, 0.0504, 0.0474, 0.0534, 0.0374, 0.0422, 0.0401, 0.0417, 0.0449, 0.0724, 0.0514, 0.0324, 0.0353, 0.0459, 0.0653, 0.0528, 0.0635, 0.0, 0.0311, 0.0384, 0.0583, 0.026000000000000002, 0.0517, 0.0505, 0.0354, 0.0316, 0.0284, 0.0499, 0.0403, 0.0446, 0.0469, 0.0568, 0.038, 0.0422, 0.0545, 0.0477, 0.0181, 0.0501, 0.035, 0.0355, 0.0413, 0.0508, 0.039, 0.0372, 0.0277, 0.0111, 0.0384, 0.0518, 0.0217, 0.0402, 0.0374, 0.0274, 0.0333, 0.0326, 0.0211, 0.0258, 0.0177, 0.0087, 0.0347, 0.0258, 0.0574, 0.0757, 0.0241, 0.0464, 0.0403, 0.0277, 0.0459, 0.0457, 0.0345, 0.0438, 0.0262, 0.038, 0.0404, 0.0725, 0.02, 0.0226, 0.0219, 0.0067, 0.0107, 0.0618, 0.0176, 0.0278, 0.0015, 0.0224, 0.0, 0.0202, 0.0274, 0.0119, 0.0103, 0.1091, 0.0575, 0.0163, 0.0, 0.0004, 0.0, 0.0, 0.0098, 0.0, 0.017, 0.0099, 0.0159, 0.0, 0.0], \"xaxis\": \"x\", \"yaxis\": \"y\"}],\n",
              "                        {\"barmode\": \"overlay\", \"legend\": {\"tracegroupgap\": 0}, \"margin\": {\"t\": 60}, \"template\": {\"data\": {\"bar\": [{\"error_x\": {\"color\": \"#2a3f5f\"}, \"error_y\": {\"color\": \"#2a3f5f\"}, \"marker\": {\"line\": {\"color\": \"#E5ECF6\", \"width\": 0.5}}, \"type\": \"bar\"}], \"barpolar\": [{\"marker\": {\"line\": {\"color\": \"#E5ECF6\", \"width\": 0.5}}, \"type\": \"barpolar\"}], \"carpet\": [{\"aaxis\": {\"endlinecolor\": \"#2a3f5f\", \"gridcolor\": \"white\", \"linecolor\": \"white\", \"minorgridcolor\": \"white\", \"startlinecolor\": \"#2a3f5f\"}, \"baxis\": {\"endlinecolor\": \"#2a3f5f\", \"gridcolor\": \"white\", \"linecolor\": \"white\", \"minorgridcolor\": \"white\", \"startlinecolor\": \"#2a3f5f\"}, \"type\": \"carpet\"}], \"choropleth\": [{\"colorbar\": {\"outlinewidth\": 0, \"ticks\": \"\"}, \"type\": \"choropleth\"}], \"contour\": [{\"colorbar\": {\"outlinewidth\": 0, \"ticks\": \"\"}, \"colorscale\": [[0.0, \"#0d0887\"], [0.1111111111111111, \"#46039f\"], [0.2222222222222222, \"#7201a8\"], [0.3333333333333333, \"#9c179e\"], [0.4444444444444444, \"#bd3786\"], [0.5555555555555556, \"#d8576b\"], [0.6666666666666666, \"#ed7953\"], [0.7777777777777778, \"#fb9f3a\"], [0.8888888888888888, \"#fdca26\"], [1.0, \"#f0f921\"]], \"type\": \"contour\"}], \"contourcarpet\": [{\"colorbar\": {\"outlinewidth\": 0, \"ticks\": \"\"}, \"type\": \"contourcarpet\"}], \"heatmap\": [{\"colorbar\": {\"outlinewidth\": 0, \"ticks\": \"\"}, \"colorscale\": [[0.0, \"#0d0887\"], [0.1111111111111111, \"#46039f\"], [0.2222222222222222, \"#7201a8\"], [0.3333333333333333, \"#9c179e\"], [0.4444444444444444, \"#bd3786\"], [0.5555555555555556, \"#d8576b\"], [0.6666666666666666, \"#ed7953\"], [0.7777777777777778, \"#fb9f3a\"], [0.8888888888888888, \"#fdca26\"], [1.0, \"#f0f921\"]], \"type\": \"heatmap\"}], \"heatmapgl\": [{\"colorbar\": {\"outlinewidth\": 0, \"ticks\": \"\"}, \"colorscale\": [[0.0, \"#0d0887\"], [0.1111111111111111, \"#46039f\"], [0.2222222222222222, \"#7201a8\"], [0.3333333333333333, \"#9c179e\"], [0.4444444444444444, \"#bd3786\"], [0.5555555555555556, \"#d8576b\"], [0.6666666666666666, \"#ed7953\"], [0.7777777777777778, \"#fb9f3a\"], [0.8888888888888888, \"#fdca26\"], [1.0, \"#f0f921\"]], \"type\": \"heatmapgl\"}], \"histogram\": [{\"marker\": {\"colorbar\": {\"outlinewidth\": 0, \"ticks\": \"\"}}, \"type\": \"histogram\"}], \"histogram2d\": [{\"colorbar\": {\"outlinewidth\": 0, \"ticks\": \"\"}, \"colorscale\": [[0.0, \"#0d0887\"], [0.1111111111111111, \"#46039f\"], [0.2222222222222222, \"#7201a8\"], [0.3333333333333333, \"#9c179e\"], [0.4444444444444444, \"#bd3786\"], [0.5555555555555556, \"#d8576b\"], [0.6666666666666666, \"#ed7953\"], [0.7777777777777778, \"#fb9f3a\"], [0.8888888888888888, \"#fdca26\"], [1.0, \"#f0f921\"]], \"type\": \"histogram2d\"}], \"histogram2dcontour\": [{\"colorbar\": {\"outlinewidth\": 0, \"ticks\": \"\"}, \"colorscale\": [[0.0, \"#0d0887\"], [0.1111111111111111, \"#46039f\"], [0.2222222222222222, \"#7201a8\"], [0.3333333333333333, \"#9c179e\"], [0.4444444444444444, \"#bd3786\"], [0.5555555555555556, \"#d8576b\"], [0.6666666666666666, \"#ed7953\"], [0.7777777777777778, \"#fb9f3a\"], [0.8888888888888888, \"#fdca26\"], [1.0, \"#f0f921\"]], \"type\": \"histogram2dcontour\"}], \"mesh3d\": [{\"colorbar\": {\"outlinewidth\": 0, \"ticks\": \"\"}, \"type\": \"mesh3d\"}], \"parcoords\": [{\"line\": {\"colorbar\": {\"outlinewidth\": 0, \"ticks\": \"\"}}, \"type\": \"parcoords\"}], \"pie\": [{\"automargin\": true, \"type\": \"pie\"}], \"scatter\": [{\"marker\": {\"colorbar\": {\"outlinewidth\": 0, \"ticks\": \"\"}}, \"type\": \"scatter\"}], \"scatter3d\": [{\"line\": {\"colorbar\": {\"outlinewidth\": 0, \"ticks\": \"\"}}, \"marker\": {\"colorbar\": {\"outlinewidth\": 0, \"ticks\": \"\"}}, \"type\": \"scatter3d\"}], \"scattercarpet\": [{\"marker\": {\"colorbar\": {\"outlinewidth\": 0, \"ticks\": \"\"}}, \"type\": \"scattercarpet\"}], \"scattergeo\": [{\"marker\": {\"colorbar\": {\"outlinewidth\": 0, \"ticks\": \"\"}}, \"type\": \"scattergeo\"}], \"scattergl\": [{\"marker\": {\"colorbar\": {\"outlinewidth\": 0, \"ticks\": \"\"}}, \"type\": \"scattergl\"}], \"scattermapbox\": [{\"marker\": {\"colorbar\": {\"outlinewidth\": 0, \"ticks\": \"\"}}, \"type\": \"scattermapbox\"}], \"scatterpolar\": [{\"marker\": {\"colorbar\": {\"outlinewidth\": 0, \"ticks\": \"\"}}, \"type\": \"scatterpolar\"}], \"scatterpolargl\": [{\"marker\": {\"colorbar\": {\"outlinewidth\": 0, \"ticks\": \"\"}}, \"type\": \"scatterpolargl\"}], \"scatterternary\": [{\"marker\": {\"colorbar\": {\"outlinewidth\": 0, \"ticks\": \"\"}}, \"type\": \"scatterternary\"}], \"surface\": [{\"colorbar\": {\"outlinewidth\": 0, \"ticks\": \"\"}, \"colorscale\": [[0.0, \"#0d0887\"], [0.1111111111111111, \"#46039f\"], [0.2222222222222222, \"#7201a8\"], [0.3333333333333333, \"#9c179e\"], [0.4444444444444444, \"#bd3786\"], [0.5555555555555556, \"#d8576b\"], [0.6666666666666666, \"#ed7953\"], [0.7777777777777778, \"#fb9f3a\"], [0.8888888888888888, \"#fdca26\"], [1.0, \"#f0f921\"]], \"type\": \"surface\"}], \"table\": [{\"cells\": {\"fill\": {\"color\": \"#EBF0F8\"}, \"line\": {\"color\": \"white\"}}, \"header\": {\"fill\": {\"color\": \"#C8D4E3\"}, \"line\": {\"color\": \"white\"}}, \"type\": \"table\"}]}, \"layout\": {\"annotationdefaults\": {\"arrowcolor\": \"#2a3f5f\", \"arrowhead\": 0, \"arrowwidth\": 1}, \"coloraxis\": {\"colorbar\": {\"outlinewidth\": 0, \"ticks\": \"\"}}, \"colorscale\": {\"diverging\": [[0, \"#8e0152\"], [0.1, \"#c51b7d\"], [0.2, \"#de77ae\"], [0.3, \"#f1b6da\"], [0.4, \"#fde0ef\"], [0.5, \"#f7f7f7\"], [0.6, \"#e6f5d0\"], [0.7, \"#b8e186\"], [0.8, \"#7fbc41\"], [0.9, \"#4d9221\"], [1, \"#276419\"]], \"sequential\": [[0.0, \"#0d0887\"], [0.1111111111111111, \"#46039f\"], [0.2222222222222222, \"#7201a8\"], [0.3333333333333333, \"#9c179e\"], [0.4444444444444444, \"#bd3786\"], [0.5555555555555556, \"#d8576b\"], [0.6666666666666666, \"#ed7953\"], [0.7777777777777778, \"#fb9f3a\"], [0.8888888888888888, \"#fdca26\"], [1.0, \"#f0f921\"]], \"sequentialminus\": [[0.0, \"#0d0887\"], [0.1111111111111111, \"#46039f\"], [0.2222222222222222, \"#7201a8\"], [0.3333333333333333, \"#9c179e\"], [0.4444444444444444, \"#bd3786\"], [0.5555555555555556, \"#d8576b\"], [0.6666666666666666, \"#ed7953\"], [0.7777777777777778, \"#fb9f3a\"], [0.8888888888888888, \"#fdca26\"], [1.0, \"#f0f921\"]]}, \"colorway\": [\"#636efa\", \"#EF553B\", \"#00cc96\", \"#ab63fa\", \"#FFA15A\", \"#19d3f3\", \"#FF6692\", \"#B6E880\", \"#FF97FF\", \"#FECB52\"], \"font\": {\"color\": \"#2a3f5f\"}, \"geo\": {\"bgcolor\": \"white\", \"lakecolor\": \"white\", \"landcolor\": \"#E5ECF6\", \"showlakes\": true, \"showland\": true, \"subunitcolor\": \"white\"}, \"hoverlabel\": {\"align\": \"left\"}, \"hovermode\": \"closest\", \"mapbox\": {\"style\": \"light\"}, \"paper_bgcolor\": \"white\", \"plot_bgcolor\": \"#E5ECF6\", \"polar\": {\"angularaxis\": {\"gridcolor\": \"white\", \"linecolor\": \"white\", \"ticks\": \"\"}, \"bgcolor\": \"#E5ECF6\", \"radialaxis\": {\"gridcolor\": \"white\", \"linecolor\": \"white\", \"ticks\": \"\"}}, \"scene\": {\"xaxis\": {\"backgroundcolor\": \"#E5ECF6\", \"gridcolor\": \"white\", \"gridwidth\": 2, \"linecolor\": \"white\", \"showbackground\": true, \"ticks\": \"\", \"zerolinecolor\": \"white\"}, \"yaxis\": {\"backgroundcolor\": \"#E5ECF6\", \"gridcolor\": \"white\", \"gridwidth\": 2, \"linecolor\": \"white\", \"showbackground\": true, \"ticks\": \"\", \"zerolinecolor\": \"white\"}, \"zaxis\": {\"backgroundcolor\": \"#E5ECF6\", \"gridcolor\": \"white\", \"gridwidth\": 2, \"linecolor\": \"white\", \"showbackground\": true, \"ticks\": \"\", \"zerolinecolor\": \"white\"}}, \"shapedefaults\": {\"line\": {\"color\": \"#2a3f5f\"}}, \"ternary\": {\"aaxis\": {\"gridcolor\": \"white\", \"linecolor\": \"white\", \"ticks\": \"\"}, \"baxis\": {\"gridcolor\": \"white\", \"linecolor\": \"white\", \"ticks\": \"\"}, \"bgcolor\": \"#E5ECF6\", \"caxis\": {\"gridcolor\": \"white\", \"linecolor\": \"white\", \"ticks\": \"\"}}, \"title\": {\"x\": 0.05}, \"xaxis\": {\"automargin\": true, \"gridcolor\": \"white\", \"linecolor\": \"white\", \"ticks\": \"\", \"title\": {\"standoff\": 15}, \"zerolinecolor\": \"white\", \"zerolinewidth\": 2}, \"yaxis\": {\"automargin\": true, \"gridcolor\": \"white\", \"linecolor\": \"white\", \"ticks\": \"\", \"title\": {\"standoff\": 15}, \"zerolinecolor\": \"white\", \"zerolinewidth\": 2}}}, \"xaxis\": {\"anchor\": \"y\", \"domain\": [0.0, 1.0], \"title\": {\"text\": \"Incarceration rate for 25th percentile parent income\"}}, \"yaxis\": {\"anchor\": \"x\", \"domain\": [0.0, 1.0], \"title\": {\"text\": \"count\"}}},\n",
              "                        {\"responsive\": true}\n",
              "                    ).then(function(){\n",
              "                            \n",
              "var gd = document.getElementById('9ee944c5-1883-4d7f-a505-3dbe9a1b3cce');\n",
              "var x = new MutationObserver(function (mutations, observer) {{\n",
              "        var display = window.getComputedStyle(gd).display;\n",
              "        if (!display || display === 'none') {{\n",
              "            console.log([gd, 'removed!']);\n",
              "            Plotly.purge(gd);\n",
              "            observer.disconnect();\n",
              "        }}\n",
              "}});\n",
              "\n",
              "// Listen for the removal of the full notebook cells\n",
              "var notebookContainer = gd.closest('#notebook-container');\n",
              "if (notebookContainer) {{\n",
              "    x.observe(notebookContainer, {childList: true});\n",
              "}}\n",
              "\n",
              "// Listen for the clearing of the current output cell\n",
              "var outputEl = gd.closest('.output');\n",
              "if (outputEl) {{\n",
              "    x.observe(outputEl, {childList: true});\n",
              "}}\n",
              "\n",
              "                        })\n",
              "                };\n",
              "                \n",
              "            </script>\n",
              "        </div>\n",
              "</body>\n",
              "</html>"
            ]
          },
          "metadata": {
            "tags": []
          }
        }
      ]
    },
    {
      "cell_type": "code",
      "metadata": {
        "colab": {
          "base_uri": "https://localhost:8080/",
          "height": 542
        },
        "id": "BZNjVUABdUj8",
        "outputId": "97de8f8c-d202-48b5-e245-a08825b0960f"
      },
      "source": [
        "hist_data = [df_bal_incar_merge[\"Incarceration_Rate_rP_gP_p75\"].tolist(),df_bal_incar_merge[\"Incarceration_Rate_rP_gP_p50\"].tolist(), df_bal_incar_merge[\"Incarceration_Rate_rP_gP_p25\"].tolist()]\n",
        "group_labels = [\"75th Percentile\", \"50th Percentile\", \"25th Percentile\"]\n",
        "\n",
        "# define the histogram \n",
        "distplot = ff.create_distplot(hist_data, \n",
        "                              group_labels,\n",
        "                              show_rug= False, \n",
        "                              show_hist= False)   \n",
        "\n",
        "\n",
        "distplot.update_layout(title_text=\"Distribution of Different Percentiles\") \n",
        "distplot.update_xaxes(title = \"Incarceration Rate\") \n",
        "distplot.update_yaxes(title = \"Number of neighborhoods\") "
      ],
      "execution_count": 25,
      "outputs": [
        {
          "output_type": "display_data",
          "data": {
            "text/html": [
              "<html>\n",
              "<head><meta charset=\"utf-8\" /></head>\n",
              "<body>\n",
              "    <div>\n",
              "            <script src=\"https://cdnjs.cloudflare.com/ajax/libs/mathjax/2.7.5/MathJax.js?config=TeX-AMS-MML_SVG\"></script><script type=\"text/javascript\">if (window.MathJax) {MathJax.Hub.Config({SVG: {font: \"STIX-Web\"}});}</script>\n",
              "                <script type=\"text/javascript\">window.PlotlyConfig = {MathJaxConfig: 'local'};</script>\n",
              "        <script src=\"https://cdn.plot.ly/plotly-latest.min.js\"></script>    \n",
              "            <div id=\"69675a28-ea81-4d33-838c-cb2b6170f963\" class=\"plotly-graph-div\" style=\"height:525px; width:100%;\"></div>\n",
              "            <script type=\"text/javascript\">\n",
              "                \n",
              "                    window.PLOTLYENV=window.PLOTLYENV || {};\n",
              "                    \n",
              "                if (document.getElementById(\"69675a28-ea81-4d33-838c-cb2b6170f963\")) {\n",
              "                    Plotly.newPlot(\n",
              "                        '69675a28-ea81-4d33-838c-cb2b6170f963',\n",
              "                        [{\"legendgroup\": \"75th Percentile\", \"marker\": {\"color\": \"rgb(31, 119, 180)\"}, \"mode\": \"lines\", \"name\": \"75th Percentile\", \"showlegend\": true, \"type\": \"scatter\", \"x\": [0.0, 0.0002972, 0.0005944, 0.0008916000000000001, 0.0011888, 0.0014860000000000001, 0.0017832000000000002, 0.0020804, 0.0023776, 0.0026748, 0.0029720000000000002, 0.0032692000000000003, 0.0035664000000000004, 0.0038636000000000005, 0.0041608, 0.004458, 0.0047552, 0.0050524, 0.0053496, 0.0056468, 0.0059440000000000005, 0.0062412, 0.006538400000000001, 0.006835600000000001, 0.007132800000000001, 0.007430000000000001, 0.007727200000000001, 0.0080244, 0.0083216, 0.0086188, 0.008916, 0.009213200000000001, 0.0095104, 0.009807600000000001, 0.0101048, 0.010402000000000002, 0.0106992, 0.010996400000000002, 0.0112936, 0.011590800000000002, 0.011888000000000001, 0.0121852, 0.0124824, 0.0127796, 0.013076800000000001, 0.013374, 0.013671200000000001, 0.0139684, 0.014265600000000002, 0.0145628, 0.014860000000000002, 0.015157200000000001, 0.015454400000000002, 0.0157516, 0.0160488, 0.016346, 0.0166432, 0.0169404, 0.0172376, 0.0175348, 0.017832, 0.0181292, 0.018426400000000002, 0.0187236, 0.0190208, 0.019318000000000002, 0.019615200000000003, 0.0199124, 0.0202096, 0.020506800000000002, 0.020804000000000003, 0.0211012, 0.0213984, 0.021695600000000002, 0.021992800000000003, 0.022290000000000004, 0.0225872, 0.022884400000000003, 0.023181600000000004, 0.023478800000000005, 0.023776000000000002, 0.0240732, 0.0243704, 0.0246676, 0.0249648, 0.025262, 0.0255592, 0.0258564, 0.026153600000000003, 0.0264508, 0.026748, 0.027045200000000002, 0.027342400000000003, 0.0276396, 0.0279368, 0.028234000000000002, 0.028531200000000003, 0.0288284, 0.0291256, 0.029422800000000002, 0.029720000000000003, 0.0300172, 0.030314400000000002, 0.030611600000000003, 0.030908800000000004, 0.031206000000000005, 0.0315032, 0.031800400000000006, 0.0320976, 0.0323948, 0.032692, 0.0329892, 0.0332864, 0.033583600000000005, 0.0338808, 0.03417800000000001, 0.0344752, 0.0347724, 0.0350696, 0.035366800000000004, 0.035664, 0.035961200000000006, 0.0362584, 0.03655560000000001, 0.036852800000000005, 0.03715, 0.0374472, 0.037744400000000004, 0.0380416, 0.0383388, 0.038636000000000004, 0.0389332, 0.039230400000000006, 0.0395276, 0.0398248, 0.040122, 0.0404192, 0.0407164, 0.041013600000000004, 0.0413108, 0.041608000000000006, 0.041905200000000004, 0.0422024, 0.0424996, 0.0427968, 0.043094, 0.043391200000000005, 0.0436884, 0.04398560000000001, 0.044282800000000004, 0.04458000000000001, 0.0448772, 0.0451744, 0.0454716, 0.045768800000000005, 0.046066, 0.04636320000000001, 0.046660400000000005, 0.04695760000000001, 0.0472548, 0.047552000000000004, 0.0478492, 0.0481464, 0.0484436, 0.0487408, 0.049038000000000005, 0.0493352, 0.04963240000000001, 0.0499296, 0.0502268, 0.050524, 0.050821200000000004, 0.0511184, 0.051415600000000006, 0.0517128, 0.05201000000000001, 0.052307200000000005, 0.0526044, 0.0529016, 0.053198800000000004, 0.053496, 0.053793200000000006, 0.054090400000000004, 0.05438760000000001, 0.054684800000000006, 0.054982, 0.0552792, 0.055576400000000005, 0.0558736, 0.05617080000000001, 0.056468000000000004, 0.05676520000000001, 0.057062400000000006, 0.057359600000000004, 0.0576568, 0.057954, 0.0582512, 0.0585484, 0.058845600000000005, 0.0591428, 0.05944000000000001, 0.059737200000000004, 0.0600344, 0.0603316, 0.060628800000000004, 0.060926, 0.061223200000000005, 0.0615204, 0.06181760000000001, 0.062114800000000005, 0.06241200000000001, 0.0627092, 0.0630064, 0.0633036, 0.06360080000000001, 0.063898, 0.0641952, 0.0644924, 0.0647896, 0.06508680000000001, 0.065384, 0.06568120000000001, 0.0659784, 0.06627560000000002, 0.0665728, 0.06687, 0.06716720000000001, 0.0674644, 0.0677616, 0.0680588, 0.06835600000000001, 0.0686532, 0.0689504, 0.0692476, 0.0695448, 0.069842, 0.0701392, 0.07043640000000001, 0.07073360000000001, 0.0710308, 0.071328, 0.0716252, 0.07192240000000001, 0.0722196, 0.0725168, 0.072814, 0.07311120000000002, 0.0734084, 0.07370560000000001, 0.07400280000000001, 0.0743, 0.0745972, 0.0748944, 0.07519160000000001, 0.07548880000000001, 0.075786, 0.0760832, 0.07638040000000001, 0.0766776, 0.0769748, 0.07727200000000001, 0.0775692, 0.0778664, 0.0781636, 0.07846080000000001, 0.07875800000000001, 0.0790552, 0.0793524, 0.0796496, 0.07994680000000001, 0.080244, 0.08054120000000001, 0.0808384, 0.08113560000000002, 0.0814328, 0.08173, 0.08202720000000001, 0.0823244, 0.0826216, 0.0829188, 0.08321600000000001, 0.08351320000000001, 0.08381040000000001, 0.0841076, 0.0844048, 0.08470200000000001, 0.0849992, 0.08529640000000001, 0.0855936, 0.0858908, 0.086188, 0.08648520000000001, 0.08678240000000001, 0.0870796, 0.0873768, 0.087674, 0.08797120000000001, 0.0882684, 0.08856560000000001, 0.0888628, 0.08916000000000002, 0.0894572, 0.0897544, 0.09005160000000001, 0.0903488, 0.090646, 0.0909432, 0.09124040000000001, 0.09153760000000001, 0.09183480000000001, 0.092132, 0.0924292, 0.09272640000000001, 0.0930236, 0.09332080000000001, 0.093618, 0.09391520000000002, 0.0942124, 0.0945096, 0.09480680000000001, 0.09510400000000001, 0.0954012, 0.0956984, 0.09599560000000001, 0.0962928, 0.09659000000000001, 0.0968872, 0.0971844, 0.0974816, 0.0977788, 0.09807600000000001, 0.09837320000000001, 0.0986704, 0.0989676, 0.09926480000000001, 0.09956200000000001, 0.0998592, 0.1001564, 0.1004536, 0.10075080000000002, 0.101048, 0.10134520000000001, 0.10164240000000001, 0.10193960000000002, 0.1022368, 0.102534, 0.10283120000000001, 0.10312840000000001, 0.1034256, 0.1037228, 0.10402000000000002, 0.10431720000000001, 0.10461440000000001, 0.10491160000000001, 0.1052088, 0.105506, 0.1058032, 0.10610040000000001, 0.10639760000000001, 0.1066948, 0.106992, 0.1072892, 0.10758640000000001, 0.1078836, 0.10818080000000001, 0.108478, 0.10877520000000002, 0.1090724, 0.10936960000000001, 0.10966680000000001, 0.109964, 0.1102612, 0.1105584, 0.11085560000000001, 0.11115280000000001, 0.11145000000000001, 0.1117472, 0.11204440000000002, 0.11234160000000001, 0.1126388, 0.11293600000000001, 0.1132332, 0.11353040000000002, 0.1138276, 0.11412480000000001, 0.11442200000000001, 0.11471920000000001, 0.1150164, 0.1153136, 0.11561080000000001, 0.115908, 0.11620520000000001, 0.1165024, 0.11679960000000002, 0.1170968, 0.11739400000000001, 0.11769120000000001, 0.11798840000000001, 0.1182856, 0.1185828, 0.11888000000000001, 0.11917720000000001, 0.11947440000000001, 0.1197716, 0.1200688, 0.12036600000000001, 0.1206632, 0.12096040000000001, 0.12125760000000001, 0.12155480000000002, 0.121852, 0.12214920000000001, 0.12244640000000001, 0.12274360000000001, 0.1230408, 0.123338, 0.12363520000000001, 0.1239324, 0.12422960000000001, 0.1245268, 0.12482400000000002, 0.1251212, 0.1254184, 0.1257156, 0.1260128, 0.12631, 0.1266072, 0.1269044, 0.12720160000000003, 0.1274988, 0.127796, 0.1280932, 0.1283904, 0.1286876, 0.1289848, 0.129282, 0.1295792, 0.12987640000000003, 0.13017360000000003, 0.1304708, 0.130768, 0.1310652, 0.13136240000000002, 0.13165960000000002, 0.1319568, 0.132254, 0.13255120000000004, 0.1328484, 0.1331456, 0.1334428, 0.13374, 0.13403720000000002, 0.13433440000000002, 0.13463160000000002, 0.1349288, 0.135226, 0.1355232, 0.1358204, 0.1361176, 0.1364148, 0.13671200000000003, 0.13700920000000003, 0.1373064, 0.1376036, 0.1379008, 0.13819800000000002, 0.1384952, 0.1387924, 0.1390896, 0.13938680000000003, 0.139684, 0.1399812, 0.1402784, 0.1405756, 0.14087280000000002, 0.14117000000000002, 0.14146720000000002, 0.1417644, 0.1420616, 0.1423588, 0.142656, 0.1429532, 0.1432504, 0.14354760000000003, 0.14384480000000002, 0.144142, 0.1444392, 0.14473640000000002, 0.1450336, 0.1453308, 0.145628, 0.1459252, 0.14622240000000003, 0.1465196, 0.1468168, 0.147114, 0.14741120000000002, 0.14770840000000002, 0.14800560000000001, 0.1483028], \"xaxis\": \"x\", \"y\": [17.525055174757803, 17.763359325315527, 17.991125579564653, 18.20804872567499, 18.413857082067363, 18.608313486285986, 18.79121610902502, 18.9623990889361, 19.121732985081465, 19.269125045154137, 19.40451928884383, 19.527896406981828, 19.639273478330775, 19.73870350709323, 19.826274785380708, 19.90211008600495, 19.966365692016776, 20.01923027041735, 20.060923598392115, 20.091695151266084, 20.11182256214269, 20.121609963862586, 20.121386224501478, 20.11150308811259, 20.092333232809725, 20.064268258579908, 20.027716617409457, 19.983101498407706, 19.930858680617483, 19.87143436611643, 19.805283005840245, 19.732865130303203, 19.654645197056567, 19.571089466319265, 19.48266391574176, 19.38983220472865, 19.29305369815964, 19.192781558710877, 19.08946091630539, 18.983527122511532, 18.87540409697285, 18.765502772199643, 18.654219642283028, 18.541935420319085, 18.42901380855625, 18.315800384508726, 18.202621605521212, 18.08978393352683, 17.97757308101821, 17.866253378552663, 17.756067263443885, 17.64723488865301, 17.53995385028723, 17.434399031546327, 17.33072256042608, 17.22905387799733, 17.12949991362736, 17.032145363100526, 16.937053065225186, 16.844264472184957, 16.753800208603145, 16.665660714039316, 16.579826963424733, 16.496261259768882, 16.414908093329274, 16.335695061329506, 16.258533842238283, 16.1833212185763, 16.109940142202486, 16.03826083604194, 15.9681419262522, 15.899431598882815, 15.83196877516003, 15.765584299627841, 15.700102135489361, 15.635340561624666, 15.571113365905708, 15.50723102958663, 15.443501897719077, 15.379733330721695, 15.315732832424812, 15.251309150110535, 15.18627334227689, 15.12043981007085, 15.053627288557573, 14.985659794224071, 14.916367525351502, 14.84558771213295, 14.773165413662717, 14.698954259177409, 14.62281713118914, 14.544626788417027, 14.464266426693495, 14.381630176297772, 14.296623534449841, 14.209163731981661, 14.11918003349232, 14.026613970584675, 13.931419508076267, 13.833563143373723, 13.733023939497802, 13.629793492543985, 13.523875834661172, 13.415287273925165, 13.304056172777068, 13.190222666981922, 13.073838327344493, 12.954965766692947, 12.833678194902781, 12.710058924987493, 12.58420083352118, 12.45620577888256, 12.32618398101972, 12.194253366623302, 12.060538883768514, 11.92517179023265, 11.788288919823966, 11.650031931156704, 11.510546543385066, 11.369981763457874, 11.228489109477147, 11.086221834737831, 10.94333415699047, 10.799980497404501, 10.65631473361537, 10.512489471117942, 10.368655337116005, 10.22496030076058, 10.081549023503634, 9.93856224306373, 9.796136194245008, 9.654402069575276, 9.513485522430203, 9.37350621499788, 9.23457741310544, 9.096805629587513, 8.96029031752073, 8.825123614288321, 8.691390137071076, 8.559166829994963, 8.428522862796754, 8.299519580509132, 8.172210503310014, 8.046641375337149, 7.922850260937051, 7.800867686501807, 7.680716825749801, 7.562413726029045, 7.445967572969838, 7.331380990581963, 7.218650373692413, 7.107766249442713, 6.998713664422144, 6.891472593897127, 6.786018369513856, 6.6823221217980535, 6.580351233753787, 6.480069801872886, 6.381439100905054, 6.284418048807913, 6.188963668392488, 6.095031542303661, 6.002576258123925, 5.911551840560442, 5.8219121678694945, 5.733611369884692, 5.646604205244362, 5.560846415657611, 5.4762950553031065, 5.392908793719672, 5.3106481908177265, 5.229475942915374, 5.149357098978442, 5.070259246517435, 4.992152666864628, 4.915010459817756, 4.838808637891394, 4.763526190661575, 4.689145119919285, 4.615650446566004, 4.543030190383635, 4.471275323994461, 4.400379702490492, 4.330339970355613, 4.261155447427957, 4.19282799575301, 4.125361869259746, 4.0587635482531175, 3.9930415607565193, 3.9282062927569372, 3.864269789405985, 3.801245549210679, 3.7391483132105403, 3.677993851084206, 3.617798746058703, 3.558580180411569, 3.5003557232591693, 3.4431431222177453, 3.3869601004068848, 3.331824160140494, 3.2777523945200238, 3.224761308009961, 3.172866646937713, 3.122083240721529, 3.072424854492229, 3.0239040536376316, 2.976532080666538, 2.930318744660224, 2.8852723234574804, 2.841399478603208, 2.798705182983379, 2.757192660968944, 2.7168633408020875, 2.6777168188767275, 2.6397508354949477, 2.6029612616202997, 2.567342096098333, 2.53288547277424, 2.4995816769069257, 2.467419170257324, 2.436384624216533, 2.406462960335692, 2.3776373976229555, 2.3498895059841143, 2.323199265200597, 2.2975451288609428, 2.272904092689178, 2.2492517667442997, 2.2265624509988005, 2.204809213839454, 2.18396397307075, 2.16399757903778, 2.1448798995220346, 2.1265799060989385, 2.109065761678893, 2.092304908984955, 2.076264159747934, 2.060909784424561, 2.0462076022653166, 2.032123071575576, 2.0186213800270276, 2.0056675348851387, 1.9932264530236714, 1.9812630505982285, 1.9697423322484593, 1.9586294796923016, 1.9478899395668834, 1.937489510358836, 1.9273944282529905, 1.917571451712623, 1.9079879445878978, 1.898611957531302, 1.8894123074817715, 1.8803586549616798, 1.8714215789151565, 1.8625726488012606, 1.8537844936434729, 1.8450308677265137, 1.8362867126246405, 1.8275282152416867, 1.8187328615427119, 1.809879485660916, 1.8009483140708333, 1.791921004530683, 1.782780679512517, 1.7735119538588766, 1.7641009564286911, 1.754535345523069, 1.74480431791331, 1.7348986113283131, 1.7248105002966614, 1.7145337852792133, 1.7040637750709493, 1.6933972624952907, 1.682532493460068, 1.6714691294906705, 1.6602082039027495, 1.648752071823141, 1.6371043543131425, 1.6252698768923097, 1.6132546028031216, 1.6010655613965148, 1.5887107720551992, 1.5761991641053017, 1.563540493196862, 1.5507452546597207, 1.5378245943632698, 1.5247902176258303, 1.5116542967324298, 1.4984293776277366, 1.48512828635454, 1.4717640358068163, 1.458349733360606, 1.4448984899355632, 1.4314233310254088, 1.417937110216649, 1.4044524256924282, 1.3909815401922074, 1.3775363048685958, 1.36412808745055, 1.3507677050874742, 1.337465362212073, 1.3242305937214147, 1.3110722137360284, 1.2979982701563317, 1.285016005194679, 1.2721318220202236, 1.259351257612907, 1.2466789618826042, 1.2341186830700641, 1.2216732594080324, 1.2093446169841169, 1.197133773711738, 1.1850408492821096, 1.1730650809386958, 1.1612048448861856, 1.1494576831187453, 1.1378203354271694, 1.1262887763216598, 1.1148582565862273, 1.1035233491621206, 1.0922779990412372, 1.0811155768360263, 1.0700289356799149, 1.0590104711016757, 1.0480521835082974, 1.0371457429037627, 1.0262825554654997, 1.0154538315961759, 1.0046506550657661, 0.9938640528573962, 0.983085065330324, 0.9723048163144495, 0.9615145827529596, 0.9507058635130541, 0.9398704469891617, 0.9290004771287068, 0.9180885175172125, 0.9071276131675137, 0.8961113496669962, 0.8850339093472783, 0.873890124152465, 0.8626755248953335, 0.8513863866053314, 0.8400197696884261, 0.8285735566364173, 0.8170464840425544, 0.8054381697011047, 0.793749134590919, 0.7819808195671017, 0.7701355966104955, 0.7582167745118473, 0.7462285988961866, 0.7341762465229502, 0.7220658138287163, 0.7099042997118273, 0.6976995825916347, 0.6854603918092803, 0.6731962734717652, 0.6609175508762102, 0.6486352796865172, 0.6363611980698012, 0.6241076720347041, 0.6118876362478016, 0.599714530637358, 0.5876022331255784, 0.5755649888607137, 0.5636173363488641, 0.5517740309115886, 0.5400499659193988, 0.5284600922724205, 0.5170193366179718, 0.5057425188100277, 0.49464426912757825, 0.4837389457773967, 0.47304055321165334, 0.4625626617920329, 0.4523183293294183, 0.4423200250217483, 0.4325795563024077, 0.4231079990973244, 0.41391563197107384, 0.4050118746206246, 0.39640523115020104, 0.38810323853204765, 0.38011242062604866, 0.3724382480961673, 0.36508510452397747, 0.3580562589792628, 0.35135384526511726, 0.3449788480105117, 0.3389310957371459, 0.33320926098003667, 0.32781086749289834, 0.3227323045204911, 0.3179688480709382, 0.31351468907205343, 0.3093629682472547, 0.30550581749908906, 0.3019344075420996, 0.29863900148207634, 0.29560901399602635, 0.2928330757267552, 0.2902991024681366, 0.28799436868222494, 0.2859055848576077, 0.28401897819009625, 0.28232037604217, 0.28079529161680294, 0.27942901126450104, 0.27820668282978606, 0.27711340443501153, 0.27613431309543063, 0.2752546725598508, 0.2744599597760489, 0.27373594938934603, 0.2730687956962971, 0.272445111493257, 0.2718520432815001, 0.27127734231647355, 0.27070943101842, 0.27013746429484947, 0.2695513853618935, 0.26894197569117895, 0.268300898751219, 0.26762073725712676, 0.266895023689353, 0.26611826389080995, 0.26528595360178275, 0.2643945878430733, 0.2634416631094865, 0.26242567238767356, 0.26134609306406614, 0.26020336783983167, 0.25899887882001205, 0.2577349149929381, 0.25641463336325265, 0.2550420140470804, 0.2536218096807132, 0.25215948953431694, 0.25066117875932464, 0.24913359323207027, 0.24758397048661143, 0.24601999725636362, 0.24444973416692142, 0.2428815381411511, 0.24132398309212877, 0.2397857794897255, 0.23827569339250704, 0.23680246553811907, 0.23537473108245627, 0.23400094057071535, 0.23268928271198164, 0.23144760951337592, 0.2302833643101647, 0.22920351320472332, 0.2282144804000857, 0.22732208788316965, 0.22653149987893342, 0.22584717245991057, 0.2252728086561021, 0.22481131936836304, 0.22446479034452663, 0.2242344554319022, 0.22412067627279153, 0.22412292856166244, 0.22423979493394566, 0.22446896450745119, 0.2248072390484934, 0.22525054568634642, 0.22579395605196487, 0.22643171167037504, 0.22715725539110124, 0.22796326859778002, 0.2288417138970575, 0.22978388294825847, 0.23078044905946046, 0.23182152414275306, 0.23289671959187389, 0.23399521061928794, 0.2351058035673267, 0.23621700568938142, 0.23731709688248176, 0.2383942028420066, 0.23943636910281557, 0.2404316354288134, 0.2413681100148568, 0.2422340429709589, 0.24301789856886985, 0.2437084257452225, 0.24429472637337526, 0.24476632083772823, 0.24511321046939608, 0.24532593643050077, 0.24539563466571437, 0.24531408657377482, 0.24507376508820328, 0.24466787589504324, 0.24409039355577639, 0.24333609234529754], \"yaxis\": \"y\"}, {\"legendgroup\": \"50th Percentile\", \"marker\": {\"color\": \"rgb(255, 127, 14)\"}, \"mode\": \"lines\", \"name\": \"50th Percentile\", \"showlegend\": true, \"type\": \"scatter\", \"x\": [0.0, 0.0002852, 0.0005704, 0.0008556, 0.0011408, 0.0014260000000000002, 0.0017112, 0.0019963999999999997, 0.0022816, 0.0025668, 0.0028520000000000004, 0.0031372, 0.0034224, 0.0037076, 0.0039927999999999995, 0.0042780000000000006, 0.0045632, 0.0048484, 0.0051336, 0.0054188, 0.005704000000000001, 0.0059892, 0.0062744, 0.0065596000000000005, 0.0068448, 0.00713, 0.0074152, 0.0077004000000000005, 0.007985599999999999, 0.0082708, 0.008556000000000001, 0.0088412, 0.0091264, 0.0094116, 0.0096968, 0.009982000000000001, 0.0102672, 0.0105524, 0.0108376, 0.0111228, 0.011408000000000001, 0.0116932, 0.0119784, 0.0122636, 0.0125488, 0.012834, 0.013119200000000001, 0.0134044, 0.0136896, 0.0139748, 0.01426, 0.014545200000000001, 0.0148304, 0.0151156, 0.015400800000000001, 0.015686, 0.015971199999999998, 0.0162564, 0.0165416, 0.016826800000000003, 0.017112000000000002, 0.0173972, 0.0176824, 0.0179676, 0.0182528, 0.018538, 0.0188232, 0.0191084, 0.0193936, 0.0196788, 0.019964000000000003, 0.020249200000000002, 0.0205344, 0.0208196, 0.0211048, 0.02139, 0.0216752, 0.0219604, 0.0222456, 0.0225308, 0.022816000000000003, 0.023101200000000002, 0.0233864, 0.0236716, 0.0239568, 0.024242, 0.0245272, 0.024812400000000002, 0.0250976, 0.0253828, 0.025668, 0.025953200000000003, 0.026238400000000002, 0.0265236, 0.0268088, 0.027094, 0.0273792, 0.027664400000000002, 0.0279496, 0.0282348, 0.02852, 0.0288052, 0.029090400000000002, 0.0293756, 0.0296608, 0.029946, 0.0302312, 0.030516400000000003, 0.030801600000000002, 0.0310868, 0.031372, 0.031657199999999996, 0.031942399999999996, 0.0322276, 0.0325128, 0.032798, 0.0330832, 0.0333684, 0.033653600000000006, 0.0339388, 0.034224000000000004, 0.0345092, 0.0347944, 0.0350796, 0.0353648, 0.03565, 0.0359352, 0.0362204, 0.0365056, 0.036790800000000005, 0.037076, 0.037361200000000004, 0.0376464, 0.0379316, 0.0382168, 0.038502, 0.0387872, 0.0390724, 0.0393576, 0.0396428, 0.039928000000000005, 0.0402132, 0.040498400000000004, 0.0407836, 0.0410688, 0.041354, 0.0416392, 0.0419244, 0.0422096, 0.0424948, 0.04278, 0.043065200000000005, 0.0433504, 0.043635600000000004, 0.0439208, 0.044206, 0.0444912, 0.0447764, 0.0450616, 0.0453468, 0.045632000000000006, 0.0459172, 0.046202400000000005, 0.046487600000000004, 0.0467728, 0.047058, 0.0473432, 0.0476284, 0.0479136, 0.0481988, 0.048484, 0.048769200000000006, 0.0490544, 0.049339600000000004, 0.049624800000000004, 0.04991, 0.0501952, 0.0504804, 0.0507656, 0.0510508, 0.051336, 0.0516212, 0.051906400000000005, 0.0521916, 0.052476800000000004, 0.052762, 0.0530472, 0.0533324, 0.0536176, 0.0539028, 0.054188, 0.0544732, 0.0547584, 0.055043600000000005, 0.055328800000000004, 0.055614000000000004, 0.0558992, 0.0561844, 0.0564696, 0.0567548, 0.05704, 0.0573252, 0.0576104, 0.0578956, 0.058180800000000005, 0.058466000000000004, 0.0587512, 0.0590364, 0.0593216, 0.0596068, 0.059892, 0.0601772, 0.0604624, 0.0607476, 0.061032800000000005, 0.061318000000000004, 0.061603200000000004, 0.0618884, 0.0621736, 0.0624588, 0.062744, 0.06302920000000001, 0.06331439999999999, 0.0635996, 0.06388479999999999, 0.06417, 0.0644552, 0.0647404, 0.0650256, 0.0653108, 0.065596, 0.0658812, 0.0661664, 0.0664516, 0.0667368, 0.06702200000000001, 0.06730720000000001, 0.0675924, 0.0678776, 0.06816280000000001, 0.06844800000000001, 0.0687332, 0.0690184, 0.0693036, 0.0695888, 0.06987399999999999, 0.0701592, 0.0704444, 0.0707296, 0.0710148, 0.0713, 0.0715852, 0.0718704, 0.0721556, 0.0724408, 0.072726, 0.0730112, 0.07329640000000001, 0.07358160000000001, 0.0738668, 0.074152, 0.07443720000000001, 0.07472240000000001, 0.0750076, 0.0752928, 0.075578, 0.0758632, 0.0761484, 0.0764336, 0.0767188, 0.077004, 0.0772892, 0.0775744, 0.0778596, 0.0781448, 0.07843000000000001, 0.0787152, 0.0790004, 0.0792856, 0.07957080000000001, 0.07985600000000001, 0.0801412, 0.0804264, 0.08071160000000001, 0.08099680000000001, 0.081282, 0.0815672, 0.0818524, 0.0821376, 0.0824228, 0.082708, 0.0829932, 0.0832784, 0.0835636, 0.0838488, 0.084134, 0.0844192, 0.08470440000000001, 0.0849896, 0.0852748, 0.08556, 0.08584520000000001, 0.08613040000000001, 0.0864156, 0.0867008, 0.08698600000000001, 0.08727120000000001, 0.08755639999999999, 0.0878416, 0.0881268, 0.088412, 0.0886972, 0.0889824, 0.0892676, 0.0895528, 0.089838, 0.0901232, 0.0904084, 0.0906936, 0.09097880000000001, 0.09126400000000001, 0.0915492, 0.0918344, 0.09211960000000001, 0.09240480000000001, 0.09269, 0.09297520000000001, 0.09326040000000001, 0.0935456, 0.09383079999999999, 0.094116, 0.0944012, 0.0946864, 0.0949716, 0.0952568, 0.095542, 0.0958272, 0.09611240000000001, 0.0963976, 0.0966828, 0.096968, 0.09725320000000001, 0.09753840000000001, 0.0978236, 0.0981088, 0.09839400000000001, 0.09867920000000001, 0.0989644, 0.09924960000000001, 0.0995348, 0.09982, 0.10010519999999999, 0.1003904, 0.1006756, 0.1009608, 0.101246, 0.1015312, 0.1018164, 0.1021016, 0.10238680000000001, 0.102672, 0.1029572, 0.1032424, 0.10352760000000001, 0.10381280000000001, 0.104098, 0.1043832, 0.10466840000000001, 0.10495360000000001, 0.1052388, 0.105524, 0.1058092, 0.1060944, 0.10637959999999999, 0.1066648, 0.10695, 0.1072352, 0.10752040000000002, 0.1078056, 0.1080908, 0.108376, 0.10866120000000001, 0.1089464, 0.1092316, 0.1095168, 0.10980200000000001, 0.11008720000000001, 0.1103724, 0.11065760000000001, 0.11094280000000001, 0.11122800000000001, 0.11151319999999999, 0.1117984, 0.1120836, 0.1123688, 0.112654, 0.1129392, 0.1132244, 0.1135096, 0.11379480000000002, 0.11408, 0.1143652, 0.1146504, 0.11493560000000001, 0.1152208, 0.115506, 0.1157912, 0.11607640000000001, 0.11636160000000001, 0.1166468, 0.11693200000000001, 0.11721720000000001, 0.1175024, 0.11778759999999999, 0.1180728, 0.118358, 0.1186432, 0.11892840000000002, 0.1192136, 0.1194988, 0.119784, 0.12006920000000001, 0.1203544, 0.1206396, 0.1209248, 0.12121000000000001, 0.1214952, 0.1217804, 0.12206560000000001, 0.12235080000000001, 0.12263600000000001, 0.1229212, 0.12320640000000001, 0.1234916, 0.1237768, 0.12406199999999999, 0.1243472, 0.1246324, 0.1249176, 0.1252028, 0.125488, 0.1257732, 0.12605840000000001, 0.1263436, 0.12662879999999999, 0.126914, 0.1271992, 0.1274844, 0.12776959999999998, 0.1280548, 0.12834, 0.1286252, 0.1289104, 0.12919560000000002, 0.1294808, 0.129766, 0.1300512, 0.1303364, 0.1306216, 0.13090680000000002, 0.131192, 0.13147720000000002, 0.1317624, 0.13204760000000001, 0.1323328, 0.13261799999999999, 0.1329032, 0.1331884, 0.1334736, 0.1337588, 0.13404400000000002, 0.1343292, 0.13461440000000002, 0.13489959999999998, 0.1351848, 0.13547, 0.1357552, 0.1360404, 0.13632560000000002, 0.1366108, 0.13689600000000002, 0.13718120000000003, 0.1374664, 0.1377516, 0.1380368, 0.138322, 0.1386072, 0.1388924, 0.1391776, 0.13946280000000003, 0.13974799999999998, 0.1400332, 0.1403184, 0.1406036, 0.1408888, 0.141174, 0.1414592, 0.14174440000000002, 0.1420296, 0.1423148], \"xaxis\": \"x\", \"y\": [8.630830232771913, 8.838599121627414, 9.046020976143053, 9.252947410236656, 9.459234716735583, 9.664744135767014, 9.869342083482149, 10.072900340940917, 10.275296203357561, 10.476412590268714, 10.676138117530257, 10.874367132373516, 11.070999713051398, 11.265941634878155, 11.45910430470929, 11.650404666118888, 11.839765077708506, 12.027113167123185, 12.212381663455918, 12.395508210791515, 12.576435165674281, 12.755109381283438, 12.931481981065028, 13.105508124503238, 13.277146767617626, 13.44636042065058, 13.61311490526159, 13.777379113378021, 13.939124769665952, 14.098326199385697, 14.25496010318693, 14.409005340181338, 14.56044272041182, 14.709254807617052, 14.855425732975249, 14.998941020301967, 15.139787422977971, 15.27795277269641, 15.413425839947596, 15.546196206004057, 15.676254146032512, 15.803590522842244, 15.928196690683361, 16.05006440843269, 16.16918576145054, 16.28555309135806, 16.39915893297081, 16.50999595762993, 16.618056922195336, 16.72333462300401, 16.825821854151485, 16.925511369519953, 17.02239584805337, 17.11646786186533, 17.207719846855266, 17.296144075603845, 17.381732632413808, 17.464477390456878, 17.54436999108, 17.621401825410288, 17.69556401847846, 17.76684741615162, 17.835242575228595, 17.9007397571007, 17.963328925419678, 18.022999748240508, 18.07974160511805, 18.133543599636436, 18.18439457783518, 18.23228315296716, 18.27719773698432, 18.31912657909369, 18.358057811661677, 18.3939795036722, 18.426879721859606, 18.456746599548378, 18.483568413133966, 18.507333666038654, 18.52803117987181, 18.545650192418673, 18.560180461976614, 18.571612377453857, 18.579937073546606, 18.58514655021532, 18.587233795591658, 18.5861929113685, 18.58201923965223, 18.574709490196547, 18.56426186688588, 18.550676192299527, 18.53395402916141, 18.514098797469572, 18.491115886100943, 18.465012757703676, 18.435799045718937, 18.403486642418752, 18.368089776904657, 18.329625082082984, 18.288111649717184, 18.24357107275363, 18.19602747422445, 18.14550752214926, 18.092040429982774, 18.035657942290594, 17.97639430547491, 17.91428622351742, 17.84937279885445, 17.781695458649843, 17.71129786687994, 17.638225822793448, 17.562527146452375, 17.484251552199648, 17.40345051103047, 17.320177102967193, 17.23448586065055, 17.146432605461193, 17.056074277572712, 16.96346876141121, 16.868674708054428, 16.77175135614479, 16.6727583529154, 16.57175557693461, 16.468802964164336, 16.36396033889742, 16.257287251092773, 16.14884282156284, 16.03868559638615, 15.926873411820658, 15.813463270881227, 15.698511232618625, 15.582072314999525, 15.46420041213729, 15.344948226467345, 15.224367216295231, 15.102507558977022, 14.97941812982004, 14.855146496619437, 14.729738929575955, 14.603240426172762, 14.475694750429946, 14.347144485801385, 14.217631100836282, 14.087195026596802, 13.955875744705494, 13.82371188479203, 13.69074133002321, 13.557001329327846, 13.422528614876157, 13.287359523337601, 13.15153011942408, 13.015076320226356, 12.87803401886947, 12.740439206048435, 12.602328088057474, 12.463737199991716, 12.32470351288078, 12.185264533606384, 12.045458396559601, 11.905323946104481, 11.764900809035622, 11.624229456340936, 11.483351253709367, 11.342308500352956, 11.20114445584235, 11.059903354781882, 10.91863040927422, 10.777371799243793, 10.636174650799147, 10.495087002920235, 10.354157762850674, 10.21343665066282, 10.072974133538152, 9.932821350372205, 9.79303002736707, 9.65365238532033, 9.514741039351616, 9.376348891833294, 9.2385290193059, 9.101334554164865, 8.964818561903428, 8.829033914688214, 8.694033162028893, 8.559868399284595, 8.426591134726396, 8.294252155850172, 8.16290139560624, 8.032587799185283, 7.903359191971985, 7.775262149252145, 7.648341868234201, 7.522642042924347, 7.398204742374939, 7.275070292810101, 7.153277164119061, 7.032861861198231, 6.9138588206161105, 6.796300313070961, 6.680216352108967, 6.565634609570538, 6.452580338232558, 6.341076302115581, 6.231142714924415, 6.122797187089643, 6.016054681873768, 5.9109274809979455, 5.807425160235092, 5.705554575398223, 5.60531985913151, 5.5067224288835535, 5.409761006407495, 5.314431649090549, 5.220727793366256, 5.128640310405421, 5.03815757421737, 4.949265542221018, 4.861947848266262, 4.776185908000867, 4.691959036386481, 4.609244577071349, 4.52801804322661, 4.4482532693498404, 4.369922573433927, 4.292996928793795, 4.21744614473786, 4.143239055168364, 4.070343714094608, 3.9987275969486515, 3.928357806504027, 3.8592012821173287, 3.7912250109398, 3.7243962396840864, 3.6586826854801484, 3.594052744314833, 3.5304756955238368, 3.4679219007918785, 3.4063629961183572, 3.3457720752220355, 3.2861238628886085, 3.2273948768109584, 3.1695635765313837, 3.112610498169933, 3.0565183737107575, 3.001272233719955, 2.946859492481675, 2.8932700146647483, 2.8404961627670566, 2.788532824729572, 2.7373774212644117, 2.687029892599595, 2.6374926645074352, 2.5887705936500898, 2.5408708924451537, 2.493803033823155, 2.4475786364168615, 2.4022113308871504, 2.357716608250744, 2.314111651229477, 2.2714151497877895, 2.2296471021631556, 2.188828602822133, 2.148981618891016, 2.1101287567143054, 2.072293020284468, 2.035497563362523, 1.9997654371701787, 1.9651193355792573, 1.931581339753523, 1.8991726642103561, 1.8679134062662006, 1.837822300808667, 1.8089164823015473, 1.7812112558754811, 1.7547198792882248, 1.7294533574543414, 1.7054202511455898, 1.6826265013512687, 1.6610752706630703, 1.6407668029128808, 1.621698302145521, 1.6038638318531186, 1.587254235234714, 1.5718570770757263, 1.557656607668158, 1.5446337490157735, 1.532766103390286, 1.5220279841267508, 1.5123904683702416, 1.5038214713131492, 1.4962858412949112, 1.4897454749747336, 1.484159451634848, 1.479484185528072, 1.4756735950504802, 1.472679287398823, 1.4704507572642247, 1.4689355980193897, 1.4680797237770262, 1.4678276006329931, 1.4681224853592543, 1.4689066697795525, 1.4701217290446886, 1.4717087720246944, 1.4736086920514755, 1.4757624162776333, 1.4781111519643513, 1.4805966280728962, 1.4831613306095321, 1.4857487302615335, 1.4883035009612586, 1.490771728124832, 1.4931011054304564, 1.4952411191272093, 1.4971432189971552, 1.498760975229839, 1.5000502206074582, 1.500969177539452, 1.5014785696254758, 1.501541717564127, 1.5011246193599403, 1.5001960149116362, 1.4987274351890325, 1.4966932363234053, 1.4940706190448432, 1.4908396340000356, 1.4869831735732937, 1.4824869509125795, 1.4773394669296505, 1.4715319660994175, 1.4650583819274419, 1.457915272986699, 1.4501017504449811, 1.4416193980131269, 1.432472185242026, 1.4226663750835125, 1.41221042660763, 1.4011148937370956, 1.3893923208199022, 1.3770571358139825, 1.3641255418047142, 1.3506154075178014, 1.3365461574279545, 1.3219386619988485, 1.3068151285233238, 1.2911989929656356, 1.275114813141161, 1.2585881635039222, 1.2416455317500736, 1.2243142173865285, 1.2066222323594218, 1.188598203787436, 1.1702712788010696, 1.1516710314510508, 1.1328273716176445, 1.1137704558279953, 1.0945305998707595, 1.0751381930864694, 1.0556236142079292, 1.036017148627489, 1.0163489069768041, 0.9966487449194611, 0.9769461840768388, 0.9572703340325445, 0.937649815389798, 0.9181126838886663, 0.8986863556252661, 0.879397533452275, 0.8602721346783176, 0.8413352202224755, 0.8226109254181955, 0.8041223926977689, 0.7858917064232784, 0.7679398301619206, 0.7502865467321245, 0.7329504013713597, 0.7159486483963418, 0.6992972017410618, 0.6830105897672719, 0.6671019147454413, 0.6515828174015649, 0.6364634469162996, 0.6217524367479262, 0.6074568866293042, 0.5935823510617803, 0.580132834595875, 0.5671107941500687, 0.5545171485752465, 0.5423512956241408, 0.5306111364326304, 0.5192931075638944, 0.5083922206076001, 0.4979021092653367, 0.48781508379112, 0.4781221925925924, 0.46881329073548467, 0.45987711503152034, 0.45130136532923776, 0.4430727915686239, 0.43517728610500034, 0.42759998075568867, 0.4203253479754395, 0.4133373055238708, 0.40661932395084016, 0.4001545361941835, 0.3939258485589541, 0.38791605232856485, 0.38210793524622133, 0.37648439209996, 0.37102853364646776, 0.36572379311772657, 0.36055402957020427, 0.3555036273587424, 0.35055759104610873, 0.345701635094152, 0.3409222677232001, 0.33620686837231856, 0.3315437582438241, 0.32692226347044656, 0.3223327705021976, 0.31776677337169335, 0.31321691256073736, 0.3086770052568147, 0.304142066854989, 0.2996083236280348, 0.29507321655466484, 0.29053539636194814, 0.2859947099027341, 0.28145217805161543, 0.27690996536310897, 0.27237134179283257, 0.26784063683606746, 0.26332318648783976, 0.2588252734742086, 0.2543540612455183, 0.24991752225878333, 0.24552436110790637, 0.24118393308709277, 0.23690615879443042, 0.2327014353993149, 0.2285805452091447, 0.22455456217770403, 0.22063475699994678, 0.21683250143575622, 0.21315917249884567, 0.2096260571365399, 0.20624425801202825, 0.2030246009830354, 0.19997754485004943, 0.1971130939235395, 0.1944407139333179, 0.1919692517745945, 0.18970685955466923, 0.18766092337183882, 0.18583799722424493, 0.18424374241128863, 0.182882872754092, 0.18175910592453656, 0.18087512113481005, 0.18023252340131382, 0.1798318145583958, 0.1796723711587822, 0.1797524293589262, 0.1800690768488635, 0.18061825184767735, 0.18139474914740128, 0.18239223315023015, 0.18360325780634446, 0.18501929332256978, 0.18663075947558996, 0.1884270653276032, 0.19039665510726697, 0.19252705998463837, 0.1948049554357248, 0.19721622386033616, 0.1997460220863676, 0.2023788533645851, 0.20509864343062498, 0.2078888201854704, 0.2107323965222912, 0.21361205580649092, 0.21651023949725817, 0.2194092363831242, 0.2222912728911538, 0.2251386039196843, 0.22793360363811285, 0.23065885569432815, 0.23329724227114373, 0.23583203143757117, 0.23824696224916878, 0.24052632706399318, 0.24265505055693268, 0.2446187649354063, 0.24640388088347726, 0.24799765378930164, 0.24938824484235558, 0.2505647766218532, 0.2515173828359826, 0.2522372519127702, 0.252716664187215, 0.25294902247546636, 0.2529288758748888], \"yaxis\": \"y\"}, {\"legendgroup\": \"25th Percentile\", \"marker\": {\"color\": \"rgb(44, 160, 44)\"}, \"mode\": \"lines\", \"name\": \"25th Percentile\", \"showlegend\": true, \"type\": \"scatter\", \"x\": [0.0, 0.000261, 0.000522, 0.0007830000000000001, 0.001044, 0.0013050000000000002, 0.0015660000000000001, 0.001827, 0.002088, 0.0023490000000000004, 0.0026100000000000003, 0.002871, 0.0031320000000000002, 0.003393, 0.003654, 0.003915, 0.004176, 0.004437, 0.004698000000000001, 0.004959000000000001, 0.005220000000000001, 0.005481, 0.005742, 0.0060030000000000005, 0.0062640000000000005, 0.006525, 0.006786, 0.007047, 0.007308, 0.007569, 0.00783, 0.008091000000000001, 0.008352, 0.008612999999999999, 0.008874, 0.009134999999999999, 0.009396000000000002, 0.009657, 0.009918000000000001, 0.010179, 0.010440000000000001, 0.010701, 0.010962, 0.011223, 0.011484, 0.011745, 0.012006000000000001, 0.012267000000000002, 0.012528000000000001, 0.012789, 0.01305, 0.013311, 0.013572, 0.013833, 0.014094, 0.014355, 0.014616, 0.014877000000000001, 0.015138, 0.015399000000000001, 0.01566, 0.015921, 0.016182000000000002, 0.016443000000000003, 0.016704, 0.016965, 0.017225999999999998, 0.017487000000000003, 0.017748, 0.018009, 0.018269999999999998, 0.018531000000000002, 0.018792000000000003, 0.019053, 0.019314, 0.019575, 0.019836000000000003, 0.020097, 0.020358, 0.020619, 0.020880000000000003, 0.021141, 0.021402, 0.021663, 0.021924, 0.022185000000000003, 0.022446, 0.022707, 0.022968, 0.023229, 0.02349, 0.023751, 0.024012000000000002, 0.024273, 0.024534000000000004, 0.024795, 0.025056000000000002, 0.025317, 0.025578, 0.025839, 0.0261, 0.026361, 0.026622, 0.026883000000000004, 0.027144, 0.027405000000000002, 0.027666, 0.027927, 0.028188, 0.028449000000000002, 0.02871, 0.028971, 0.029232, 0.029493000000000002, 0.029754000000000003, 0.030015, 0.030276, 0.030537, 0.030798000000000002, 0.031059, 0.03132, 0.031581, 0.031842, 0.032103, 0.032364000000000004, 0.032625, 0.032886000000000006, 0.033146999999999996, 0.033408, 0.033669000000000004, 0.03393, 0.034191, 0.034451999999999997, 0.034713, 0.034974000000000005, 0.035235, 0.035496, 0.035757, 0.036018, 0.036279000000000006, 0.036539999999999996, 0.036801, 0.037062000000000005, 0.037323, 0.037584000000000006, 0.037845, 0.038106, 0.038367000000000005, 0.038628, 0.038889, 0.03915, 0.039411, 0.039672000000000006, 0.039933, 0.040194, 0.040455, 0.040716, 0.040977000000000006, 0.041238, 0.041499, 0.041760000000000005, 0.042021, 0.042282, 0.042543, 0.042804, 0.043065000000000006, 0.043326, 0.043587, 0.043848, 0.044109, 0.04437000000000001, 0.044631, 0.044892, 0.045153, 0.045414, 0.04567500000000001, 0.045936, 0.046197, 0.046458, 0.046719000000000004, 0.04698, 0.047241, 0.047502, 0.04776300000000001, 0.048024000000000004, 0.048285, 0.048546, 0.048807, 0.04906800000000001, 0.049329, 0.04959, 0.049851, 0.050112000000000004, 0.05037300000000001, 0.050634, 0.050895, 0.051156, 0.051417000000000004, 0.051678, 0.051939, 0.0522, 0.052461, 0.052722, 0.052983, 0.053244, 0.053505000000000004, 0.05376600000000001, 0.054027, 0.054288, 0.054549, 0.054810000000000005, 0.055071, 0.055332, 0.055593000000000004, 0.055854, 0.056115000000000005, 0.056376, 0.056637, 0.056898000000000004, 0.057159, 0.05742, 0.057681, 0.057942, 0.058203000000000005, 0.058464, 0.058725, 0.058986000000000004, 0.059247, 0.059508000000000005, 0.059769, 0.06003, 0.060291000000000004, 0.060552, 0.060813, 0.061074, 0.061335, 0.061596000000000005, 0.061857, 0.062118, 0.062379000000000004, 0.06264, 0.062901, 0.063162, 0.06342300000000001, 0.063684, 0.063945, 0.064206, 0.064467, 0.06472800000000001, 0.064989, 0.06525, 0.065511, 0.06577200000000001, 0.066033, 0.06629399999999999, 0.066555, 0.066816, 0.067077, 0.06733800000000001, 0.067599, 0.06786, 0.06812100000000001, 0.068382, 0.068643, 0.06890399999999999, 0.069165, 0.069426, 0.069687, 0.06994800000000001, 0.07020900000000001, 0.07047, 0.070731, 0.070992, 0.071253, 0.071514, 0.071775, 0.072036, 0.072297, 0.07255800000000001, 0.07281900000000001, 0.07307999999999999, 0.073341, 0.073602, 0.073863, 0.07412400000000001, 0.074385, 0.074646, 0.074907, 0.07516800000000001, 0.075429, 0.07569, 0.075951, 0.076212, 0.076473, 0.07673400000000001, 0.07699500000000001, 0.077256, 0.077517, 0.077778, 0.078039, 0.0783, 0.078561, 0.078822, 0.079083, 0.07934400000000001, 0.07960500000000001, 0.079866, 0.080127, 0.080388, 0.080649, 0.08091, 0.08117100000000001, 0.081432, 0.081693, 0.08195400000000001, 0.08221500000000001, 0.082476, 0.082737, 0.082998, 0.083259, 0.08352000000000001, 0.08378100000000001, 0.084042, 0.084303, 0.084564, 0.084825, 0.085086, 0.085347, 0.085608, 0.085869, 0.08613000000000001, 0.08639100000000001, 0.086652, 0.08691299999999999, 0.087174, 0.087435, 0.087696, 0.08795700000000001, 0.088218, 0.088479, 0.08874000000000001, 0.08900100000000001, 0.089262, 0.089523, 0.089784, 0.090045, 0.090306, 0.09056700000000001, 0.090828, 0.091089, 0.09135000000000001, 0.091611, 0.091872, 0.092133, 0.092394, 0.092655, 0.092916, 0.09317700000000001, 0.09343800000000001, 0.093699, 0.09396, 0.094221, 0.094482, 0.09474300000000001, 0.095004, 0.095265, 0.09552600000000001, 0.09578700000000001, 0.09604800000000001, 0.09630899999999999, 0.09657, 0.096831, 0.097092, 0.09735300000000001, 0.097614, 0.097875, 0.09813600000000001, 0.09839700000000001, 0.098658, 0.09891899999999999, 0.09918, 0.099441, 0.099702, 0.09996300000000001, 0.10022400000000001, 0.100485, 0.10074600000000002, 0.101007, 0.101268, 0.10152900000000001, 0.10179, 0.102051, 0.102312, 0.10257300000000001, 0.10283400000000001, 0.10309499999999999, 0.103356, 0.103617, 0.103878, 0.10413900000000001, 0.1044, 0.104661, 0.104922, 0.10518300000000001, 0.105444, 0.105705, 0.105966, 0.106227, 0.106488, 0.10674900000000001, 0.10701000000000001, 0.107271, 0.10753200000000002, 0.107793, 0.108054, 0.108315, 0.108576, 0.108837, 0.109098, 0.10935900000000001, 0.10962000000000001, 0.109881, 0.110142, 0.110403, 0.110664, 0.110925, 0.11118600000000001, 0.111447, 0.111708, 0.11196900000000001, 0.11223000000000001, 0.112491, 0.112752, 0.113013, 0.113274, 0.11353500000000001, 0.11379600000000001, 0.114057, 0.114318, 0.11457900000000001, 0.11484, 0.115101, 0.115362, 0.115623, 0.115884, 0.11614500000000001, 0.11640600000000001, 0.116667, 0.116928, 0.117189, 0.11745, 0.117711, 0.11797200000000001, 0.118233, 0.118494, 0.11875500000000001, 0.11901600000000001, 0.119277, 0.119538, 0.119799, 0.12006, 0.120321, 0.12058200000000001, 0.120843, 0.121104, 0.12136500000000001, 0.121626, 0.121887, 0.122148, 0.122409, 0.12267, 0.12293100000000001, 0.12319200000000001, 0.12345300000000001, 0.123714, 0.123975, 0.124236, 0.124497, 0.12475800000000001, 0.12501900000000002, 0.12528, 0.125541, 0.125802, 0.126063, 0.126324, 0.126585, 0.12684600000000001, 0.127107, 0.127368, 0.127629, 0.12789, 0.12815100000000001, 0.128412, 0.128673, 0.128934, 0.129195, 0.12945600000000002, 0.12971700000000003, 0.129978, 0.130239], \"xaxis\": \"x\", \"y\": [3.6540596927348763, 3.708489987424928, 3.7621942801485435, 3.815164121168916, 3.867394340702186, 3.918883033804806, 3.9696315302640883, 4.0196443497843335, 4.068929142850954, 4.11749661774116, 4.1653604542323714, 4.212537204637329, 4.259046182867531, 4.304909342293805, 4.3501511432338, 4.394798410950699, 4.438880185095367, 4.4824275615647595, 4.525473527782978, 4.568052792437488, 4.610201610721631, 4.6519576061458245, 4.693359589983598, 4.734447379415084, 4.775261615419978, 4.815843581454381, 4.856235023921699, 4.896477975417235, 4.936614581689515, 4.976686933219298, 5.016736902269796, 5.056805986209708, 5.09693515785418, 5.137164723508911, 5.177534189339186, 5.218082136619428, 5.258846106350758, 5.299862493663647, 5.341166452351724, 5.382791809810559, 5.424770992583064, 5.4671349626409995, 5.509913164460848, 5.553133482881858, 5.596822211665485, 5.641004032608579, 5.685702004998115, 5.730937565133383, 5.776730535582624, 5.823099143785218, 5.870060049558453, 5.917628381019167, 5.965817778386156, 6.014640445088556, 6.064107205569309, 6.114227569141021, 6.165009799224136, 6.216460987274821, 6.2685871306918095, 6.32139321397834, 6.374883292426671, 6.42906057758889, 6.483927523798854, 6.5394859150155105, 6.595736951268331, 6.65268133400033, 6.710319349623529, 6.768650950625363, 6.82767583359237, 6.8873935135494415, 6.9478033940487745, 7.008904832481919, 7.070697200131477, 7.133179936524802, 7.196352597701416, 7.260214898057145, 7.324766745482321, 7.390008269567119, 7.455939842704825, 7.5225620939829, 7.589875915811141, 7.657882463296778, 7.726583146436577, 7.7959796152559395, 7.86607373808385, 7.93686757321075, 8.008363334232005, 8.080563349433646, 8.1534700156282, 8.227085746896435, 8.301412918735165, 8.376453808151963, 8.452210530283295, 8.528684972144239, 8.605878724143842, 8.683793010020763, 8.762428615869005, 8.841785818932285, 8.921864316848172, 9.002663158020106, 9.084180673784653, 9.166414413025585, 9.249361079863162, 9.333016475017766, 9.417375441411938, 9.50243181453343, 9.588178378034641, 9.67460682499188, 9.761707725190254, 9.849470498738619, 9.937883396252845, 10.026933485777304, 10.116606646541976, 10.206887569579434, 10.29775976515051, 10.389205576851468, 10.481206202200713, 10.5737417194274, 10.66679112011274, 10.76033234726342, 10.854342338330483, 10.948797072624211, 11.043671622517238, 11.138940207776997, 11.23457625232187, 11.330552442657217, 11.426840787215982, 11.523412675805362, 11.620238938346615, 11.717289902088485, 11.814535446479065, 11.911945054892561, 12.009487862429795, 12.10713269904267, 12.204848127272953, 12.302602473946077, 12.400363855218067, 12.498100194441164, 12.595779232387388, 12.69336852945145, 12.790835459541904, 12.88814719546332, 12.985270685690859, 13.08217262254061, 13.178819401844388, 13.275177074345093, 13.371211289135509, 13.466887229571842, 13.562169542198296, 13.657022259322595, 13.751408715981139, 13.845291462127644, 13.938632170966606, 14.031391544434655, 14.123529216906144, 14.215003658262972, 14.305772077523617, 14.395790328269653, 14.485012817140495, 14.573392416687978, 14.660880383890229, 14.747426285620259, 14.83297793234778, 14.917481321321535, 15.00088059043821, 15.08311798394634, 15.164133831067506, 15.243866538535244, 15.322252597962338, 15.3992266088436, 15.474721317890348, 15.548667675271053, 15.620994908203464, 15.691630612208181, 15.760500860191101, 15.827530329376229, 15.892642445960968, 15.955759547214194, 16.016803060585648, 16.075693699244084, 16.13235167331261, 16.18669691592476, 16.238649323083436, 16.288129006172397, 16.335056555841536, 16.37935331587101, 16.42094166551002, 16.4597453086891, 16.495689568419884, 16.528701684622742, 16.558711113563557, 16.58564982703571, 16.609452609391113, 16.6300573505092, 16.647405332789926, 16.661441510271647, 16.672114778002044, 16.67937822983515, 16.6831894028838, 16.683510506929927, 16.68030863717976, 16.673555968849318, 16.663229932175703, 16.64931336657083, 16.631794652765596, 16.610667821932672, 16.58593264092473, 16.5575946729193, 16.5256653129227, 16.490161797749174, 16.451107190259776, 16.40853033781369, 16.362465805054846, 16.31295378132388, 16.260039963152117, 16.20377541245546, 16.14421639120395, 16.081424173493573, 16.015464836090345, 15.946409028653152, 15.874331724967671, 15.799311956640116, 15.72143253080525, 15.640779733496835, 15.557443020410085, 15.471514696855294, 15.383089588757302, 15.29226470659787, 15.199138904227734, 15.103812534489963, 15.006387103598005, 14.906964926201294, 14.805648783044788, 14.702541583093197, 14.597746031939113, 14.491364308253278, 14.383497749961577, 14.27424655175019, 14.163709475405653, 14.051983574395553, 13.939163933982696, 13.825343428049726, 13.710612493684852, 13.595058924451036, 13.478767683126394, 13.361820734566205, 13.244296899198186, 13.126271727521047, 13.007817395836632, 12.889002623304862, 12.769892610273777, 12.65054899770057, 12.531029847348837, 12.411389642319898, 12.29167930735444, 12.171946248225792, 12.052234409437872, 11.932584349339301, 11.813033331673847, 11.693615432502453, 11.574361661358, 11.455300095428367, 11.33645602550797, 11.217852112412714, 11.099508552517623, 10.981443251051353, 10.86367200176677, 10.746208671601563, 10.629065388948042, 10.512252734165132, 10.395779930989619, 10.2796550375363, 10.163885135617251, 10.048476517159909, 9.933434866559232, 9.818765437863256, 9.704473225759408, 9.59056312940447, 9.477040108219983, 9.363909328858671, 9.251176302633676, 9.138847012792034, 9.026928031104635, 8.915426623337053, 8.804350843257339, 8.693709614930045, 8.58351280313468, 8.473771271837188, 8.364496930728714, 8.255702769929197, 8.147402883033488, 8.039612478752849, 7.932347881475756, 7.825626521137783, 7.719466912850939, 7.613888626797511, 7.508912248942288, 7.40455933315989, 7.300852345410278, 7.1978146006257795, 7.095470192996482, 6.993843920358792, 6.892961203402904, 6.7928480004204035, 6.693530718312655, 6.595036120574621, 6.497391232957115, 6.400623247494289, 6.304759425562375, 6.209827000610101, 6.115853081172573, 6.022864554748034, 5.930887993081657, 5.839949559362757, 5.750074917802371, 5.661289146016808, 5.573616650600373, 5.487081086228147, 5.401705278585866, 5.317511151381789, 5.234519657652802, 5.1527507155361425, 5.072223148637804, 4.992954631090889, 4.914961637360551, 4.838259396818174, 4.762861853075454, 4.688781628040082, 4.6160299906277755, 4.544616830041965, 4.47455063351116, 4.405838468356029, 4.338485968242939, 4.272497323468154, 4.207875275107166, 4.144621112856589, 4.082734676391136, 4.022214360056393, 3.963057120717586, 3.905258488586666, 3.84881258085368, 3.7937121179538598, 3.739948442308092, 3.6875115393828923, 3.6363900609240867, 3.5865713502282515, 3.538041469325768, 3.490785227959479, 3.444786214253187, 3.4000268269744485, 3.356488309305876, 3.3141507840486017, 3.2729932901902825, 3.2329938207781357, 3.1941293620448152, 3.156375933741013, 3.119708630634465, 3.0841016651388324, 3.0495284110397485, 3.015961448287109, 2.9833726088242534, 2.9517330234243473, 2.9210131695041177, 2.8911829198826693, 2.862211592450987, 2.8340680007141557, 2.8067205051642934, 2.7801370654376028, 2.7542852932037563, 2.7291325057303375, 2.7046457800593013, 2.6807920077264256, 2.6575379499487424, 2.634850293198898, 2.612695705079702, 2.591040890406307, 2.56985264739833, 2.5490979238792537, 2.528743873375967, 2.5087579110073763, 2.489107769047657, 2.469761552046817, 2.450687791389164, 2.431855499168625, 2.413234221259017, 2.3947940894569824, 2.3765058725757706, 2.35834102636883, 2.3402717421637136, 2.322270994088928, 2.304312584778669, 2.2863711894435554, 2.2684223981986626, 2.250442756544009, 2.2324098038966014, 2.2143021100773397, 2.196099309660689, 2.177782134099567, 2.159332441542592, 2.1407332442657707, 2.121968733645471, 2.103024302604386, 2.0838865654672634, 2.0645433751676765, 2.0449838377523473, 2.0251983241340317, 2.005178479048939, 1.9849172271793143, 1.9644087764066578, 1.9436486181658958, 1.922633524875544, 1.9013615444239955, 1.8798319916970858, 1.8580454371372714, 1.8360036923302125, 1.813709792620263, 1.7911679767621556, 1.7683836636225185, 1.745363425951373, 1.7221149612506272, 1.6986470597740375, 1.6749695697006373, 1.6510933595318933, 1.6270302777713497, 1.6027931099544281, 1.5783955331055093, 1.553852067709004, 1.5291780272913624, 1.5043894657211643, 1.4795031223452466, 1.4545363650895005, 1.4295071316639971, 1.4044338690231188, 1.379335471242294, 1.3542312159838277, 1.329140699734959, 1.3040837720115939, 1.2790804687310164, 1.2541509449663573, 1.2293154073042345, 1.2045940460350195, 1.1800069674123048, 1.1555741262243637, 1.131315258925431, 1.1072498175787189, 1.0833969048657066, 1.0597752104176803, 1.0364029487255264, 1.0132977988822696, 0.9904768464099661, 0.9679565274179398, 0.9457525753333818, 0.9238799704375553, 0.9023528924316703, 0.8811846762456012, 0.8603877712902863, 0.8399737043407985, 0.8199530462217062, 0.8003353824497789, 0.7811292879710854, 0.7623423061104301, 0.7439809318309306, 0.7260505993804022, 0.7085556743792824, 0.6914994503823039, 0.6748841499229865, 0.6587109300266167, 0.6429798921537608, 0.6276900965127268, 0.612839580655908, 0.598425382251787, 0.5844435659017454, 0.570889253848805, 0.5577566604042973, 0.5450391298982699, 0.5327291779404113, 0.5208185357605609, 0.509298197381498, 0.49815846936198255, 0.48738902283485563, 0.4769789475536526, 0.4669168076516454, 0.4571906988096261, 0.4477883065230348, 0.4386969651554213, 0.42990371746355044, 0.4213953742798874, 0.4131585740405685, 0.405179841851382, 0.39744564779065816, 0.38994246415613965, 0.3826568213730677, 0.37557536229241734, 0.3686848946217115, 0.3619724412457843, 0.35542528821118474, 0.3490310301655744, 0.34277761306217425, 0.33665337395905165, 0.3306470777635503], \"yaxis\": \"y\"}],\n",
              "                        {\"barmode\": \"overlay\", \"hovermode\": \"closest\", \"legend\": {\"traceorder\": \"reversed\"}, \"template\": {\"data\": {\"bar\": [{\"error_x\": {\"color\": \"#2a3f5f\"}, \"error_y\": {\"color\": \"#2a3f5f\"}, \"marker\": {\"line\": {\"color\": \"#E5ECF6\", \"width\": 0.5}}, \"type\": \"bar\"}], \"barpolar\": [{\"marker\": {\"line\": {\"color\": \"#E5ECF6\", \"width\": 0.5}}, \"type\": \"barpolar\"}], \"carpet\": [{\"aaxis\": {\"endlinecolor\": \"#2a3f5f\", \"gridcolor\": \"white\", \"linecolor\": \"white\", \"minorgridcolor\": \"white\", \"startlinecolor\": \"#2a3f5f\"}, \"baxis\": {\"endlinecolor\": \"#2a3f5f\", \"gridcolor\": \"white\", \"linecolor\": \"white\", \"minorgridcolor\": \"white\", \"startlinecolor\": \"#2a3f5f\"}, \"type\": \"carpet\"}], \"choropleth\": [{\"colorbar\": {\"outlinewidth\": 0, \"ticks\": \"\"}, \"type\": \"choropleth\"}], \"contour\": [{\"colorbar\": {\"outlinewidth\": 0, \"ticks\": \"\"}, \"colorscale\": [[0.0, \"#0d0887\"], [0.1111111111111111, \"#46039f\"], [0.2222222222222222, \"#7201a8\"], [0.3333333333333333, \"#9c179e\"], [0.4444444444444444, \"#bd3786\"], [0.5555555555555556, \"#d8576b\"], [0.6666666666666666, \"#ed7953\"], [0.7777777777777778, \"#fb9f3a\"], [0.8888888888888888, \"#fdca26\"], [1.0, \"#f0f921\"]], \"type\": \"contour\"}], \"contourcarpet\": [{\"colorbar\": {\"outlinewidth\": 0, \"ticks\": \"\"}, \"type\": \"contourcarpet\"}], \"heatmap\": [{\"colorbar\": {\"outlinewidth\": 0, \"ticks\": \"\"}, \"colorscale\": [[0.0, \"#0d0887\"], [0.1111111111111111, \"#46039f\"], [0.2222222222222222, \"#7201a8\"], [0.3333333333333333, \"#9c179e\"], [0.4444444444444444, \"#bd3786\"], [0.5555555555555556, \"#d8576b\"], [0.6666666666666666, \"#ed7953\"], [0.7777777777777778, \"#fb9f3a\"], [0.8888888888888888, \"#fdca26\"], [1.0, \"#f0f921\"]], \"type\": \"heatmap\"}], \"heatmapgl\": [{\"colorbar\": {\"outlinewidth\": 0, \"ticks\": \"\"}, \"colorscale\": [[0.0, \"#0d0887\"], [0.1111111111111111, \"#46039f\"], [0.2222222222222222, \"#7201a8\"], [0.3333333333333333, \"#9c179e\"], [0.4444444444444444, \"#bd3786\"], [0.5555555555555556, \"#d8576b\"], [0.6666666666666666, \"#ed7953\"], [0.7777777777777778, \"#fb9f3a\"], [0.8888888888888888, \"#fdca26\"], [1.0, \"#f0f921\"]], \"type\": \"heatmapgl\"}], \"histogram\": [{\"marker\": {\"colorbar\": {\"outlinewidth\": 0, \"ticks\": \"\"}}, \"type\": \"histogram\"}], \"histogram2d\": [{\"colorbar\": {\"outlinewidth\": 0, \"ticks\": \"\"}, \"colorscale\": [[0.0, \"#0d0887\"], [0.1111111111111111, \"#46039f\"], [0.2222222222222222, \"#7201a8\"], [0.3333333333333333, \"#9c179e\"], [0.4444444444444444, \"#bd3786\"], [0.5555555555555556, \"#d8576b\"], [0.6666666666666666, \"#ed7953\"], [0.7777777777777778, \"#fb9f3a\"], [0.8888888888888888, \"#fdca26\"], [1.0, \"#f0f921\"]], \"type\": \"histogram2d\"}], \"histogram2dcontour\": [{\"colorbar\": {\"outlinewidth\": 0, \"ticks\": \"\"}, \"colorscale\": [[0.0, \"#0d0887\"], [0.1111111111111111, \"#46039f\"], [0.2222222222222222, \"#7201a8\"], [0.3333333333333333, \"#9c179e\"], [0.4444444444444444, \"#bd3786\"], [0.5555555555555556, \"#d8576b\"], [0.6666666666666666, \"#ed7953\"], [0.7777777777777778, \"#fb9f3a\"], [0.8888888888888888, \"#fdca26\"], [1.0, \"#f0f921\"]], \"type\": \"histogram2dcontour\"}], \"mesh3d\": [{\"colorbar\": {\"outlinewidth\": 0, \"ticks\": \"\"}, \"type\": \"mesh3d\"}], \"parcoords\": [{\"line\": {\"colorbar\": {\"outlinewidth\": 0, \"ticks\": \"\"}}, \"type\": \"parcoords\"}], \"pie\": [{\"automargin\": true, \"type\": \"pie\"}], \"scatter\": [{\"marker\": {\"colorbar\": {\"outlinewidth\": 0, \"ticks\": \"\"}}, \"type\": \"scatter\"}], \"scatter3d\": [{\"line\": {\"colorbar\": {\"outlinewidth\": 0, \"ticks\": \"\"}}, \"marker\": {\"colorbar\": {\"outlinewidth\": 0, \"ticks\": \"\"}}, \"type\": \"scatter3d\"}], \"scattercarpet\": [{\"marker\": {\"colorbar\": {\"outlinewidth\": 0, \"ticks\": \"\"}}, \"type\": \"scattercarpet\"}], \"scattergeo\": [{\"marker\": {\"colorbar\": {\"outlinewidth\": 0, \"ticks\": \"\"}}, \"type\": \"scattergeo\"}], \"scattergl\": [{\"marker\": {\"colorbar\": {\"outlinewidth\": 0, \"ticks\": \"\"}}, \"type\": \"scattergl\"}], \"scattermapbox\": [{\"marker\": {\"colorbar\": {\"outlinewidth\": 0, \"ticks\": \"\"}}, \"type\": \"scattermapbox\"}], \"scatterpolar\": [{\"marker\": {\"colorbar\": {\"outlinewidth\": 0, \"ticks\": \"\"}}, \"type\": \"scatterpolar\"}], \"scatterpolargl\": [{\"marker\": {\"colorbar\": {\"outlinewidth\": 0, \"ticks\": \"\"}}, \"type\": \"scatterpolargl\"}], \"scatterternary\": [{\"marker\": {\"colorbar\": {\"outlinewidth\": 0, \"ticks\": \"\"}}, \"type\": \"scatterternary\"}], \"surface\": [{\"colorbar\": {\"outlinewidth\": 0, \"ticks\": \"\"}, \"colorscale\": [[0.0, \"#0d0887\"], [0.1111111111111111, \"#46039f\"], [0.2222222222222222, \"#7201a8\"], [0.3333333333333333, \"#9c179e\"], [0.4444444444444444, \"#bd3786\"], [0.5555555555555556, \"#d8576b\"], [0.6666666666666666, \"#ed7953\"], [0.7777777777777778, \"#fb9f3a\"], [0.8888888888888888, \"#fdca26\"], [1.0, \"#f0f921\"]], \"type\": \"surface\"}], \"table\": [{\"cells\": {\"fill\": {\"color\": \"#EBF0F8\"}, \"line\": {\"color\": \"white\"}}, \"header\": {\"fill\": {\"color\": \"#C8D4E3\"}, \"line\": {\"color\": \"white\"}}, \"type\": \"table\"}]}, \"layout\": {\"annotationdefaults\": {\"arrowcolor\": \"#2a3f5f\", \"arrowhead\": 0, \"arrowwidth\": 1}, \"coloraxis\": {\"colorbar\": {\"outlinewidth\": 0, \"ticks\": \"\"}}, \"colorscale\": {\"diverging\": [[0, \"#8e0152\"], [0.1, \"#c51b7d\"], [0.2, \"#de77ae\"], [0.3, \"#f1b6da\"], [0.4, \"#fde0ef\"], [0.5, \"#f7f7f7\"], [0.6, \"#e6f5d0\"], [0.7, \"#b8e186\"], [0.8, \"#7fbc41\"], [0.9, \"#4d9221\"], [1, \"#276419\"]], \"sequential\": [[0.0, \"#0d0887\"], [0.1111111111111111, \"#46039f\"], [0.2222222222222222, \"#7201a8\"], [0.3333333333333333, \"#9c179e\"], [0.4444444444444444, \"#bd3786\"], [0.5555555555555556, \"#d8576b\"], [0.6666666666666666, \"#ed7953\"], [0.7777777777777778, \"#fb9f3a\"], [0.8888888888888888, \"#fdca26\"], [1.0, \"#f0f921\"]], \"sequentialminus\": [[0.0, \"#0d0887\"], [0.1111111111111111, \"#46039f\"], [0.2222222222222222, \"#7201a8\"], [0.3333333333333333, \"#9c179e\"], [0.4444444444444444, \"#bd3786\"], [0.5555555555555556, \"#d8576b\"], [0.6666666666666666, \"#ed7953\"], [0.7777777777777778, \"#fb9f3a\"], [0.8888888888888888, \"#fdca26\"], [1.0, \"#f0f921\"]]}, \"colorway\": [\"#636efa\", \"#EF553B\", \"#00cc96\", \"#ab63fa\", \"#FFA15A\", \"#19d3f3\", \"#FF6692\", \"#B6E880\", \"#FF97FF\", \"#FECB52\"], \"font\": {\"color\": \"#2a3f5f\"}, \"geo\": {\"bgcolor\": \"white\", \"lakecolor\": \"white\", \"landcolor\": \"#E5ECF6\", \"showlakes\": true, \"showland\": true, \"subunitcolor\": \"white\"}, \"hoverlabel\": {\"align\": \"left\"}, \"hovermode\": \"closest\", \"mapbox\": {\"style\": \"light\"}, \"paper_bgcolor\": \"white\", \"plot_bgcolor\": \"#E5ECF6\", \"polar\": {\"angularaxis\": {\"gridcolor\": \"white\", \"linecolor\": \"white\", \"ticks\": \"\"}, \"bgcolor\": \"#E5ECF6\", \"radialaxis\": {\"gridcolor\": \"white\", \"linecolor\": \"white\", \"ticks\": \"\"}}, \"scene\": {\"xaxis\": {\"backgroundcolor\": \"#E5ECF6\", \"gridcolor\": \"white\", \"gridwidth\": 2, \"linecolor\": \"white\", \"showbackground\": true, \"ticks\": \"\", \"zerolinecolor\": \"white\"}, \"yaxis\": {\"backgroundcolor\": \"#E5ECF6\", \"gridcolor\": \"white\", \"gridwidth\": 2, \"linecolor\": \"white\", \"showbackground\": true, \"ticks\": \"\", \"zerolinecolor\": \"white\"}, \"zaxis\": {\"backgroundcolor\": \"#E5ECF6\", \"gridcolor\": \"white\", \"gridwidth\": 2, \"linecolor\": \"white\", \"showbackground\": true, \"ticks\": \"\", \"zerolinecolor\": \"white\"}}, \"shapedefaults\": {\"line\": {\"color\": \"#2a3f5f\"}}, \"ternary\": {\"aaxis\": {\"gridcolor\": \"white\", \"linecolor\": \"white\", \"ticks\": \"\"}, \"baxis\": {\"gridcolor\": \"white\", \"linecolor\": \"white\", \"ticks\": \"\"}, \"bgcolor\": \"#E5ECF6\", \"caxis\": {\"gridcolor\": \"white\", \"linecolor\": \"white\", \"ticks\": \"\"}}, \"title\": {\"x\": 0.05}, \"xaxis\": {\"automargin\": true, \"gridcolor\": \"white\", \"linecolor\": \"white\", \"ticks\": \"\", \"title\": {\"standoff\": 15}, \"zerolinecolor\": \"white\", \"zerolinewidth\": 2}, \"yaxis\": {\"automargin\": true, \"gridcolor\": \"white\", \"linecolor\": \"white\", \"ticks\": \"\", \"title\": {\"standoff\": 15}, \"zerolinecolor\": \"white\", \"zerolinewidth\": 2}}}, \"title\": {\"text\": \"Distribution of Different Percentiles\"}, \"xaxis\": {\"anchor\": \"y2\", \"domain\": [0.0, 1.0], \"title\": {\"text\": \"Incarceration Rate\"}, \"zeroline\": false}, \"yaxis\": {\"anchor\": \"free\", \"domain\": [0.0, 1], \"position\": 0.0, \"title\": {\"text\": \"Number of neighborhoods\"}}},\n",
              "                        {\"responsive\": true}\n",
              "                    ).then(function(){\n",
              "                            \n",
              "var gd = document.getElementById('69675a28-ea81-4d33-838c-cb2b6170f963');\n",
              "var x = new MutationObserver(function (mutations, observer) {{\n",
              "        var display = window.getComputedStyle(gd).display;\n",
              "        if (!display || display === 'none') {{\n",
              "            console.log([gd, 'removed!']);\n",
              "            Plotly.purge(gd);\n",
              "            observer.disconnect();\n",
              "        }}\n",
              "}});\n",
              "\n",
              "// Listen for the removal of the full notebook cells\n",
              "var notebookContainer = gd.closest('#notebook-container');\n",
              "if (notebookContainer) {{\n",
              "    x.observe(notebookContainer, {childList: true});\n",
              "}}\n",
              "\n",
              "// Listen for the clearing of the current output cell\n",
              "var outputEl = gd.closest('.output');\n",
              "if (outputEl) {{\n",
              "    x.observe(outputEl, {childList: true});\n",
              "}}\n",
              "\n",
              "                        })\n",
              "                };\n",
              "                \n",
              "            </script>\n",
              "        </div>\n",
              "</body>\n",
              "</html>"
            ]
          },
          "metadata": {
            "tags": []
          }
        }
      ]
    },
    {
      "cell_type": "markdown",
      "metadata": {
        "id": "X7SKV2myxePO"
      },
      "source": [
        "# Histogram and Density Curve for Washington, DC"
      ]
    },
    {
      "cell_type": "code",
      "metadata": {
        "id": "PFwnjQ6Wj6pT"
      },
      "source": [
        "hist_dc_75pct = px.histogram(df_dc_incar_merge, x =\"Incarceration_Rate_rP_gP_p75\", barmode = \"overlay\", color_discrete_sequence=[\"blue\"], labels = {\"Incarceration_Rate_rP_gP_p75\": \"Incarceration rate for 75th percentile parent income\"})"
      ],
      "execution_count": 26,
      "outputs": []
    },
    {
      "cell_type": "code",
      "metadata": {
        "colab": {
          "base_uri": "https://localhost:8080/",
          "height": 542
        },
        "id": "r69RAZw2kDz3",
        "outputId": "0d344032-622d-44cb-a7bf-f3f686304085"
      },
      "source": [
        "hist_dc_75pct"
      ],
      "execution_count": 27,
      "outputs": [
        {
          "output_type": "display_data",
          "data": {
            "text/html": [
              "<html>\n",
              "<head><meta charset=\"utf-8\" /></head>\n",
              "<body>\n",
              "    <div>\n",
              "            <script src=\"https://cdnjs.cloudflare.com/ajax/libs/mathjax/2.7.5/MathJax.js?config=TeX-AMS-MML_SVG\"></script><script type=\"text/javascript\">if (window.MathJax) {MathJax.Hub.Config({SVG: {font: \"STIX-Web\"}});}</script>\n",
              "                <script type=\"text/javascript\">window.PlotlyConfig = {MathJaxConfig: 'local'};</script>\n",
              "        <script src=\"https://cdn.plot.ly/plotly-latest.min.js\"></script>    \n",
              "            <div id=\"e1da5d19-edc7-4395-86c8-43446b92d053\" class=\"plotly-graph-div\" style=\"height:525px; width:100%;\"></div>\n",
              "            <script type=\"text/javascript\">\n",
              "                \n",
              "                    window.PLOTLYENV=window.PLOTLYENV || {};\n",
              "                    \n",
              "                if (document.getElementById(\"e1da5d19-edc7-4395-86c8-43446b92d053\")) {\n",
              "                    Plotly.newPlot(\n",
              "                        'e1da5d19-edc7-4395-86c8-43446b92d053',\n",
              "                        [{\"alignmentgroup\": \"True\", \"bingroup\": \"x\", \"hoverlabel\": {\"namelength\": 0}, \"hovertemplate\": \"Incarceration rate for 75th percentile parent income=%{x}<br>count=%{y}\", \"legendgroup\": \"\", \"marker\": {\"color\": \"blue\", \"opacity\": 0.5}, \"name\": \"\", \"offsetgroup\": \"\", \"orientation\": \"v\", \"showlegend\": false, \"type\": \"histogram\", \"x\": [0.0411, 0.0602, 0.0779, 0.077, 0.0244, 0.0717, 0.0671, 0.0376, 0.0268, 0.0467, 0.0344, 0.0653, 0.0, 0.0527, 0.0613, 0.0182, 0.0684, 0.0341, 0.0281, 0.0125, 0.0022, 0.0357, 0.0, 0.0652, 0.0664, 0.0628, 0.0293, 0.0267, 0.0356, 0.0391, 0.0187, 0.0243, 0.0375, 0.0101, 0.0454, 0.0435, 0.0155, 0.0292, 0.0079, 0.0808, 0.0206, 0.0328, 0.0135, 0.0097, 0.0451, 0.0029, 0.0188, 0.052000000000000005, 0.0109, 0.0, 0.0313, 0.0263, 0.0367, 0.0057, 0.0153, 0.0242, 0.0206, 0.0267, 0.027000000000000003, 0.0074, 0.0446, 0.0054, 0.0739, 0.0398, 0.0116, 0.0, 0.0427, 0.0202, 0.0419, 0.0224, 0.0277, 0.0195, 0.0, 0.0383, 0.0214, 0.02, 0.0103, 0.0449, 0.0049, 0.0101, 0.0202, 0.0, 0.0327, 0.0224, 0.0018, 0.0353, 0.0189, 0.0404, 0.0087, 0.0, 0.0294, 0.0377, 0.0157, 0.0055, 0.0, 0.0122, 0.0237, 0.0128, 0.0339, 0.0104, 0.0148, 0.0131, 0.0156, 0.0168, 0.0294, 0.0045, 0.0046, 0.018000000000000002, 0.0056, 0.0216, 0.0, 0.0126, 0.0094, 0.0216, 0.0151, 0.0303, 0.0055, 0.0021, 0.0186, 0.0119, 0.01, 0.0, 0.0, 0.0071, 0.0122, 0.0114, 0.0093, 0.0005, 0.0, 0.0156, 0.006999999999999999, 0.0291, 0.0164, 0.005, 0.0126, 0.0038, 0.017, 0.0176, 0.0112, 0.0, 0.0105, 0.0122, 0.0049, 0.0108, 0.0099, 0.0011, 0.0058, 0.0054, 0.0021, 0.015, 0.0016, 0.0039, 0.0104, 0.0, 0.0035, 0.0002, 0.0, 0.0051, 0.0, 0.0, 0.0006, 0.0017, 0.0004, 0.0026, 0.0, 0.0164, 0.0014, 0.0, 0.0, 0.0006, 0.0046, 0.0041, 0.0, 0.0031, 0.0], \"xaxis\": \"x\", \"yaxis\": \"y\"}],\n",
              "                        {\"barmode\": \"overlay\", \"legend\": {\"tracegroupgap\": 0}, \"margin\": {\"t\": 60}, \"template\": {\"data\": {\"bar\": [{\"error_x\": {\"color\": \"#2a3f5f\"}, \"error_y\": {\"color\": \"#2a3f5f\"}, \"marker\": {\"line\": {\"color\": \"#E5ECF6\", \"width\": 0.5}}, \"type\": \"bar\"}], \"barpolar\": [{\"marker\": {\"line\": {\"color\": \"#E5ECF6\", \"width\": 0.5}}, \"type\": \"barpolar\"}], \"carpet\": [{\"aaxis\": {\"endlinecolor\": \"#2a3f5f\", \"gridcolor\": \"white\", \"linecolor\": \"white\", \"minorgridcolor\": \"white\", \"startlinecolor\": \"#2a3f5f\"}, \"baxis\": {\"endlinecolor\": \"#2a3f5f\", \"gridcolor\": \"white\", \"linecolor\": \"white\", \"minorgridcolor\": \"white\", \"startlinecolor\": \"#2a3f5f\"}, \"type\": \"carpet\"}], \"choropleth\": [{\"colorbar\": {\"outlinewidth\": 0, \"ticks\": \"\"}, \"type\": \"choropleth\"}], \"contour\": [{\"colorbar\": {\"outlinewidth\": 0, \"ticks\": \"\"}, \"colorscale\": [[0.0, \"#0d0887\"], [0.1111111111111111, \"#46039f\"], [0.2222222222222222, \"#7201a8\"], [0.3333333333333333, \"#9c179e\"], [0.4444444444444444, \"#bd3786\"], [0.5555555555555556, \"#d8576b\"], [0.6666666666666666, \"#ed7953\"], [0.7777777777777778, \"#fb9f3a\"], [0.8888888888888888, \"#fdca26\"], [1.0, \"#f0f921\"]], \"type\": \"contour\"}], \"contourcarpet\": [{\"colorbar\": {\"outlinewidth\": 0, \"ticks\": \"\"}, \"type\": \"contourcarpet\"}], \"heatmap\": [{\"colorbar\": {\"outlinewidth\": 0, \"ticks\": \"\"}, \"colorscale\": [[0.0, \"#0d0887\"], [0.1111111111111111, \"#46039f\"], [0.2222222222222222, \"#7201a8\"], [0.3333333333333333, \"#9c179e\"], [0.4444444444444444, \"#bd3786\"], [0.5555555555555556, \"#d8576b\"], [0.6666666666666666, \"#ed7953\"], [0.7777777777777778, \"#fb9f3a\"], [0.8888888888888888, \"#fdca26\"], [1.0, \"#f0f921\"]], \"type\": \"heatmap\"}], \"heatmapgl\": [{\"colorbar\": {\"outlinewidth\": 0, \"ticks\": \"\"}, \"colorscale\": [[0.0, \"#0d0887\"], [0.1111111111111111, \"#46039f\"], [0.2222222222222222, \"#7201a8\"], [0.3333333333333333, \"#9c179e\"], [0.4444444444444444, \"#bd3786\"], [0.5555555555555556, \"#d8576b\"], [0.6666666666666666, \"#ed7953\"], [0.7777777777777778, \"#fb9f3a\"], [0.8888888888888888, \"#fdca26\"], [1.0, \"#f0f921\"]], \"type\": \"heatmapgl\"}], \"histogram\": [{\"marker\": {\"colorbar\": {\"outlinewidth\": 0, \"ticks\": \"\"}}, \"type\": \"histogram\"}], \"histogram2d\": [{\"colorbar\": {\"outlinewidth\": 0, \"ticks\": \"\"}, \"colorscale\": [[0.0, \"#0d0887\"], [0.1111111111111111, \"#46039f\"], [0.2222222222222222, \"#7201a8\"], [0.3333333333333333, \"#9c179e\"], [0.4444444444444444, \"#bd3786\"], [0.5555555555555556, \"#d8576b\"], [0.6666666666666666, \"#ed7953\"], [0.7777777777777778, \"#fb9f3a\"], [0.8888888888888888, \"#fdca26\"], [1.0, \"#f0f921\"]], \"type\": \"histogram2d\"}], \"histogram2dcontour\": [{\"colorbar\": {\"outlinewidth\": 0, \"ticks\": \"\"}, \"colorscale\": [[0.0, \"#0d0887\"], [0.1111111111111111, \"#46039f\"], [0.2222222222222222, \"#7201a8\"], [0.3333333333333333, \"#9c179e\"], [0.4444444444444444, \"#bd3786\"], [0.5555555555555556, \"#d8576b\"], [0.6666666666666666, \"#ed7953\"], [0.7777777777777778, \"#fb9f3a\"], [0.8888888888888888, \"#fdca26\"], [1.0, \"#f0f921\"]], \"type\": \"histogram2dcontour\"}], \"mesh3d\": [{\"colorbar\": {\"outlinewidth\": 0, \"ticks\": \"\"}, \"type\": \"mesh3d\"}], \"parcoords\": [{\"line\": {\"colorbar\": {\"outlinewidth\": 0, \"ticks\": \"\"}}, \"type\": \"parcoords\"}], \"pie\": [{\"automargin\": true, \"type\": \"pie\"}], \"scatter\": [{\"marker\": {\"colorbar\": {\"outlinewidth\": 0, \"ticks\": \"\"}}, \"type\": \"scatter\"}], \"scatter3d\": [{\"line\": {\"colorbar\": {\"outlinewidth\": 0, \"ticks\": \"\"}}, \"marker\": {\"colorbar\": {\"outlinewidth\": 0, \"ticks\": \"\"}}, \"type\": \"scatter3d\"}], \"scattercarpet\": [{\"marker\": {\"colorbar\": {\"outlinewidth\": 0, \"ticks\": \"\"}}, \"type\": \"scattercarpet\"}], \"scattergeo\": [{\"marker\": {\"colorbar\": {\"outlinewidth\": 0, \"ticks\": \"\"}}, \"type\": \"scattergeo\"}], \"scattergl\": [{\"marker\": {\"colorbar\": {\"outlinewidth\": 0, \"ticks\": \"\"}}, \"type\": \"scattergl\"}], \"scattermapbox\": [{\"marker\": {\"colorbar\": {\"outlinewidth\": 0, \"ticks\": \"\"}}, \"type\": \"scattermapbox\"}], \"scatterpolar\": [{\"marker\": {\"colorbar\": {\"outlinewidth\": 0, \"ticks\": \"\"}}, \"type\": \"scatterpolar\"}], \"scatterpolargl\": [{\"marker\": {\"colorbar\": {\"outlinewidth\": 0, \"ticks\": \"\"}}, \"type\": \"scatterpolargl\"}], \"scatterternary\": [{\"marker\": {\"colorbar\": {\"outlinewidth\": 0, \"ticks\": \"\"}}, \"type\": \"scatterternary\"}], \"surface\": [{\"colorbar\": {\"outlinewidth\": 0, \"ticks\": \"\"}, \"colorscale\": [[0.0, \"#0d0887\"], [0.1111111111111111, \"#46039f\"], [0.2222222222222222, \"#7201a8\"], [0.3333333333333333, \"#9c179e\"], [0.4444444444444444, \"#bd3786\"], [0.5555555555555556, \"#d8576b\"], [0.6666666666666666, \"#ed7953\"], [0.7777777777777778, \"#fb9f3a\"], [0.8888888888888888, \"#fdca26\"], [1.0, \"#f0f921\"]], \"type\": \"surface\"}], \"table\": [{\"cells\": {\"fill\": {\"color\": \"#EBF0F8\"}, \"line\": {\"color\": \"white\"}}, \"header\": {\"fill\": {\"color\": \"#C8D4E3\"}, \"line\": {\"color\": \"white\"}}, \"type\": \"table\"}]}, \"layout\": {\"annotationdefaults\": {\"arrowcolor\": \"#2a3f5f\", \"arrowhead\": 0, \"arrowwidth\": 1}, \"coloraxis\": {\"colorbar\": {\"outlinewidth\": 0, \"ticks\": \"\"}}, \"colorscale\": {\"diverging\": [[0, \"#8e0152\"], [0.1, \"#c51b7d\"], [0.2, \"#de77ae\"], [0.3, \"#f1b6da\"], [0.4, \"#fde0ef\"], [0.5, \"#f7f7f7\"], [0.6, \"#e6f5d0\"], [0.7, \"#b8e186\"], [0.8, \"#7fbc41\"], [0.9, \"#4d9221\"], [1, \"#276419\"]], \"sequential\": [[0.0, \"#0d0887\"], [0.1111111111111111, \"#46039f\"], [0.2222222222222222, \"#7201a8\"], [0.3333333333333333, \"#9c179e\"], [0.4444444444444444, \"#bd3786\"], [0.5555555555555556, \"#d8576b\"], [0.6666666666666666, \"#ed7953\"], [0.7777777777777778, \"#fb9f3a\"], [0.8888888888888888, \"#fdca26\"], [1.0, \"#f0f921\"]], \"sequentialminus\": [[0.0, \"#0d0887\"], [0.1111111111111111, \"#46039f\"], [0.2222222222222222, \"#7201a8\"], [0.3333333333333333, \"#9c179e\"], [0.4444444444444444, \"#bd3786\"], [0.5555555555555556, \"#d8576b\"], [0.6666666666666666, \"#ed7953\"], [0.7777777777777778, \"#fb9f3a\"], [0.8888888888888888, \"#fdca26\"], [1.0, \"#f0f921\"]]}, \"colorway\": [\"#636efa\", \"#EF553B\", \"#00cc96\", \"#ab63fa\", \"#FFA15A\", \"#19d3f3\", \"#FF6692\", \"#B6E880\", \"#FF97FF\", \"#FECB52\"], \"font\": {\"color\": \"#2a3f5f\"}, \"geo\": {\"bgcolor\": \"white\", \"lakecolor\": \"white\", \"landcolor\": \"#E5ECF6\", \"showlakes\": true, \"showland\": true, \"subunitcolor\": \"white\"}, \"hoverlabel\": {\"align\": \"left\"}, \"hovermode\": \"closest\", \"mapbox\": {\"style\": \"light\"}, \"paper_bgcolor\": \"white\", \"plot_bgcolor\": \"#E5ECF6\", \"polar\": {\"angularaxis\": {\"gridcolor\": \"white\", \"linecolor\": \"white\", \"ticks\": \"\"}, \"bgcolor\": \"#E5ECF6\", \"radialaxis\": {\"gridcolor\": \"white\", \"linecolor\": \"white\", \"ticks\": \"\"}}, \"scene\": {\"xaxis\": {\"backgroundcolor\": \"#E5ECF6\", \"gridcolor\": \"white\", \"gridwidth\": 2, \"linecolor\": \"white\", \"showbackground\": true, \"ticks\": \"\", \"zerolinecolor\": \"white\"}, \"yaxis\": {\"backgroundcolor\": \"#E5ECF6\", \"gridcolor\": \"white\", \"gridwidth\": 2, \"linecolor\": \"white\", \"showbackground\": true, \"ticks\": \"\", \"zerolinecolor\": \"white\"}, \"zaxis\": {\"backgroundcolor\": \"#E5ECF6\", \"gridcolor\": \"white\", \"gridwidth\": 2, \"linecolor\": \"white\", \"showbackground\": true, \"ticks\": \"\", \"zerolinecolor\": \"white\"}}, \"shapedefaults\": {\"line\": {\"color\": \"#2a3f5f\"}}, \"ternary\": {\"aaxis\": {\"gridcolor\": \"white\", \"linecolor\": \"white\", \"ticks\": \"\"}, \"baxis\": {\"gridcolor\": \"white\", \"linecolor\": \"white\", \"ticks\": \"\"}, \"bgcolor\": \"#E5ECF6\", \"caxis\": {\"gridcolor\": \"white\", \"linecolor\": \"white\", \"ticks\": \"\"}}, \"title\": {\"x\": 0.05}, \"xaxis\": {\"automargin\": true, \"gridcolor\": \"white\", \"linecolor\": \"white\", \"ticks\": \"\", \"title\": {\"standoff\": 15}, \"zerolinecolor\": \"white\", \"zerolinewidth\": 2}, \"yaxis\": {\"automargin\": true, \"gridcolor\": \"white\", \"linecolor\": \"white\", \"ticks\": \"\", \"title\": {\"standoff\": 15}, \"zerolinecolor\": \"white\", \"zerolinewidth\": 2}}}, \"xaxis\": {\"anchor\": \"y\", \"domain\": [0.0, 1.0], \"title\": {\"text\": \"Incarceration rate for 75th percentile parent income\"}}, \"yaxis\": {\"anchor\": \"x\", \"domain\": [0.0, 1.0], \"title\": {\"text\": \"count\"}}},\n",
              "                        {\"responsive\": true}\n",
              "                    ).then(function(){\n",
              "                            \n",
              "var gd = document.getElementById('e1da5d19-edc7-4395-86c8-43446b92d053');\n",
              "var x = new MutationObserver(function (mutations, observer) {{\n",
              "        var display = window.getComputedStyle(gd).display;\n",
              "        if (!display || display === 'none') {{\n",
              "            console.log([gd, 'removed!']);\n",
              "            Plotly.purge(gd);\n",
              "            observer.disconnect();\n",
              "        }}\n",
              "}});\n",
              "\n",
              "// Listen for the removal of the full notebook cells\n",
              "var notebookContainer = gd.closest('#notebook-container');\n",
              "if (notebookContainer) {{\n",
              "    x.observe(notebookContainer, {childList: true});\n",
              "}}\n",
              "\n",
              "// Listen for the clearing of the current output cell\n",
              "var outputEl = gd.closest('.output');\n",
              "if (outputEl) {{\n",
              "    x.observe(outputEl, {childList: true});\n",
              "}}\n",
              "\n",
              "                        })\n",
              "                };\n",
              "                \n",
              "            </script>\n",
              "        </div>\n",
              "</body>\n",
              "</html>"
            ]
          },
          "metadata": {
            "tags": []
          }
        }
      ]
    },
    {
      "cell_type": "code",
      "metadata": {
        "id": "vkty79Ozk_oG"
      },
      "source": [
        "hist_dc_50pct = px.histogram(df_dc_incar_merge, x =\"Incarceration_Rate_rP_gP_p50\", barmode = \"overlay\", color_discrete_sequence=[\"orange\"], labels = {\"Incarceration_Rate_rP_gP_p50\": \"Incarceration rate for 50th percentile parent income\"})"
      ],
      "execution_count": 28,
      "outputs": []
    },
    {
      "cell_type": "code",
      "metadata": {
        "colab": {
          "base_uri": "https://localhost:8080/",
          "height": 542
        },
        "id": "jxAkLg81lKzX",
        "outputId": "a2b2309c-9f3e-438a-a2dc-69ef790941fc"
      },
      "source": [
        "hist_dc_50pct"
      ],
      "execution_count": 29,
      "outputs": [
        {
          "output_type": "display_data",
          "data": {
            "text/html": [
              "<html>\n",
              "<head><meta charset=\"utf-8\" /></head>\n",
              "<body>\n",
              "    <div>\n",
              "            <script src=\"https://cdnjs.cloudflare.com/ajax/libs/mathjax/2.7.5/MathJax.js?config=TeX-AMS-MML_SVG\"></script><script type=\"text/javascript\">if (window.MathJax) {MathJax.Hub.Config({SVG: {font: \"STIX-Web\"}});}</script>\n",
              "                <script type=\"text/javascript\">window.PlotlyConfig = {MathJaxConfig: 'local'};</script>\n",
              "        <script src=\"https://cdn.plot.ly/plotly-latest.min.js\"></script>    \n",
              "            <div id=\"92682f8b-4406-44ef-9350-0f9e416896af\" class=\"plotly-graph-div\" style=\"height:525px; width:100%;\"></div>\n",
              "            <script type=\"text/javascript\">\n",
              "                \n",
              "                    window.PLOTLYENV=window.PLOTLYENV || {};\n",
              "                    \n",
              "                if (document.getElementById(\"92682f8b-4406-44ef-9350-0f9e416896af\")) {\n",
              "                    Plotly.newPlot(\n",
              "                        '92682f8b-4406-44ef-9350-0f9e416896af',\n",
              "                        [{\"alignmentgroup\": \"True\", \"bingroup\": \"x\", \"hoverlabel\": {\"namelength\": 0}, \"hovertemplate\": \"Incarceration rate for 50th percentile parent income=%{x}<br>count=%{y}\", \"legendgroup\": \"\", \"marker\": {\"color\": \"orange\", \"opacity\": 0.5}, \"name\": \"\", \"offsetgroup\": \"\", \"orientation\": \"v\", \"showlegend\": false, \"type\": \"histogram\", \"x\": [0.0644, 0.0745, 0.0815, 0.0793, 0.0514, 0.0752, 0.073, 0.052000000000000005, 0.0402, 0.0588, 0.0576, 0.0661, 0.0, 0.0598, 0.0625, 0.0349, 0.0706, 0.0449, 0.0449, 0.0286, 0.0286, 0.0414, 0.0206, 0.0594, 0.0652, 0.0586, 0.0449, 0.0399, 0.0402, 0.0434, 0.034, 0.0376, 0.0418, 0.0265, 0.0521, 0.0458, 0.0306, 0.0397, 0.0232, 0.0704, 0.0359, 0.0397, 0.0332, 0.0244, 0.0483, 0.0193, 0.0316, 0.0511, 0.0246, 0.0052, 0.0374, 0.0354, 0.0423, 0.0278, 0.0264, 0.0322, 0.0323, 0.0336, 0.0349, 0.0196, 0.0444, 0.0222, 0.0626, 0.0413, 0.0208, 0.0046, 0.0418, 0.0286, 0.0394, 0.0305, 0.0348, 0.0275, 0.0081, 0.0364, 0.0332, 0.0275, 0.0257, 0.0404, 0.0187, 0.0189, 0.0245, 0.0138, 0.0338, 0.0281, 0.0163, 0.0333, 0.0284, 0.0388, 0.0211, 0.0079, 0.0304, 0.0328, 0.022000000000000002, 0.0123, 0.0066, 0.0239, 0.0273, 0.018000000000000002, 0.0313, 0.0194, 0.0222, 0.0173, 0.0206, 0.0256, 0.0244, 0.0164, 0.0125, 0.0217, 0.0139, 0.0276, 0.0143, 0.0207, 0.0171, 0.0219, 0.0253, 0.0266, 0.018000000000000002, 0.012, 0.0218, 0.0376, 0.0263, 0.0064, 0.0, 0.0162, 0.0227, 0.0065, 0.0116, 0.0059, 0.0034, 0.0147, 0.0117, 0.0259, 0.028999999999999998, 0.0117, 0.0126, 0.0154, 0.0164, 0.0525, 0.0102, 0.0012, 0.017, 0.0168, 0.0045, 0.0142, 0.0378, 0.0074, 0.0062, 0.0132, 0.0049, 0.0164, 0.0015, 0.0058, 0.0117, 0.0, 0.0032, 0.0027, 0.0024, 0.0033, 0.0001, 0.0, 0.0053, 0.0, 0.0012, 0.0056, 0.0012, 0.0306, 0.0022, 0.0, 0.0, 0.0, 0.0044, 0.0035, 0.0, 0.0069, 0.0], \"xaxis\": \"x\", \"yaxis\": \"y\"}],\n",
              "                        {\"barmode\": \"overlay\", \"legend\": {\"tracegroupgap\": 0}, \"margin\": {\"t\": 60}, \"template\": {\"data\": {\"bar\": [{\"error_x\": {\"color\": \"#2a3f5f\"}, \"error_y\": {\"color\": \"#2a3f5f\"}, \"marker\": {\"line\": {\"color\": \"#E5ECF6\", \"width\": 0.5}}, \"type\": \"bar\"}], \"barpolar\": [{\"marker\": {\"line\": {\"color\": \"#E5ECF6\", \"width\": 0.5}}, \"type\": \"barpolar\"}], \"carpet\": [{\"aaxis\": {\"endlinecolor\": \"#2a3f5f\", \"gridcolor\": \"white\", \"linecolor\": \"white\", \"minorgridcolor\": \"white\", \"startlinecolor\": \"#2a3f5f\"}, \"baxis\": {\"endlinecolor\": \"#2a3f5f\", \"gridcolor\": \"white\", \"linecolor\": \"white\", \"minorgridcolor\": \"white\", \"startlinecolor\": \"#2a3f5f\"}, \"type\": \"carpet\"}], \"choropleth\": [{\"colorbar\": {\"outlinewidth\": 0, \"ticks\": \"\"}, \"type\": \"choropleth\"}], \"contour\": [{\"colorbar\": {\"outlinewidth\": 0, \"ticks\": \"\"}, \"colorscale\": [[0.0, \"#0d0887\"], [0.1111111111111111, \"#46039f\"], [0.2222222222222222, \"#7201a8\"], [0.3333333333333333, \"#9c179e\"], [0.4444444444444444, \"#bd3786\"], [0.5555555555555556, \"#d8576b\"], [0.6666666666666666, \"#ed7953\"], [0.7777777777777778, \"#fb9f3a\"], [0.8888888888888888, \"#fdca26\"], [1.0, \"#f0f921\"]], \"type\": \"contour\"}], \"contourcarpet\": [{\"colorbar\": {\"outlinewidth\": 0, \"ticks\": \"\"}, \"type\": \"contourcarpet\"}], \"heatmap\": [{\"colorbar\": {\"outlinewidth\": 0, \"ticks\": \"\"}, \"colorscale\": [[0.0, \"#0d0887\"], [0.1111111111111111, \"#46039f\"], [0.2222222222222222, \"#7201a8\"], [0.3333333333333333, \"#9c179e\"], [0.4444444444444444, \"#bd3786\"], [0.5555555555555556, \"#d8576b\"], [0.6666666666666666, \"#ed7953\"], [0.7777777777777778, \"#fb9f3a\"], [0.8888888888888888, \"#fdca26\"], [1.0, \"#f0f921\"]], \"type\": \"heatmap\"}], \"heatmapgl\": [{\"colorbar\": {\"outlinewidth\": 0, \"ticks\": \"\"}, \"colorscale\": [[0.0, \"#0d0887\"], [0.1111111111111111, \"#46039f\"], [0.2222222222222222, \"#7201a8\"], [0.3333333333333333, \"#9c179e\"], [0.4444444444444444, \"#bd3786\"], [0.5555555555555556, \"#d8576b\"], [0.6666666666666666, \"#ed7953\"], [0.7777777777777778, \"#fb9f3a\"], [0.8888888888888888, \"#fdca26\"], [1.0, \"#f0f921\"]], \"type\": \"heatmapgl\"}], \"histogram\": [{\"marker\": {\"colorbar\": {\"outlinewidth\": 0, \"ticks\": \"\"}}, \"type\": \"histogram\"}], \"histogram2d\": [{\"colorbar\": {\"outlinewidth\": 0, \"ticks\": \"\"}, \"colorscale\": [[0.0, \"#0d0887\"], [0.1111111111111111, \"#46039f\"], [0.2222222222222222, \"#7201a8\"], [0.3333333333333333, \"#9c179e\"], [0.4444444444444444, \"#bd3786\"], [0.5555555555555556, \"#d8576b\"], [0.6666666666666666, \"#ed7953\"], [0.7777777777777778, \"#fb9f3a\"], [0.8888888888888888, \"#fdca26\"], [1.0, \"#f0f921\"]], \"type\": \"histogram2d\"}], \"histogram2dcontour\": [{\"colorbar\": {\"outlinewidth\": 0, \"ticks\": \"\"}, \"colorscale\": [[0.0, \"#0d0887\"], [0.1111111111111111, \"#46039f\"], [0.2222222222222222, \"#7201a8\"], [0.3333333333333333, \"#9c179e\"], [0.4444444444444444, \"#bd3786\"], [0.5555555555555556, \"#d8576b\"], [0.6666666666666666, \"#ed7953\"], [0.7777777777777778, \"#fb9f3a\"], [0.8888888888888888, \"#fdca26\"], [1.0, \"#f0f921\"]], \"type\": \"histogram2dcontour\"}], \"mesh3d\": [{\"colorbar\": {\"outlinewidth\": 0, \"ticks\": \"\"}, \"type\": \"mesh3d\"}], \"parcoords\": [{\"line\": {\"colorbar\": {\"outlinewidth\": 0, \"ticks\": \"\"}}, \"type\": \"parcoords\"}], \"pie\": [{\"automargin\": true, \"type\": \"pie\"}], \"scatter\": [{\"marker\": {\"colorbar\": {\"outlinewidth\": 0, \"ticks\": \"\"}}, \"type\": \"scatter\"}], \"scatter3d\": [{\"line\": {\"colorbar\": {\"outlinewidth\": 0, \"ticks\": \"\"}}, \"marker\": {\"colorbar\": {\"outlinewidth\": 0, \"ticks\": \"\"}}, \"type\": \"scatter3d\"}], \"scattercarpet\": [{\"marker\": {\"colorbar\": {\"outlinewidth\": 0, \"ticks\": \"\"}}, \"type\": \"scattercarpet\"}], \"scattergeo\": [{\"marker\": {\"colorbar\": {\"outlinewidth\": 0, \"ticks\": \"\"}}, \"type\": \"scattergeo\"}], \"scattergl\": [{\"marker\": {\"colorbar\": {\"outlinewidth\": 0, \"ticks\": \"\"}}, \"type\": \"scattergl\"}], \"scattermapbox\": [{\"marker\": {\"colorbar\": {\"outlinewidth\": 0, \"ticks\": \"\"}}, \"type\": \"scattermapbox\"}], \"scatterpolar\": [{\"marker\": {\"colorbar\": {\"outlinewidth\": 0, \"ticks\": \"\"}}, \"type\": \"scatterpolar\"}], \"scatterpolargl\": [{\"marker\": {\"colorbar\": {\"outlinewidth\": 0, \"ticks\": \"\"}}, \"type\": \"scatterpolargl\"}], \"scatterternary\": [{\"marker\": {\"colorbar\": {\"outlinewidth\": 0, \"ticks\": \"\"}}, \"type\": \"scatterternary\"}], \"surface\": [{\"colorbar\": {\"outlinewidth\": 0, \"ticks\": \"\"}, \"colorscale\": [[0.0, \"#0d0887\"], [0.1111111111111111, \"#46039f\"], [0.2222222222222222, \"#7201a8\"], [0.3333333333333333, \"#9c179e\"], [0.4444444444444444, \"#bd3786\"], [0.5555555555555556, \"#d8576b\"], [0.6666666666666666, \"#ed7953\"], [0.7777777777777778, \"#fb9f3a\"], [0.8888888888888888, \"#fdca26\"], [1.0, \"#f0f921\"]], \"type\": \"surface\"}], \"table\": [{\"cells\": {\"fill\": {\"color\": \"#EBF0F8\"}, \"line\": {\"color\": \"white\"}}, \"header\": {\"fill\": {\"color\": \"#C8D4E3\"}, \"line\": {\"color\": \"white\"}}, \"type\": \"table\"}]}, \"layout\": {\"annotationdefaults\": {\"arrowcolor\": \"#2a3f5f\", \"arrowhead\": 0, \"arrowwidth\": 1}, \"coloraxis\": {\"colorbar\": {\"outlinewidth\": 0, \"ticks\": \"\"}}, \"colorscale\": {\"diverging\": [[0, \"#8e0152\"], [0.1, \"#c51b7d\"], [0.2, \"#de77ae\"], [0.3, \"#f1b6da\"], [0.4, \"#fde0ef\"], [0.5, \"#f7f7f7\"], [0.6, \"#e6f5d0\"], [0.7, \"#b8e186\"], [0.8, \"#7fbc41\"], [0.9, \"#4d9221\"], [1, \"#276419\"]], \"sequential\": [[0.0, \"#0d0887\"], [0.1111111111111111, \"#46039f\"], [0.2222222222222222, \"#7201a8\"], [0.3333333333333333, \"#9c179e\"], [0.4444444444444444, \"#bd3786\"], [0.5555555555555556, \"#d8576b\"], [0.6666666666666666, \"#ed7953\"], [0.7777777777777778, \"#fb9f3a\"], [0.8888888888888888, \"#fdca26\"], [1.0, \"#f0f921\"]], \"sequentialminus\": [[0.0, \"#0d0887\"], [0.1111111111111111, \"#46039f\"], [0.2222222222222222, \"#7201a8\"], [0.3333333333333333, \"#9c179e\"], [0.4444444444444444, \"#bd3786\"], [0.5555555555555556, \"#d8576b\"], [0.6666666666666666, \"#ed7953\"], [0.7777777777777778, \"#fb9f3a\"], [0.8888888888888888, \"#fdca26\"], [1.0, \"#f0f921\"]]}, \"colorway\": [\"#636efa\", \"#EF553B\", \"#00cc96\", \"#ab63fa\", \"#FFA15A\", \"#19d3f3\", \"#FF6692\", \"#B6E880\", \"#FF97FF\", \"#FECB52\"], \"font\": {\"color\": \"#2a3f5f\"}, \"geo\": {\"bgcolor\": \"white\", \"lakecolor\": \"white\", \"landcolor\": \"#E5ECF6\", \"showlakes\": true, \"showland\": true, \"subunitcolor\": \"white\"}, \"hoverlabel\": {\"align\": \"left\"}, \"hovermode\": \"closest\", \"mapbox\": {\"style\": \"light\"}, \"paper_bgcolor\": \"white\", \"plot_bgcolor\": \"#E5ECF6\", \"polar\": {\"angularaxis\": {\"gridcolor\": \"white\", \"linecolor\": \"white\", \"ticks\": \"\"}, \"bgcolor\": \"#E5ECF6\", \"radialaxis\": {\"gridcolor\": \"white\", \"linecolor\": \"white\", \"ticks\": \"\"}}, \"scene\": {\"xaxis\": {\"backgroundcolor\": \"#E5ECF6\", \"gridcolor\": \"white\", \"gridwidth\": 2, \"linecolor\": \"white\", \"showbackground\": true, \"ticks\": \"\", \"zerolinecolor\": \"white\"}, \"yaxis\": {\"backgroundcolor\": \"#E5ECF6\", \"gridcolor\": \"white\", \"gridwidth\": 2, \"linecolor\": \"white\", \"showbackground\": true, \"ticks\": \"\", \"zerolinecolor\": \"white\"}, \"zaxis\": {\"backgroundcolor\": \"#E5ECF6\", \"gridcolor\": \"white\", \"gridwidth\": 2, \"linecolor\": \"white\", \"showbackground\": true, \"ticks\": \"\", \"zerolinecolor\": \"white\"}}, \"shapedefaults\": {\"line\": {\"color\": \"#2a3f5f\"}}, \"ternary\": {\"aaxis\": {\"gridcolor\": \"white\", \"linecolor\": \"white\", \"ticks\": \"\"}, \"baxis\": {\"gridcolor\": \"white\", \"linecolor\": \"white\", \"ticks\": \"\"}, \"bgcolor\": \"#E5ECF6\", \"caxis\": {\"gridcolor\": \"white\", \"linecolor\": \"white\", \"ticks\": \"\"}}, \"title\": {\"x\": 0.05}, \"xaxis\": {\"automargin\": true, \"gridcolor\": \"white\", \"linecolor\": \"white\", \"ticks\": \"\", \"title\": {\"standoff\": 15}, \"zerolinecolor\": \"white\", \"zerolinewidth\": 2}, \"yaxis\": {\"automargin\": true, \"gridcolor\": \"white\", \"linecolor\": \"white\", \"ticks\": \"\", \"title\": {\"standoff\": 15}, \"zerolinecolor\": \"white\", \"zerolinewidth\": 2}}}, \"xaxis\": {\"anchor\": \"y\", \"domain\": [0.0, 1.0], \"title\": {\"text\": \"Incarceration rate for 50th percentile parent income\"}}, \"yaxis\": {\"anchor\": \"x\", \"domain\": [0.0, 1.0], \"title\": {\"text\": \"count\"}}},\n",
              "                        {\"responsive\": true}\n",
              "                    ).then(function(){\n",
              "                            \n",
              "var gd = document.getElementById('92682f8b-4406-44ef-9350-0f9e416896af');\n",
              "var x = new MutationObserver(function (mutations, observer) {{\n",
              "        var display = window.getComputedStyle(gd).display;\n",
              "        if (!display || display === 'none') {{\n",
              "            console.log([gd, 'removed!']);\n",
              "            Plotly.purge(gd);\n",
              "            observer.disconnect();\n",
              "        }}\n",
              "}});\n",
              "\n",
              "// Listen for the removal of the full notebook cells\n",
              "var notebookContainer = gd.closest('#notebook-container');\n",
              "if (notebookContainer) {{\n",
              "    x.observe(notebookContainer, {childList: true});\n",
              "}}\n",
              "\n",
              "// Listen for the clearing of the current output cell\n",
              "var outputEl = gd.closest('.output');\n",
              "if (outputEl) {{\n",
              "    x.observe(outputEl, {childList: true});\n",
              "}}\n",
              "\n",
              "                        })\n",
              "                };\n",
              "                \n",
              "            </script>\n",
              "        </div>\n",
              "</body>\n",
              "</html>"
            ]
          },
          "metadata": {
            "tags": []
          }
        }
      ]
    },
    {
      "cell_type": "code",
      "metadata": {
        "id": "4nhKVDQclfx6"
      },
      "source": [
        "hist_dc_25pct = px.histogram(df_bal_incar_merge, x =\"Incarceration_Rate_rP_gP_p25\", barmode = \"overlay\", color_discrete_sequence=[\"green\"], labels = {\"Incarceration_Rate_rP_gP_p25\": \"Incarceration rate for 25th percentile parent income\"})"
      ],
      "execution_count": 30,
      "outputs": []
    },
    {
      "cell_type": "code",
      "metadata": {
        "colab": {
          "base_uri": "https://localhost:8080/",
          "height": 542
        },
        "id": "pUoqDTYxly0G",
        "outputId": "a595a540-9f6d-4fc3-c4af-6da248c75825"
      },
      "source": [
        "hist_dc_25pct"
      ],
      "execution_count": 31,
      "outputs": [
        {
          "output_type": "display_data",
          "data": {
            "text/html": [
              "<html>\n",
              "<head><meta charset=\"utf-8\" /></head>\n",
              "<body>\n",
              "    <div>\n",
              "            <script src=\"https://cdnjs.cloudflare.com/ajax/libs/mathjax/2.7.5/MathJax.js?config=TeX-AMS-MML_SVG\"></script><script type=\"text/javascript\">if (window.MathJax) {MathJax.Hub.Config({SVG: {font: \"STIX-Web\"}});}</script>\n",
              "                <script type=\"text/javascript\">window.PlotlyConfig = {MathJaxConfig: 'local'};</script>\n",
              "        <script src=\"https://cdn.plot.ly/plotly-latest.min.js\"></script>    \n",
              "            <div id=\"d8a18ede-1cdc-4433-a5e2-121bfb7f8328\" class=\"plotly-graph-div\" style=\"height:525px; width:100%;\"></div>\n",
              "            <script type=\"text/javascript\">\n",
              "                \n",
              "                    window.PLOTLYENV=window.PLOTLYENV || {};\n",
              "                    \n",
              "                if (document.getElementById(\"d8a18ede-1cdc-4433-a5e2-121bfb7f8328\")) {\n",
              "                    Plotly.newPlot(\n",
              "                        'd8a18ede-1cdc-4433-a5e2-121bfb7f8328',\n",
              "                        [{\"alignmentgroup\": \"True\", \"bingroup\": \"x\", \"hoverlabel\": {\"namelength\": 0}, \"hovertemplate\": \"Incarceration rate for 25th percentile parent income=%{x}<br>count=%{y}\", \"legendgroup\": \"\", \"marker\": {\"color\": \"green\", \"opacity\": 0.5}, \"name\": \"\", \"offsetgroup\": \"\", \"orientation\": \"v\", \"showlegend\": false, \"type\": \"histogram\", \"x\": [0.1305, 0.1128, 0.1135, 0.102, 0.1061, 0.105, 0.0911, 0.0702, 0.0927, 0.085, 0.0901, 0.0779, 0.0692, 0.0982, 0.0854, 0.0726, 0.0723, 0.0773, 0.0806, 0.07200000000000001, 0.0605, 0.0787, 0.0496, 0.0721, 0.0624, 0.0998, 0.069, 0.0984, 0.0872, 0.0778, 0.0519, 0.0755, 0.0541, 0.0762, 0.0597, 0.0581, 0.0706, 0.0655, 0.0679, 0.0532, 0.063, 0.0563, 0.0689, 0.0597, 0.0587, 0.0631, 0.0716, 0.0525, 0.0532, 0.0717, 0.0648, 0.0591, 0.0546, 0.0345, 0.0572, 0.0352, 0.0565, 0.0646, 0.0585, 0.0616, 0.0737, 0.0849, 0.0534, 0.0648, 0.0592, 0.0589, 0.0503, 0.045, 0.0502, 0.0688, 0.0523, 0.0596, 0.0838, 0.0541, 0.0486, 0.0638, 0.0589, 0.0452, 0.066, 0.0523, 0.05, 0.0544, 0.0549, 0.0424, 0.0507, 0.0526, 0.0795, 0.0385, 0.0531, 0.0395, 0.0532, 0.0412, 0.0504, 0.0474, 0.0534, 0.0374, 0.0422, 0.0401, 0.0417, 0.0449, 0.0724, 0.0514, 0.0324, 0.0353, 0.0459, 0.0653, 0.0528, 0.0635, 0.0, 0.0311, 0.0384, 0.0583, 0.026000000000000002, 0.0517, 0.0505, 0.0354, 0.0316, 0.0284, 0.0499, 0.0403, 0.0446, 0.0469, 0.0568, 0.038, 0.0422, 0.0545, 0.0477, 0.0181, 0.0501, 0.035, 0.0355, 0.0413, 0.0508, 0.039, 0.0372, 0.0277, 0.0111, 0.0384, 0.0518, 0.0217, 0.0402, 0.0374, 0.0274, 0.0333, 0.0326, 0.0211, 0.0258, 0.0177, 0.0087, 0.0347, 0.0258, 0.0574, 0.0757, 0.0241, 0.0464, 0.0403, 0.0277, 0.0459, 0.0457, 0.0345, 0.0438, 0.0262, 0.038, 0.0404, 0.0725, 0.02, 0.0226, 0.0219, 0.0067, 0.0107, 0.0618, 0.0176, 0.0278, 0.0015, 0.0224, 0.0, 0.0202, 0.0274, 0.0119, 0.0103, 0.1091, 0.0575, 0.0163, 0.0, 0.0004, 0.0, 0.0, 0.0098, 0.0, 0.017, 0.0099, 0.0159, 0.0, 0.0], \"xaxis\": \"x\", \"yaxis\": \"y\"}],\n",
              "                        {\"barmode\": \"overlay\", \"legend\": {\"tracegroupgap\": 0}, \"margin\": {\"t\": 60}, \"template\": {\"data\": {\"bar\": [{\"error_x\": {\"color\": \"#2a3f5f\"}, \"error_y\": {\"color\": \"#2a3f5f\"}, \"marker\": {\"line\": {\"color\": \"#E5ECF6\", \"width\": 0.5}}, \"type\": \"bar\"}], \"barpolar\": [{\"marker\": {\"line\": {\"color\": \"#E5ECF6\", \"width\": 0.5}}, \"type\": \"barpolar\"}], \"carpet\": [{\"aaxis\": {\"endlinecolor\": \"#2a3f5f\", \"gridcolor\": \"white\", \"linecolor\": \"white\", \"minorgridcolor\": \"white\", \"startlinecolor\": \"#2a3f5f\"}, \"baxis\": {\"endlinecolor\": \"#2a3f5f\", \"gridcolor\": \"white\", \"linecolor\": \"white\", \"minorgridcolor\": \"white\", \"startlinecolor\": \"#2a3f5f\"}, \"type\": \"carpet\"}], \"choropleth\": [{\"colorbar\": {\"outlinewidth\": 0, \"ticks\": \"\"}, \"type\": \"choropleth\"}], \"contour\": [{\"colorbar\": {\"outlinewidth\": 0, \"ticks\": \"\"}, \"colorscale\": [[0.0, \"#0d0887\"], [0.1111111111111111, \"#46039f\"], [0.2222222222222222, \"#7201a8\"], [0.3333333333333333, \"#9c179e\"], [0.4444444444444444, \"#bd3786\"], [0.5555555555555556, \"#d8576b\"], [0.6666666666666666, \"#ed7953\"], [0.7777777777777778, \"#fb9f3a\"], [0.8888888888888888, \"#fdca26\"], [1.0, \"#f0f921\"]], \"type\": \"contour\"}], \"contourcarpet\": [{\"colorbar\": {\"outlinewidth\": 0, \"ticks\": \"\"}, \"type\": \"contourcarpet\"}], \"heatmap\": [{\"colorbar\": {\"outlinewidth\": 0, \"ticks\": \"\"}, \"colorscale\": [[0.0, \"#0d0887\"], [0.1111111111111111, \"#46039f\"], [0.2222222222222222, \"#7201a8\"], [0.3333333333333333, \"#9c179e\"], [0.4444444444444444, \"#bd3786\"], [0.5555555555555556, \"#d8576b\"], [0.6666666666666666, \"#ed7953\"], [0.7777777777777778, \"#fb9f3a\"], [0.8888888888888888, \"#fdca26\"], [1.0, \"#f0f921\"]], \"type\": \"heatmap\"}], \"heatmapgl\": [{\"colorbar\": {\"outlinewidth\": 0, \"ticks\": \"\"}, \"colorscale\": [[0.0, \"#0d0887\"], [0.1111111111111111, \"#46039f\"], [0.2222222222222222, \"#7201a8\"], [0.3333333333333333, \"#9c179e\"], [0.4444444444444444, \"#bd3786\"], [0.5555555555555556, \"#d8576b\"], [0.6666666666666666, \"#ed7953\"], [0.7777777777777778, \"#fb9f3a\"], [0.8888888888888888, \"#fdca26\"], [1.0, \"#f0f921\"]], \"type\": \"heatmapgl\"}], \"histogram\": [{\"marker\": {\"colorbar\": {\"outlinewidth\": 0, \"ticks\": \"\"}}, \"type\": \"histogram\"}], \"histogram2d\": [{\"colorbar\": {\"outlinewidth\": 0, \"ticks\": \"\"}, \"colorscale\": [[0.0, \"#0d0887\"], [0.1111111111111111, \"#46039f\"], [0.2222222222222222, \"#7201a8\"], [0.3333333333333333, \"#9c179e\"], [0.4444444444444444, \"#bd3786\"], [0.5555555555555556, \"#d8576b\"], [0.6666666666666666, \"#ed7953\"], [0.7777777777777778, \"#fb9f3a\"], [0.8888888888888888, \"#fdca26\"], [1.0, \"#f0f921\"]], \"type\": \"histogram2d\"}], \"histogram2dcontour\": [{\"colorbar\": {\"outlinewidth\": 0, \"ticks\": \"\"}, \"colorscale\": [[0.0, \"#0d0887\"], [0.1111111111111111, \"#46039f\"], [0.2222222222222222, \"#7201a8\"], [0.3333333333333333, \"#9c179e\"], [0.4444444444444444, \"#bd3786\"], [0.5555555555555556, \"#d8576b\"], [0.6666666666666666, \"#ed7953\"], [0.7777777777777778, \"#fb9f3a\"], [0.8888888888888888, \"#fdca26\"], [1.0, \"#f0f921\"]], \"type\": \"histogram2dcontour\"}], \"mesh3d\": [{\"colorbar\": {\"outlinewidth\": 0, \"ticks\": \"\"}, \"type\": \"mesh3d\"}], \"parcoords\": [{\"line\": {\"colorbar\": {\"outlinewidth\": 0, \"ticks\": \"\"}}, \"type\": \"parcoords\"}], \"pie\": [{\"automargin\": true, \"type\": \"pie\"}], \"scatter\": [{\"marker\": {\"colorbar\": {\"outlinewidth\": 0, \"ticks\": \"\"}}, \"type\": \"scatter\"}], \"scatter3d\": [{\"line\": {\"colorbar\": {\"outlinewidth\": 0, \"ticks\": \"\"}}, \"marker\": {\"colorbar\": {\"outlinewidth\": 0, \"ticks\": \"\"}}, \"type\": \"scatter3d\"}], \"scattercarpet\": [{\"marker\": {\"colorbar\": {\"outlinewidth\": 0, \"ticks\": \"\"}}, \"type\": \"scattercarpet\"}], \"scattergeo\": [{\"marker\": {\"colorbar\": {\"outlinewidth\": 0, \"ticks\": \"\"}}, \"type\": \"scattergeo\"}], \"scattergl\": [{\"marker\": {\"colorbar\": {\"outlinewidth\": 0, \"ticks\": \"\"}}, \"type\": \"scattergl\"}], \"scattermapbox\": [{\"marker\": {\"colorbar\": {\"outlinewidth\": 0, \"ticks\": \"\"}}, \"type\": \"scattermapbox\"}], \"scatterpolar\": [{\"marker\": {\"colorbar\": {\"outlinewidth\": 0, \"ticks\": \"\"}}, \"type\": \"scatterpolar\"}], \"scatterpolargl\": [{\"marker\": {\"colorbar\": {\"outlinewidth\": 0, \"ticks\": \"\"}}, \"type\": \"scatterpolargl\"}], \"scatterternary\": [{\"marker\": {\"colorbar\": {\"outlinewidth\": 0, \"ticks\": \"\"}}, \"type\": \"scatterternary\"}], \"surface\": [{\"colorbar\": {\"outlinewidth\": 0, \"ticks\": \"\"}, \"colorscale\": [[0.0, \"#0d0887\"], [0.1111111111111111, \"#46039f\"], [0.2222222222222222, \"#7201a8\"], [0.3333333333333333, \"#9c179e\"], [0.4444444444444444, \"#bd3786\"], [0.5555555555555556, \"#d8576b\"], [0.6666666666666666, \"#ed7953\"], [0.7777777777777778, \"#fb9f3a\"], [0.8888888888888888, \"#fdca26\"], [1.0, \"#f0f921\"]], \"type\": \"surface\"}], \"table\": [{\"cells\": {\"fill\": {\"color\": \"#EBF0F8\"}, \"line\": {\"color\": \"white\"}}, \"header\": {\"fill\": {\"color\": \"#C8D4E3\"}, \"line\": {\"color\": \"white\"}}, \"type\": \"table\"}]}, \"layout\": {\"annotationdefaults\": {\"arrowcolor\": \"#2a3f5f\", \"arrowhead\": 0, \"arrowwidth\": 1}, \"coloraxis\": {\"colorbar\": {\"outlinewidth\": 0, \"ticks\": \"\"}}, \"colorscale\": {\"diverging\": [[0, \"#8e0152\"], [0.1, \"#c51b7d\"], [0.2, \"#de77ae\"], [0.3, \"#f1b6da\"], [0.4, \"#fde0ef\"], [0.5, \"#f7f7f7\"], [0.6, \"#e6f5d0\"], [0.7, \"#b8e186\"], [0.8, \"#7fbc41\"], [0.9, \"#4d9221\"], [1, \"#276419\"]], \"sequential\": [[0.0, \"#0d0887\"], [0.1111111111111111, \"#46039f\"], [0.2222222222222222, \"#7201a8\"], [0.3333333333333333, \"#9c179e\"], [0.4444444444444444, \"#bd3786\"], [0.5555555555555556, \"#d8576b\"], [0.6666666666666666, \"#ed7953\"], [0.7777777777777778, \"#fb9f3a\"], [0.8888888888888888, \"#fdca26\"], [1.0, \"#f0f921\"]], \"sequentialminus\": [[0.0, \"#0d0887\"], [0.1111111111111111, \"#46039f\"], [0.2222222222222222, \"#7201a8\"], [0.3333333333333333, \"#9c179e\"], [0.4444444444444444, \"#bd3786\"], [0.5555555555555556, \"#d8576b\"], [0.6666666666666666, \"#ed7953\"], [0.7777777777777778, \"#fb9f3a\"], [0.8888888888888888, \"#fdca26\"], [1.0, \"#f0f921\"]]}, \"colorway\": [\"#636efa\", \"#EF553B\", \"#00cc96\", \"#ab63fa\", \"#FFA15A\", \"#19d3f3\", \"#FF6692\", \"#B6E880\", \"#FF97FF\", \"#FECB52\"], \"font\": {\"color\": \"#2a3f5f\"}, \"geo\": {\"bgcolor\": \"white\", \"lakecolor\": \"white\", \"landcolor\": \"#E5ECF6\", \"showlakes\": true, \"showland\": true, \"subunitcolor\": \"white\"}, \"hoverlabel\": {\"align\": \"left\"}, \"hovermode\": \"closest\", \"mapbox\": {\"style\": \"light\"}, \"paper_bgcolor\": \"white\", \"plot_bgcolor\": \"#E5ECF6\", \"polar\": {\"angularaxis\": {\"gridcolor\": \"white\", \"linecolor\": \"white\", \"ticks\": \"\"}, \"bgcolor\": \"#E5ECF6\", \"radialaxis\": {\"gridcolor\": \"white\", \"linecolor\": \"white\", \"ticks\": \"\"}}, \"scene\": {\"xaxis\": {\"backgroundcolor\": \"#E5ECF6\", \"gridcolor\": \"white\", \"gridwidth\": 2, \"linecolor\": \"white\", \"showbackground\": true, \"ticks\": \"\", \"zerolinecolor\": \"white\"}, \"yaxis\": {\"backgroundcolor\": \"#E5ECF6\", \"gridcolor\": \"white\", \"gridwidth\": 2, \"linecolor\": \"white\", \"showbackground\": true, \"ticks\": \"\", \"zerolinecolor\": \"white\"}, \"zaxis\": {\"backgroundcolor\": \"#E5ECF6\", \"gridcolor\": \"white\", \"gridwidth\": 2, \"linecolor\": \"white\", \"showbackground\": true, \"ticks\": \"\", \"zerolinecolor\": \"white\"}}, \"shapedefaults\": {\"line\": {\"color\": \"#2a3f5f\"}}, \"ternary\": {\"aaxis\": {\"gridcolor\": \"white\", \"linecolor\": \"white\", \"ticks\": \"\"}, \"baxis\": {\"gridcolor\": \"white\", \"linecolor\": \"white\", \"ticks\": \"\"}, \"bgcolor\": \"#E5ECF6\", \"caxis\": {\"gridcolor\": \"white\", \"linecolor\": \"white\", \"ticks\": \"\"}}, \"title\": {\"x\": 0.05}, \"xaxis\": {\"automargin\": true, \"gridcolor\": \"white\", \"linecolor\": \"white\", \"ticks\": \"\", \"title\": {\"standoff\": 15}, \"zerolinecolor\": \"white\", \"zerolinewidth\": 2}, \"yaxis\": {\"automargin\": true, \"gridcolor\": \"white\", \"linecolor\": \"white\", \"ticks\": \"\", \"title\": {\"standoff\": 15}, \"zerolinecolor\": \"white\", \"zerolinewidth\": 2}}}, \"xaxis\": {\"anchor\": \"y\", \"domain\": [0.0, 1.0], \"title\": {\"text\": \"Incarceration rate for 25th percentile parent income\"}}, \"yaxis\": {\"anchor\": \"x\", \"domain\": [0.0, 1.0], \"title\": {\"text\": \"count\"}}},\n",
              "                        {\"responsive\": true}\n",
              "                    ).then(function(){\n",
              "                            \n",
              "var gd = document.getElementById('d8a18ede-1cdc-4433-a5e2-121bfb7f8328');\n",
              "var x = new MutationObserver(function (mutations, observer) {{\n",
              "        var display = window.getComputedStyle(gd).display;\n",
              "        if (!display || display === 'none') {{\n",
              "            console.log([gd, 'removed!']);\n",
              "            Plotly.purge(gd);\n",
              "            observer.disconnect();\n",
              "        }}\n",
              "}});\n",
              "\n",
              "// Listen for the removal of the full notebook cells\n",
              "var notebookContainer = gd.closest('#notebook-container');\n",
              "if (notebookContainer) {{\n",
              "    x.observe(notebookContainer, {childList: true});\n",
              "}}\n",
              "\n",
              "// Listen for the clearing of the current output cell\n",
              "var outputEl = gd.closest('.output');\n",
              "if (outputEl) {{\n",
              "    x.observe(outputEl, {childList: true});\n",
              "}}\n",
              "\n",
              "                        })\n",
              "                };\n",
              "                \n",
              "            </script>\n",
              "        </div>\n",
              "</body>\n",
              "</html>"
            ]
          },
          "metadata": {
            "tags": []
          }
        }
      ]
    },
    {
      "cell_type": "code",
      "metadata": {
        "colab": {
          "base_uri": "https://localhost:8080/",
          "height": 542
        },
        "id": "NeEHCEYDl5I7",
        "outputId": "82d14d0a-80f2-4296-fd7e-86718d072447"
      },
      "source": [
        "hist_data = [df_dc_incar_merge[\"Incarceration_Rate_rP_gP_p75\"].tolist(),df_dc_incar_merge[\"Incarceration_Rate_rP_gP_p50\"].tolist(), df_dc_incar_merge[\"Incarceration_Rate_rP_gP_p25\"].tolist()]\n",
        "group_labels = [\"75th Percentile\", \"50th Percentile\", \"25th Percentile\"]\n",
        "\n",
        "# define the histogram \n",
        "distplot = ff.create_distplot(hist_data, \n",
        "                              group_labels,\n",
        "                              show_rug= False, \n",
        "                              show_hist= False)   \n",
        "\n",
        "\n",
        "distplot.update_layout(title_text=\"Distribution of Different Percentiles\") \n",
        "distplot.update_xaxes(title = \"Incarceration Rate\") \n",
        "distplot.update_yaxes(title = \"Number of neighborhoods\") "
      ],
      "execution_count": 32,
      "outputs": [
        {
          "output_type": "display_data",
          "data": {
            "text/html": [
              "<html>\n",
              "<head><meta charset=\"utf-8\" /></head>\n",
              "<body>\n",
              "    <div>\n",
              "            <script src=\"https://cdnjs.cloudflare.com/ajax/libs/mathjax/2.7.5/MathJax.js?config=TeX-AMS-MML_SVG\"></script><script type=\"text/javascript\">if (window.MathJax) {MathJax.Hub.Config({SVG: {font: \"STIX-Web\"}});}</script>\n",
              "                <script type=\"text/javascript\">window.PlotlyConfig = {MathJaxConfig: 'local'};</script>\n",
              "        <script src=\"https://cdn.plot.ly/plotly-latest.min.js\"></script>    \n",
              "            <div id=\"d64c7b80-e7dd-4c8b-be76-3d409afc169a\" class=\"plotly-graph-div\" style=\"height:525px; width:100%;\"></div>\n",
              "            <script type=\"text/javascript\">\n",
              "                \n",
              "                    window.PLOTLYENV=window.PLOTLYENV || {};\n",
              "                    \n",
              "                if (document.getElementById(\"d64c7b80-e7dd-4c8b-be76-3d409afc169a\")) {\n",
              "                    Plotly.newPlot(\n",
              "                        'd64c7b80-e7dd-4c8b-be76-3d409afc169a',\n",
              "                        [{\"legendgroup\": \"75th Percentile\", \"marker\": {\"color\": \"rgb(31, 119, 180)\"}, \"mode\": \"lines\", \"name\": \"75th Percentile\", \"showlegend\": true, \"type\": \"scatter\", \"x\": [0.0, 0.0001616, 0.0003232, 0.0004848, 0.0006464, 0.0008079999999999999, 0.0009696, 0.0011312, 0.0012928, 0.0014544, 0.0016159999999999998, 0.0017775999999999998, 0.0019392, 0.0021008, 0.0022624, 0.002424, 0.0025856, 0.0027472, 0.0029088, 0.0030703999999999996, 0.0032319999999999996, 0.0033935999999999997, 0.0035551999999999997, 0.0037167999999999997, 0.0038784, 0.00404, 0.0042016, 0.0043632, 0.0045248, 0.0046864, 0.004848, 0.0050095999999999995, 0.0051712, 0.0053327999999999995, 0.0054944, 0.005656, 0.0058176, 0.0059792, 0.006140799999999999, 0.0063024, 0.006463999999999999, 0.0066256, 0.006787199999999999, 0.0069488, 0.007110399999999999, 0.007271999999999999, 0.007433599999999999, 0.007595199999999999, 0.0077568, 0.0079184, 0.00808, 0.0082416, 0.0084032, 0.0085648, 0.0087264, 0.008888, 0.0090496, 0.0092112, 0.0093728, 0.0095344, 0.009696, 0.0098576, 0.010019199999999999, 0.0101808, 0.0103424, 0.010504, 0.010665599999999999, 0.010827199999999999, 0.0109888, 0.0111504, 0.011312, 0.011473599999999999, 0.0116352, 0.0117968, 0.0119584, 0.012119999999999999, 0.012281599999999998, 0.0124432, 0.0126048, 0.012766399999999999, 0.012927999999999999, 0.0130896, 0.0132512, 0.013412799999999999, 0.013574399999999999, 0.013735999999999998, 0.0138976, 0.014059199999999999, 0.014220799999999999, 0.014382399999999998, 0.014543999999999998, 0.0147056, 0.014867199999999999, 0.015028799999999998, 0.015190399999999998, 0.015352, 0.0155136, 0.0156752, 0.0158368, 0.0159984, 0.01616, 0.0163216, 0.0164832, 0.0166448, 0.0168064, 0.016968, 0.0171296, 0.0172912, 0.0174528, 0.0176144, 0.017776, 0.0179376, 0.0180992, 0.0182608, 0.0184224, 0.018584, 0.0187456, 0.0189072, 0.0190688, 0.019230399999999998, 0.019392, 0.0195536, 0.0197152, 0.0198768, 0.020038399999999998, 0.0202, 0.0203616, 0.0205232, 0.0206848, 0.020846399999999998, 0.021008, 0.0211696, 0.021331199999999998, 0.0214928, 0.021654399999999997, 0.021816, 0.0219776, 0.022139199999999998, 0.0223008, 0.0224624, 0.022624, 0.0227856, 0.022947199999999997, 0.0231088, 0.0232704, 0.023431999999999998, 0.0235936, 0.023755199999999997, 0.0239168, 0.0240784, 0.024239999999999998, 0.0244016, 0.024563199999999997, 0.024724799999999998, 0.0248864, 0.025047999999999997, 0.0252096, 0.025371199999999997, 0.025532799999999998, 0.0256944, 0.025855999999999997, 0.0260176, 0.0261792, 0.026340799999999998, 0.0265024, 0.026663999999999997, 0.026825599999999998, 0.0269872, 0.027148799999999997, 0.0273104, 0.027471999999999996, 0.027633599999999998, 0.0277952, 0.027956799999999997, 0.028118399999999998, 0.028279999999999996, 0.028441599999999997, 0.0286032, 0.028764799999999997, 0.028926399999999998, 0.029087999999999996, 0.029249599999999997, 0.0294112, 0.029572799999999996, 0.029734399999999998, 0.029896, 0.030057599999999997, 0.030219199999999998, 0.030380799999999996, 0.030542399999999997, 0.030704, 0.030865599999999997, 0.0310272, 0.0311888, 0.0313504, 0.031512, 0.0316736, 0.0318352, 0.0319968, 0.032158400000000004, 0.03232, 0.0324816, 0.0326432, 0.0328048, 0.0329664, 0.033128, 0.0332896, 0.0334512, 0.0336128, 0.0337744, 0.033936, 0.0340976, 0.0342592, 0.0344208, 0.0345824, 0.034744, 0.0349056, 0.0350672, 0.0352288, 0.0353904, 0.035552, 0.0357136, 0.0358752, 0.0360368, 0.0361984, 0.036359999999999996, 0.0365216, 0.0366832, 0.0368448, 0.0370064, 0.037168, 0.0373296, 0.0374912, 0.0376528, 0.0378144, 0.037975999999999996, 0.0381376, 0.0382992, 0.038460799999999996, 0.0386224, 0.038784, 0.0389456, 0.0391072, 0.0392688, 0.0394304, 0.039592, 0.0397536, 0.0399152, 0.040076799999999996, 0.0402384, 0.0404, 0.040561599999999996, 0.0407232, 0.0408848, 0.0410464, 0.041208, 0.0413696, 0.0415312, 0.041692799999999995, 0.0418544, 0.042016, 0.042177599999999996, 0.0423392, 0.0425008, 0.042662399999999996, 0.042824, 0.0429856, 0.0431472, 0.043308799999999995, 0.0434704, 0.043632, 0.043793599999999995, 0.0439552, 0.0441168, 0.044278399999999996, 0.04444, 0.0446016, 0.044763199999999996, 0.0449248, 0.0450864, 0.045248, 0.045409599999999994, 0.0455712, 0.0457328, 0.045894399999999995, 0.046056, 0.0462176, 0.046379199999999995, 0.0465408, 0.0467024, 0.046863999999999996, 0.047025599999999994, 0.0471872, 0.047348799999999996, 0.047510399999999994, 0.047672, 0.0478336, 0.047995199999999995, 0.0481568, 0.0483184, 0.048479999999999995, 0.0486416, 0.0488032, 0.048964799999999996, 0.049126399999999994, 0.049288, 0.049449599999999996, 0.049611199999999994, 0.0497728, 0.0499344, 0.050095999999999995, 0.0502576, 0.0504192, 0.050580799999999995, 0.05074239999999999, 0.050904, 0.051065599999999996, 0.051227199999999994, 0.0513888, 0.051550399999999996, 0.051711999999999994, 0.0518736, 0.0520352, 0.052196799999999995, 0.0523584, 0.05252, 0.052681599999999995, 0.05284319999999999, 0.0530048, 0.053166399999999996, 0.05332799999999999, 0.0534896, 0.053651199999999996, 0.053812799999999994, 0.0539744, 0.054136, 0.054297599999999994, 0.05445919999999999, 0.0546208, 0.054782399999999995, 0.05494399999999999, 0.0551056, 0.055267199999999995, 0.05542879999999999, 0.0555904, 0.055751999999999996, 0.055913599999999994, 0.0560752, 0.056236799999999997, 0.056398399999999994, 0.05655999999999999, 0.0567216, 0.056883199999999995, 0.05704479999999999, 0.0572064, 0.057367999999999995, 0.05752959999999999, 0.0576912, 0.057852799999999996, 0.058014399999999994, 0.05817599999999999, 0.058337599999999996, 0.058499199999999994, 0.05866079999999999, 0.0588224, 0.058983999999999995, 0.05914559999999999, 0.0593072, 0.059468799999999995, 0.05963039999999999, 0.059792, 0.059953599999999996, 0.060115199999999994, 0.06027679999999999, 0.060438399999999996, 0.060599999999999994, 0.06076159999999999, 0.0609232, 0.061084799999999995, 0.06124639999999999, 0.061408, 0.061569599999999995, 0.06173119999999999, 0.06189279999999999, 0.0620544, 0.062216, 0.0623776, 0.0625392, 0.0627008, 0.0628624, 0.063024, 0.0631856, 0.0633472, 0.0635088, 0.0636704, 0.063832, 0.0639936, 0.0641552, 0.06431680000000001, 0.06447839999999999, 0.06464, 0.06480159999999999, 0.0649632, 0.0651248, 0.0652864, 0.06544799999999999, 0.0656096, 0.06577119999999999, 0.0659328, 0.0660944, 0.066256, 0.0664176, 0.0665792, 0.06674079999999999, 0.0669024, 0.067064, 0.0672256, 0.0673872, 0.0675488, 0.06771039999999999, 0.067872, 0.0680336, 0.0681952, 0.0683568, 0.0685184, 0.06867999999999999, 0.0688416, 0.06900319999999999, 0.0691648, 0.0693264, 0.069488, 0.06964959999999999, 0.0698112, 0.06997279999999999, 0.0701344, 0.070296, 0.0704576, 0.0706192, 0.0707808, 0.07094239999999999, 0.071104, 0.0712656, 0.0714272, 0.0715888, 0.0717504, 0.07191199999999999, 0.0720736, 0.07223519999999999, 0.0723968, 0.0725584, 0.07271999999999999, 0.07288159999999999, 0.0730432, 0.07320479999999999, 0.0733664, 0.073528, 0.0736896, 0.07385119999999999, 0.0740128, 0.07417439999999999, 0.074336, 0.0744976, 0.0746592, 0.07482079999999999, 0.0749824, 0.07514399999999999, 0.0753056, 0.07546719999999998, 0.0756288, 0.0757904, 0.07595199999999999, 0.07611359999999999, 0.0762752, 0.07643679999999999, 0.0765984, 0.07676, 0.07692159999999999, 0.07708319999999999, 0.0772448, 0.07740639999999999, 0.077568, 0.0777296, 0.0778912, 0.07805279999999999, 0.0782144, 0.07837599999999999, 0.0785376, 0.0786992, 0.0788608, 0.07902239999999999, 0.079184, 0.07934559999999999, 0.0795072, 0.07966879999999998, 0.0798304, 0.079992, 0.08015359999999999, 0.08031519999999999, 0.0804768, 0.08063839999999999], \"xaxis\": \"x\", \"y\": [20.615193447160987, 20.846682561186476, 21.073366529502398, 21.29510850755073, 21.51177880841997, 21.723255079763174, 21.92942246038232, 22.13017371613187, 22.325409354875234, 22.515037720309497, 22.698975064555267, 22.877145599490863, 23.04948152689122, 23.2159230475126, 23.376418349343975, 23.530923575322795, 23.679402770890114, 23.821827811832367, 23.958178312928688, 24.088441517989967, 24.212612171941498, 24.330692375660192, 24.442691424336452, 24.54862563018264, 24.648518130358887, 24.742398681031627, 24.830303438519156, 24.912274728514447, 24.988360804403214, 25.058615595722216, 25.123098447820993, 25.181873853806117, 25.23501117985504, 25.282584384993353, 25.324671736426588, 25.3613555215143, 25.39272175746289, 25.418859899799187, 25.439862550668003, 25.455825167972186, 25.46684577634778, 25.473024680933463, 25.47446418485945, 25.471268311341746, 25.46354253122656, 25.451393496783922, 25.434928782503405, 25.414256633594498, 25.38948572284375, 25.360724916425415, 25.32808304921087, 25.291668710063586, 25.251590037551836, 25.20795452645317, 25.160868845369368, 25.110438665711374, 25.05676850225953, 24.999961565446984, 24.94011962546025, 24.8773428881968, 24.811729883067162, 24.743377362579384, 24.67238021359366, 24.598831380089592, 24.522821797242955, 24.444440336567805, 24.363773761839607, 24.280906695478254, 24.195921595035866, 24.10889873940322, 24.019916224319033, 23.929049966742763, 23.836373717627012, 23.74195908260749, 23.64587555011149, 23.548190526372053, 23.448969376824312, 23.34827547335313, 23.24617024685565, 23.14271324458021, 23.037962191703542, 22.931973056611486, 22.824800119352517, 22.716496042742698, 22.607111945609862, 22.496697477675642, 22.38530089559047, 22.272969139649074, 22.1597479107345, 22.045681747054275, 21.93081410025555, 21.815187410524754, 21.69884318030097, 21.581822046255365, 21.464163849212294, 21.345907701712502, 21.227092052944563, 21.107754750793962, 20.98793310078682, 20.867663921729534, 20.74698359787024, 20.625928127435195, 20.504533167415342, 20.382834074505226, 20.26086594211777, 20.13866363342379, 20.016261810385963, 19.89369495877912, 19.770997409210477, 19.64820335417139, 19.525346861172626, 19.402461882032703, 19.279582258404908, 19.156741723645233, 19.033973901137372, 18.911312299203992, 18.78879030274716, 18.666441161769637, 18.544297976940523, 18.42239368237599, 18.300761025814275, 18.179432546370077, 18.0584405500579, 17.937817083279548, 17.81759390447238, 17.69780245411774, 17.578473823309395, 17.45963872108211, 17.341327440699235, 17.223569825095765, 17.10639523167151, 16.989832496624906, 16.873909899012943, 16.758655124719066, 16.64409523050411, 16.530256608309347, 16.417164949973674, 16.304845212520775, 16.193321584162074, 16.082617451155873, 15.972755365652455, 15.86375701464753, 15.755643190156984, 15.648433760716744, 15.542147644303096, 15.436802782758523, 15.332416117799868, 15.229003568676147, 15.126580011533859, 15.0251592605394, 14.92475405079891, 14.825376023107651, 14.727035710552322, 14.629742526982177, 14.533504757356658, 14.43832954997037, 14.344222910548773, 14.251189698201447, 14.159233623214135, 14.0683572466539, 13.978561981758046, 13.889848097070315, 13.8022147212861, 13.71565984976204, 13.630180352643551, 13.545771984559918, 13.4624293958344, 13.380146145154411, 13.298914713645601, 13.218726520291867, 13.139571938642531, 13.061440314748465, 12.984319986267277, 12.908198302679198, 12.833061646555644, 12.75889545582311, 12.685684246966575, 12.613411639118072, 12.542060378977585, 12.471612366515691, 12.402048681409225, 12.33334961016382, 12.265494673878905, 12.198462656614305, 12.13223163431888, 12.066779004285225, 12.002081515096288, 11.938115297032843, 11.874855892913088, 11.81227828933761, 11.75035694831635, 11.689065839254916, 11.628378471281412, 11.568267925895189, 11.508706889921992, 11.449667688760437, 11.391122319907602, 11.333042486750285, 11.275399632612281, 11.21816497504648, 11.161309540361863, 11.104804198376158, 11.048619697384138, 10.99272669933165, 10.937095815185147, 10.881697640485712, 10.826502791075411, 10.771481938982928, 10.716605848454737, 10.661845412114761, 10.60717168723653, 10.552555932107039, 10.497969642462238, 10.443384587970193, 10.388772848736501, 10.334106851804103, 10.279359407617696, 10.224503746419677, 10.169513554543038, 10.114363010563823, 10.059026821272836, 10.00348025742514, 9.947699189222062, 9.891660121479129, 9.835340228430924, 9.778717388121562, 9.721770216327366, 9.664478099957346, 9.6068212298741, 9.54878063307721, 9.490338204189431, 9.431476736184973, 9.372179950297973, 9.312432525048719, 9.252220124324547, 9.191529424452172, 9.130348140198059, 9.068665049633337, 9.006470017800549, 8.94375401912052, 8.880509158477201, 8.816728690921277, 8.75240703993329, 8.687539814189485, 8.622123822775118, 8.556157088792359, 8.489638861312107, 8.422569625621337, 8.35495111172127, 8.286786301033558, 8.218079431275976, 8.148835999471315, 8.079062763057959, 8.00876773907354, 7.9379602013872335, 7.866650675960039, 7.794850934117139, 7.722573983819988, 7.649834058930338, 7.576646606463073, 7.503028271829104, 7.428996882073604, 7.354571427120364, 7.279772039036648, 7.204619969338154, 7.129137564357928, 7.0533482387076, 6.977276446863749, 6.900947652916825, 6.824388298523893, 6.747625769111083, 6.670688358375298, 6.593605231139203, 6.516406384616699, 6.439122608150292, 6.36178544148462, 6.2844271316445415, 6.20708058848841, 6.129779339010444, 6.0525574804691455, 5.97544963242048, 5.898490887737211, 5.821716762698015, 5.745163146231113, 5.6688662483993975, 5.592862548214992, 5.517188740872425, 5.441881684490028, 5.366978346450708, 5.292515749432448, 5.218530917219895, 5.1450608203880455, 5.072142321948633, 4.999812123049541, 4.928106708816698, 4.857062294426915, 4.786714771499604, 4.717099654893193, 4.648252029991434, 4.580206500562732, 4.512997137274292, 4.446657426940609, 4.3812202225845995, 4.316717694386593, 4.253181281595525, 4.190641645473356, 4.129128623342405, 4.068671183802135, 4.009297383180506, 3.951034323281708, 3.893908110490524, 3.8379438162907333, 3.783165439252601, 3.7295958685424138, 3.6772568490044364, 3.626168947863322, 3.5763515230930265, 3.5278226934956116, 3.4805993105314714, 3.434696931940047, 3.3901297971882483, 3.3469108047814498, 3.305051491469945, 3.2645620133818745, 3.2254511291113572, 3.1877261847888336, 3.1513931011585004, 3.1164563626858337, 3.0829190087162965, 3.0507826267042453, 3.0200473475291627, 2.990711842914328, 2.9627733249609793, 2.9362275478090076, 2.9110688114328522, 2.8872899675794477, 2.8648824278522764, 2.8438361739437332, 2.824139770015043, 2.80578037722068, 2.788743770371495, 2.7730143567277414, 2.758575196910476, 2.745408027916584, 2.7334932882193685, 2.7228101449335287, 2.713336523019462, 2.7050491364986087, 2.697923521647281, 2.691934072132923, 2.6870540760523927, 2.6832557548278473, 2.6805103039113853, 2.678787935245261, 2.67805792142014, 2.678288641469038, 2.67944762823015, 2.6815016172071298, 2.6844165968506557, 2.688157860180412, 2.692690057662058, 2.697977251249134, 2.703982969495172, 2.7106702636371907, 2.7180017645470236, 2.7259397404431143, 2.734446155251246, 2.743482727498938, 2.7530109896247343, 2.7629923475802705, 2.7733881406000487, 2.784159701011118, 2.7952684139525896, 2.80667577687281, 2.818343458670526, 2.8302333583451333, 2.8423076630203146, 2.854528905205096, 2.8668600191564897, 2.879264396208464, 2.8917059389331508, 2.9041491140017914, 2.916559003615005, 2.928901355374657, 2.9411426304726995, 2.953250050075996, 2.9651916397903784, 2.9769362720917814, 2.9884537066174737, 2.9997146282161, 3.0106906826612474, 3.021354509939942, 3.0316797750343603, 3.0416411961224243, 3.0512145701308335, 3.0603767955820236, 3.0691058926851635, 3.07738102062979, 3.0851824920499444, 3.0924917846355378, 3.0992915498772793, 3.1055656189408376, 3.111299005675553, 3.1164779067726283, 3.1210896990973844, 3.1251229342297187, 3.128567330256487, 3.1314137608688664, 3.1336542418270215, 3.135281914863353, 3.1362910291044432, 3.1366769201001845, 3.136435986556719, 3.1355656648775874, 3.1340644016247565, 3.1319316240180877, 3.1291677085981853, 3.1257739481834084, 3.1217525172572307, 3.1171064359266736, 3.1118395325969814, 3.105956405510954, 3.0994623833044512, 3.0923634847316834, 3.084666377715603, 3.0763783378795884, 3.0675072067168223, 3.058061349553391, 3.048049613460085, 3.037481285265955, 3.0263660498244955, 3.01471394868008, 3.0025353392787335, 2.989840854862965, 2.9766413651855554, 2.962947938171794, 2.9487718026536456, 2.9341243122929552, 2.919016910803851, 2.9034610985771674, 2.8874684008019367, 2.87105033717108, 2.8542183932497527, 2.8369839935764496, 2.819358476557847, 2.8013530712094536, 2.7829788757848464, 2.7642468383270535, 2.745167739166298, 2.7257521753789944, 2.7060105472136007, 2.685953046479844, 2.665589646888679, 2.64493009632162, 2.6239839109993546, 2.6027603715112924, 2.5812685206595374, 2.559517163063196, 2.5375148664614704, 2.5152699646471564, 2.492790561955567, 2.4700845392280835, 2.4471595611636943, 2.4240230849671764, 2.400682370197843, 2.377144489719004, 2.3534163416447065, 2.329504662177769, 2.3054160392305736, 2.2811569267186798, 2.2567336594160237, 2.2321524682601113, 2.207419495995576, 2.182540813045103, 2.15752243349789, 2.1323703311075857, 2.1070904551936946, 2.0816887463433345, 2.056171151813328, 2.0305436405362607, 2.004812217638198, 1.9789829383803172, 1.9530619214413762, 1.9270553614632726, 1.9009695407873364, 1.8748108403147798, 1.848585749430674, 1.8223008749371081, 1.7959629489473572, 1.7695788356995805, 1.7431555372549767, 1.7167001980520418, 1.6902201082951647, 1.6637227061625544, 1.637215578824885, 1.6107064622728096, 1.584203239957637, 1.557713940255921, 1.5312467327746697, 1.5048099235198387], \"yaxis\": \"y\"}, {\"legendgroup\": \"50th Percentile\", \"marker\": {\"color\": \"rgb(255, 127, 14)\"}, \"mode\": \"lines\", \"name\": \"50th Percentile\", \"showlegend\": true, \"type\": \"scatter\", \"x\": [0.0, 0.000163, 0.000326, 0.000489, 0.000652, 0.0008150000000000001, 0.000978, 0.001141, 0.001304, 0.001467, 0.0016300000000000002, 0.001793, 0.001956, 0.0021190000000000002, 0.002282, 0.002445, 0.002608, 0.002771, 0.002934, 0.003097, 0.0032600000000000003, 0.003423, 0.003586, 0.003749, 0.003912, 0.0040750000000000005, 0.0042380000000000004, 0.0044009999999999995, 0.004564, 0.004727, 0.00489, 0.005053, 0.005216, 0.005379, 0.005542, 0.005705, 0.005868, 0.006031000000000001, 0.006194, 0.006357, 0.006520000000000001, 0.006683, 0.006846, 0.0070090000000000005, 0.007172, 0.007335, 0.007498, 0.007661, 0.007824, 0.007987, 0.008150000000000001, 0.008313000000000001, 0.008476000000000001, 0.008639, 0.008801999999999999, 0.008964999999999999, 0.009128, 0.009291, 0.009454, 0.009617, 0.00978, 0.009943, 0.010106, 0.010269, 0.010432, 0.010595, 0.010758, 0.010921000000000002, 0.011084, 0.011247, 0.01141, 0.011573, 0.011736, 0.011899000000000002, 0.012062000000000002, 0.012225, 0.012388, 0.012551, 0.012714, 0.012877000000000001, 0.013040000000000001, 0.013203000000000001, 0.013366, 0.013529, 0.013692, 0.013855000000000001, 0.014018000000000001, 0.014181000000000001, 0.014344, 0.014506999999999999, 0.01467, 0.014833, 0.014996, 0.015159, 0.015322, 0.015485, 0.015648, 0.015811, 0.015974, 0.016137000000000002, 0.016300000000000002, 0.016463000000000002, 0.016626000000000002, 0.016789000000000002, 0.016952000000000002, 0.017115000000000002, 0.017278, 0.017440999999999998, 0.017603999999999998, 0.017766999999999998, 0.017929999999999998, 0.018093, 0.018256, 0.018419, 0.018582, 0.018745, 0.018908, 0.019071, 0.019234, 0.019397, 0.01956, 0.019722999999999997, 0.019886, 0.020049, 0.020212, 0.020375, 0.020538, 0.020701, 0.020864, 0.021027, 0.02119, 0.021353, 0.021516, 0.021679, 0.021842000000000004, 0.022005000000000004, 0.022168, 0.022331, 0.022494, 0.022657, 0.02282, 0.022983, 0.023146, 0.023309, 0.023472, 0.023635000000000003, 0.023798000000000003, 0.023961000000000003, 0.024124000000000003, 0.024287000000000003, 0.02445, 0.024613, 0.024776, 0.024939, 0.025102, 0.025265, 0.025428, 0.025591000000000003, 0.025754000000000003, 0.025917000000000003, 0.026080000000000002, 0.026243000000000002, 0.026406000000000002, 0.026569000000000002, 0.026732, 0.026895, 0.027058, 0.027221, 0.027384, 0.027547000000000002, 0.027710000000000002, 0.027873000000000002, 0.028036000000000002, 0.028199000000000002, 0.028362000000000002, 0.028525000000000002, 0.028688, 0.028851, 0.029013999999999998, 0.029176999999999998, 0.02934, 0.029503, 0.029666, 0.029829, 0.029992, 0.030155, 0.030318, 0.030481, 0.030644, 0.030807, 0.03097, 0.031133, 0.031296, 0.031459, 0.031622, 0.031785, 0.031948, 0.03211100000000001, 0.032274000000000004, 0.03243700000000001, 0.032600000000000004, 0.032763, 0.032926000000000004, 0.033089, 0.033252000000000004, 0.033415, 0.033578000000000004, 0.033741, 0.033904000000000004, 0.034067, 0.034230000000000003, 0.034393, 0.034556, 0.034719, 0.034881999999999996, 0.035045, 0.035207999999999996, 0.035371, 0.035533999999999996, 0.035697, 0.035859999999999996, 0.036023000000000006, 0.036186, 0.036349000000000006, 0.036512, 0.036675000000000006, 0.036838, 0.037001000000000006, 0.037164, 0.037327, 0.03749, 0.037653, 0.037816, 0.037979, 0.038142, 0.038305, 0.038468, 0.038631, 0.038794, 0.038957, 0.03912, 0.039283, 0.039445999999999995, 0.039609, 0.039772, 0.039935000000000005, 0.040098, 0.040261000000000005, 0.040424, 0.040587000000000005, 0.04075, 0.040913000000000005, 0.041076, 0.041239000000000005, 0.041402, 0.041565000000000005, 0.041728, 0.041891, 0.042054, 0.042217, 0.04238, 0.042543, 0.042706, 0.042869, 0.043032, 0.043195, 0.043358, 0.043521000000000004, 0.04368400000000001, 0.043847000000000004, 0.04401000000000001, 0.044173000000000004, 0.044336, 0.044499000000000004, 0.044662, 0.044825000000000004, 0.044988, 0.045151000000000004, 0.045314, 0.045477000000000004, 0.04564, 0.045803, 0.045966, 0.046129, 0.046292, 0.046454999999999996, 0.046618, 0.046780999999999996, 0.046944, 0.047106999999999996, 0.047270000000000006, 0.047433, 0.047596000000000006, 0.047759, 0.047922000000000006, 0.048085, 0.048248000000000006, 0.048411, 0.048574000000000006, 0.048737, 0.0489, 0.049063, 0.049226, 0.049389, 0.049552, 0.049715, 0.049878, 0.050041, 0.050204, 0.050367, 0.05053, 0.050693, 0.050856, 0.051018999999999995, 0.051182000000000005, 0.051345, 0.051508000000000005, 0.051671, 0.051834000000000005, 0.051997, 0.052160000000000005, 0.052323, 0.052486000000000005, 0.052649, 0.052812000000000005, 0.052975, 0.053138000000000005, 0.053301, 0.053464, 0.053627, 0.05379, 0.053953, 0.054116, 0.054279, 0.054442, 0.054605, 0.054768, 0.05493100000000001, 0.055094000000000004, 0.05525700000000001, 0.055420000000000004, 0.05558300000000001, 0.055746000000000004, 0.055909, 0.056072000000000004, 0.056235, 0.056398000000000004, 0.056561, 0.056724000000000004, 0.056887, 0.057050000000000003, 0.057213, 0.057376, 0.057539, 0.057702, 0.057865, 0.058027999999999996, 0.058191, 0.058353999999999996, 0.058517, 0.05868, 0.058843000000000006, 0.059006, 0.059169000000000006, 0.059332, 0.059495000000000006, 0.059658, 0.059821000000000006, 0.059984, 0.060147000000000006, 0.06031, 0.060473, 0.060636, 0.060799, 0.060962, 0.061125, 0.061288, 0.061451, 0.061614, 0.061777, 0.06194, 0.062103, 0.062266, 0.062429000000000005, 0.062592, 0.062755, 0.062918, 0.063081, 0.063244, 0.063407, 0.06357, 0.063733, 0.063896, 0.06405899999999999, 0.06422200000000002, 0.06438500000000001, 0.06454800000000001, 0.064711, 0.06487400000000001, 0.06503700000000001, 0.06520000000000001, 0.065363, 0.065526, 0.06568900000000001, 0.06585200000000001, 0.066015, 0.066178, 0.06634100000000001, 0.06650400000000001, 0.066667, 0.06683, 0.06699300000000001, 0.06715600000000001, 0.067319, 0.067482, 0.067645, 0.06780800000000001, 0.067971, 0.068134, 0.068297, 0.06846000000000001, 0.068623, 0.068786, 0.068949, 0.069112, 0.069275, 0.069438, 0.069601, 0.06976399999999999, 0.069927, 0.07009, 0.070253, 0.07041599999999999, 0.070579, 0.070742, 0.070905, 0.07106799999999999, 0.071231, 0.071394, 0.071557, 0.07171999999999999, 0.071883, 0.07204600000000001, 0.07220900000000001, 0.072372, 0.072535, 0.07269800000000001, 0.07286100000000001, 0.073024, 0.073187, 0.07335000000000001, 0.07351300000000001, 0.073676, 0.073839, 0.07400200000000001, 0.07416500000000001, 0.074328, 0.074491, 0.074654, 0.07481700000000001, 0.07498, 0.075143, 0.075306, 0.07546900000000001, 0.075632, 0.075795, 0.075958, 0.07612100000000001, 0.076284, 0.076447, 0.07661, 0.076773, 0.076936, 0.077099, 0.077262, 0.077425, 0.077588, 0.077751, 0.077914, 0.078077, 0.07824, 0.078403, 0.078566, 0.078729, 0.07889199999999999, 0.079055, 0.079218, 0.07938100000000001, 0.079544, 0.07970700000000001, 0.07987000000000001, 0.080033, 0.080196, 0.08035900000000001, 0.08052200000000001, 0.080685, 0.080848, 0.08101100000000001, 0.08117400000000001, 0.081337], \"xaxis\": \"x\", \"y\": [12.128892263753261, 12.289900461002828, 12.44860910957352, 12.604928457149297, 12.758773345233534, 12.910063390031656, 13.058723150392357, 13.204682282224319, 13.347875678852372, 13.488243596827864, 13.625731766760145, 13.760291488790156, 13.8918797123837, 14.02045910017926, 14.145998075683986, 14.26847085467124, 14.387857460193795, 14.504143721187019, 14.617321254697915, 14.727387431836418, 14.834345327605392, 14.93820365482613, 15.038976682434193, 15.136684138477774, 15.23135109820731, 15.323007857698375, 15.411689793502394, 15.497437208869362, 15.580295167134295, 15.660313312903376, 15.737545681718009, 15.812050498913251, 15.883889968422904, 15.953130052315228, 16.019840241872345, 16.08409332105078, 16.1459651231823, 16.205534281791206, 16.262881976418527, 16.318091674352317, 16.371248869170195, 16.42244081700129, 16.47175627141365, 16.519285217826656, 16.56511860833946, 16.60934809785248, 16.65206578234285, 16.693363940134386, 16.733334776979323, 16.77207017574205, 16.809661451446186, 16.84619911241315, 16.88177262818584, 16.916470204893226, 16.950378568672097, 16.98358275772069, 17.01616592351461, 17.04820914167187, 17.07979123290604, 17.110988594460128, 17.14187504236544, 17.17252166482062, 17.202996686937265, 17.23336534704955, 17.263689784735828, 17.294028940652165, 17.324438468229317, 17.354970657238034, 17.385674369180993, 17.41659498442548, 17.44777436094711, 17.47925080451333, 17.511059050095692, 17.543230254262028, 17.575791998263153, 17.608768301496127, 17.642179644994037, 17.676043004563752, 17.71037189316709, 17.745176412116148, 17.780463310634172, 17.81623605331268, 17.85249489498252, 17.88923696250087, 17.926456342947912, 17.96414417771853, 18.00228876198906, 18.04087564903707, 18.079887758892518, 18.119305490800237, 18.159106838979458, 18.1992675111728, 18.239761049485736, 18.28055895303018, 18.32163080189728, 18.362944382000467, 18.40446581034578, 18.44615966030424, 18.487989086480336, 18.529915948791043, 18.571900935390932, 18.613903684101135, 18.655882902022267, 18.697796483035606, 18.73960162291957, 18.781254931832706, 18.822712543938415, 18.863930223970407, 18.904863470561352, 18.945467616180547, 18.985697923549093, 19.025509678423653, 19.0648582786606, 19.10369931949361, 19.141988674977508, 19.179682575569732, 19.216737681838485, 19.25311115430372, 19.28876071943229, 19.323644731822448, 19.357722232627136, 19.390953004275755, 19.42329762156571, 19.454717499204147, 19.485174935887457, 19.514633155013758, 19.54305634212916, 19.57040967921109, 19.596659375898145, 19.621772697774922, 19.645717991823474, 19.668464709151472, 19.689983425107595, 19.710245856891493, 19.729224878764203, 19.74689453496099, 19.76323005040506, 19.778207839315517, 19.7918055117989, 19.804001878507822, 19.814776953444596, 19.824111954982666, 19.831989305171422, 19.83839262738624, 19.84330674237709, 19.846717662765922, 19.84861258603521, 19.848979886046763, 19.84780910312302, 19.84509093272056, 19.840817212719124, 19.834980909348133, 19.827576101767416, 19.81859796531809, 19.808042753456213, 19.79590777838154, 19.782191390372038, 19.766892955835367, 19.750012834089326, 19.731552352883273, 19.71151378267602, 19.689900309686927, 19.666716007740323, 19.641965808927395, 19.615655473113534, 19.587791556323424, 19.55838137804234, 19.527432987476793, 19.49495512882325, 19.46095720560178, 19.425449244115036, 19.388441856102595, 19.349946200665055, 19.309973945540783, 19.26853722782412, 19.22564861422107, 19.181321060944683, 19.13556787335966, 19.08840266549052, 19.039839319514645, 18.98989194536684, 18.93857484058593, 18.885902450539994, 18.831889329169314, 18.776550100390406, 18.719899420306245, 18.66195194037049, 18.602722271654173, 18.542224950363554, 18.480474404758027, 18.417484923614797, 18.35327062638571, 18.28784543518819, 18.221223048767925, 18.15341691856762, 18.08444022702832, 18.01430586824549, 17.943026431093138, 17.870614184921706, 17.7970810679268, 17.72243867827499, 17.646698268064156, 17.56987074018297, 17.4919666481234, 17.412996198787667, 17.332969258318116, 17.251895360964763, 17.169783720992474, 17.08664324761484, 17.002482562927856, 16.917310022802894, 16.83113374068194, 16.743961614206036, 16.655801354590995, 16.56666051865235, 16.47654654336521, 16.38546678283282, 16.29342854752269, 16.200439145617608, 16.10650592631458, 16.011636324895388, 15.91583790937869, 15.819118428555758, 15.72148586119993, 15.622948466233442, 15.523514833626553, 15.423193935796144, 15.321995179267791, 15.219928456358259, 15.117004196633246, 15.013233417892446, 14.908627776432773, 14.803199616340903, 14.696962017567166, 14.58992884253517, 14.482114781045851, 14.373535393238427, 14.264207150377585, 14.154147473242743, 14.043374767903957, 13.931908458678029, 13.819769018069, 13.706977993508314, 13.593558030722681, 13.479532893570388, 13.364927480201198, 13.24976783540967, 13.134081159067016, 13.017895810532869, 12.901241308964936, 12.784148329461166, 12.666648694986868, 12.54877536405659, 12.430562414158418, 12.312045020926002, 12.193259433082018, 12.074242943193704, 11.955033854299623, 11.835671442483264, 11.716195915486377, 11.596648367471555, 11.477070730058937, 11.357505719778112, 11.237996782089708, 11.118588032146624, 10.999324192476054, 10.880250527777422, 10.761412777041237, 10.642857083205042, 10.52462992057117, 10.406778020219736, 10.289348293657177, 10.172387754946493, 10.055943441570315, 9.940062334281757, 9.824791276200097, 9.710176891410528, 9.596265503326446, 9.48310305307295, 9.37073501814761, 9.25920633161173, 9.148561302061456, 9.03884353462298, 8.93009585320983, 8.822360224273817, 8.715677682273354, 8.610088257073855, 8.505630903486686, 8.402343433141967, 8.300262448881227, 8.199423281843757, 8.09985993141008, 8.001605008152891, 7.904689679934321, 7.809143621275836, 7.714994966113863, 7.622270264041914, 7.530994440126615, 7.441190758372707, 7.352880788898663, 7.266084378872274, 7.18081962724268, 7.097102863293462, 7.014948629028935, 6.934369665394326, 6.855376902319274, 6.777979452562822, 6.7021846093281106, 6.627997847604365, 6.555422829184738, 6.484461411299201, 6.41511365879341, 6.347377859776334, 6.28125054465203, 6.216726508444116, 6.153798836315231, 6.092458932177481, 6.032696550285387, 5.974499829697221, 5.91785533148697, 5.862748078585022, 5.809161598122535, 5.757077966151389, 5.706477854609451, 5.657340580398348, 5.609644156439868, 5.563365344575191, 5.518479710170585, 5.474961678292099, 5.432784591311781, 5.391920767807391, 5.352341562617778, 5.314017427916403, 5.276917975165743, 5.241012037816191, 5.206267734613501, 5.172652533380033, 5.140133315135864, 5.108676438427113, 5.078247803729896, 5.048812917799933, 5.0203369578390085, 4.992784835351268, 4.966121259563649, 4.940310800286931, 4.915317950095284, 4.891107185704314, 4.8676430284298995, 4.844890103611733, 4.822813198888452, 4.801377321213193, 4.780547752501267, 4.760290103804549, 4.740570367909693, 4.721354970261123, 4.7026108181124675, 4.684305347814116, 4.66640657014819, 4.64888311362644, 4.631704265670587, 4.6148400115995685, 4.598261071352523, 4.58193893388183, 4.56584588915546, 4.549955057713743, 4.534240417731425, 4.518676829541783, 4.503240057586314, 4.487906789759505, 4.472654654125583, 4.457462232990539, 4.442309074320243, 4.427175700502741, 4.412043614460111, 4.396895303122923, 4.381714238288161, 4.366484874888779, 4.351192646711177, 4.335823959604513, 4.320366182233189, 4.304807634431851, 4.289137573229467, 4.27334617661642, 4.257424525135847, 4.241364581387185, 4.225159167536729, 4.20880194093625, 4.192287367956935, 4.175610696151301, 4.158767924861437, 4.141755774396315, 4.1245716539056705, 4.107213628081745, 4.089680382823446, 4.071971190000664, 4.054085871458429, 4.036024762402728, 4.017788674310627, 3.999378857508272, 3.9807969635599703, 3.962045007611314, 3.9431253308278063, 3.9240405630688073, 3.9047935859341787, 3.885387496318046, 3.865825570600547, 3.8461112296043583, 3.8262480044381992, 3.806239503344382, 3.7860893796619184, 3.765801301010531, 3.7453789197947276, 3.7248258451199083, 3.704145616205529, 3.6833416773728853, 3.6624173546769727, 3.641375834244394, 3.620220142370564, 3.598953127421537, 3.5775774435771623, 3.556095536443737, 3.5345096305559776, 3.5128217187795094, 3.4910335536166515, 3.469146640410126, 3.447162232430984, 3.425081327829157, 3.40290466841736, 3.380632740251493, 3.3582657759635715, 3.335803758796446, 3.3132464282828367, 3.290593287505473, 3.2678436118690457, 3.244996459309733, 3.2220506818629997, 3.1990049385061874, 3.1758577091883944, 3.1526073099568794, 3.1292519090861464, 3.105789544113671, 3.082218139684095, 3.058535526102415, 3.0347394584958085, 3.0108276364830497, 2.986797724250825, 2.962647370936366, 2.9383742312170806, 2.91397598600889, 2.8894503631770134, 2.8647951581648097, 2.840008254449041, 2.8150876437325634, 2.7900314457887267, 2.764837927875191, 2.7395055236385257, 2.714032851434989, 2.688418731997044, 2.6626622053793927, 2.6367625471229985, 2.6107192835800186, 2.584532206347442, 2.558201385761893, 2.5317271834130555, 2.5051102636379197, 2.4783516039630014, 2.4514525044665585, 2.424414596037523, 2.397239847512768, 2.3699305716788146, 2.3424894301288246, 2.314919436969995, 2.287223961380848, 2.259406729022148, 2.2314718223089716, 2.2034236795555677, 2.175267093007993, 2.1470072057833067, 2.118649507737073, 2.09019983028431, 2.0616643402016672, 2.0330495324414715, 2.004362221990709, 1.9756095348103622, 1.946798897892527, 1.9179380284747334, 1.8890349224526244, 1.8600978420335088, 1.8311353026749333, 1.8021560593532324, 1.7731690922084022, 1.7441835916120954, 1.7152089427064996, 1.6862547094621905, 1.6573306183035232, 1.6284465413502864, 1.59961247932451, 1.5708385441711807, 1.54213494144159, 1.513511952487657], \"yaxis\": \"y\"}, {\"legendgroup\": \"25th Percentile\", \"marker\": {\"color\": \"rgb(44, 160, 44)\"}, \"mode\": \"lines\", \"name\": \"25th Percentile\", \"showlegend\": true, \"type\": \"scatter\", \"x\": [0.0, 0.0002488, 0.0004976, 0.0007463999999999999, 0.0009952, 0.001244, 0.0014927999999999999, 0.0017416, 0.0019904, 0.0022392, 0.002488, 0.0027368, 0.0029855999999999997, 0.0032344, 0.0034832, 0.0037319999999999996, 0.0039808, 0.004229599999999999, 0.0044784, 0.0047272, 0.004976, 0.0052248, 0.0054736, 0.0057224, 0.005971199999999999, 0.00622, 0.0064688, 0.0067176, 0.0069664, 0.0072152, 0.007463999999999999, 0.0077128, 0.0079616, 0.0082104, 0.008459199999999998, 0.008708, 0.0089568, 0.009205600000000001, 0.0094544, 0.009703199999999999, 0.009952, 0.0102008, 0.0104496, 0.0106984, 0.0109472, 0.011196, 0.0114448, 0.0116936, 0.011942399999999999, 0.012191200000000001, 0.01244, 0.0126888, 0.0129376, 0.0131864, 0.0134352, 0.013684, 0.0139328, 0.014181599999999999, 0.0144304, 0.0146792, 0.014927999999999999, 0.0151768, 0.0154256, 0.0156744, 0.0159232, 0.016172, 0.0164208, 0.0166696, 0.016918399999999997, 0.0171672, 0.017416, 0.0176648, 0.0179136, 0.0181624, 0.018411200000000003, 0.01866, 0.0189088, 0.0191576, 0.019406399999999997, 0.0196552, 0.019904, 0.0201528, 0.0204016, 0.020650400000000003, 0.0208992, 0.021148, 0.0213968, 0.021645599999999997, 0.0218944, 0.022143200000000002, 0.022392, 0.0226408, 0.0228896, 0.0231384, 0.0233872, 0.023636, 0.023884799999999998, 0.024133599999999998, 0.024382400000000002, 0.0246312, 0.02488, 0.0251288, 0.0253776, 0.0256264, 0.0258752, 0.026123999999999998, 0.0263728, 0.026621600000000002, 0.0268704, 0.0271192, 0.027368, 0.027616799999999997, 0.0278656, 0.0281144, 0.028363199999999998, 0.028612, 0.0288608, 0.0291096, 0.0293584, 0.0296072, 0.029855999999999997, 0.0301048, 0.0303536, 0.0306024, 0.0308512, 0.0311, 0.0313488, 0.031597599999999997, 0.0318464, 0.0320952, 0.032344, 0.0325928, 0.0328416, 0.033090400000000006, 0.0333392, 0.033588, 0.03383679999999999, 0.0340856, 0.0343344, 0.034583199999999995, 0.034832, 0.035080799999999995, 0.0353296, 0.0355784, 0.0358272, 0.036076000000000004, 0.0363248, 0.0365736, 0.036822400000000005, 0.0370712, 0.03732, 0.0375688, 0.0378176, 0.0380664, 0.0383152, 0.038564, 0.038812799999999995, 0.0390616, 0.0393104, 0.039559199999999996, 0.039808, 0.0400568, 0.0403056, 0.040554400000000004, 0.0408032, 0.041052, 0.041300800000000006, 0.0415496, 0.0417984, 0.0420472, 0.042296, 0.0425448, 0.0427936, 0.0430424, 0.043291199999999995, 0.04354, 0.0437888, 0.044037599999999996, 0.044286400000000004, 0.0445352, 0.044784, 0.045032800000000005, 0.0452816, 0.0455304, 0.0457792, 0.046028, 0.0462768, 0.0465256, 0.0467744, 0.047023199999999994, 0.047272, 0.0475208, 0.047769599999999995, 0.0480184, 0.048267199999999996, 0.048516, 0.048764800000000004, 0.0490136, 0.0492624, 0.0495112, 0.04976, 0.0500088, 0.0502576, 0.0505064, 0.0507552, 0.051004, 0.0512528, 0.051501599999999995, 0.0517504, 0.0519992, 0.052247999999999996, 0.0524968, 0.0527456, 0.0529944, 0.053243200000000004, 0.053492, 0.0537408, 0.0539896, 0.0542384, 0.0544872, 0.054736, 0.0549848, 0.055233599999999994, 0.0554824, 0.0557312, 0.055979999999999995, 0.0562288, 0.056477599999999996, 0.056726399999999996, 0.056975200000000004, 0.057224, 0.0574728, 0.0577216, 0.0579704, 0.0582192, 0.058468, 0.0587168, 0.05896559999999999, 0.0592144, 0.0594632, 0.059711999999999994, 0.0599608, 0.0602096, 0.060458399999999995, 0.0607072, 0.060955999999999996, 0.0612048, 0.061453600000000004, 0.0617024, 0.0619512, 0.0622, 0.0624488, 0.0626976, 0.0629464, 0.06319519999999999, 0.063444, 0.0636928, 0.0639416, 0.0641904, 0.0644392, 0.064688, 0.0649368, 0.0651856, 0.06543439999999999, 0.0656832, 0.065932, 0.06618080000000001, 0.06642959999999999, 0.0666784, 0.06692719999999999, 0.067176, 0.06742480000000001, 0.06767359999999999, 0.0679224, 0.0681712, 0.06842000000000001, 0.0686688, 0.0689176, 0.06916639999999999, 0.0694152, 0.069664, 0.06991280000000001, 0.07016159999999999, 0.0704104, 0.0706592, 0.070908, 0.0711568, 0.07140559999999999, 0.0716544, 0.0719032, 0.07215200000000001, 0.0724008, 0.0726496, 0.0728984, 0.0731472, 0.073396, 0.07364480000000001, 0.07389359999999999, 0.0741424, 0.0743912, 0.07464, 0.0748888, 0.0751376, 0.07538639999999999, 0.0756352, 0.07588400000000001, 0.0761328, 0.0763816, 0.0766304, 0.0768792, 0.077128, 0.07737680000000001, 0.07762559999999999, 0.0778744, 0.0781232, 0.078372, 0.0786208, 0.0788696, 0.07911839999999999, 0.0793672, 0.079616, 0.0798648, 0.0801136, 0.0803624, 0.0806112, 0.08086, 0.08110880000000001, 0.08135759999999999, 0.0816064, 0.0818552, 0.082104, 0.0823528, 0.08260160000000001, 0.08285039999999999, 0.0830992, 0.083348, 0.0835968, 0.0838456, 0.0840944, 0.0843432, 0.084592, 0.08484080000000001, 0.0850896, 0.0853384, 0.0855872, 0.085836, 0.0860848, 0.08633360000000001, 0.08658239999999999, 0.0868312, 0.08708, 0.0873288, 0.0875776, 0.0878264, 0.08807519999999999, 0.088324, 0.08857280000000001, 0.0888216, 0.0890704, 0.0893192, 0.089568, 0.0898168, 0.09006560000000001, 0.09031439999999999, 0.0905632, 0.090812, 0.0910608, 0.0913096, 0.0915584, 0.09180719999999999, 0.092056, 0.0923048, 0.0925536, 0.0928024, 0.0930512, 0.0933, 0.0935488, 0.09379760000000001, 0.09404639999999999, 0.0942952, 0.094544, 0.0947928, 0.0950416, 0.0952904, 0.09553919999999999, 0.095788, 0.0960368, 0.0962856, 0.09653439999999999, 0.0967832, 0.097032, 0.0972808, 0.09752960000000001, 0.09777839999999999, 0.0980272, 0.098276, 0.0985248, 0.0987736, 0.0990224, 0.09927119999999999, 0.09952, 0.0997688, 0.1000176, 0.1002664, 0.1005152, 0.10076399999999999, 0.1010128, 0.10126160000000001, 0.1015104, 0.1017592, 0.102008, 0.1022568, 0.1025056, 0.10275440000000001, 0.10300319999999999, 0.103252, 0.1035008, 0.1037496, 0.1039984, 0.1042472, 0.10449599999999999, 0.1047448, 0.1049936, 0.1052424, 0.1054912, 0.10574, 0.1059888, 0.1062376, 0.10648640000000001, 0.10673519999999999, 0.106984, 0.1072328, 0.1074816, 0.1077304, 0.1079792, 0.10822799999999999, 0.1084768, 0.1087256, 0.1089744, 0.10922319999999999, 0.109472, 0.1097208, 0.1099696, 0.11021840000000001, 0.11046719999999999, 0.110716, 0.1109648, 0.1112136, 0.1114624, 0.1117112, 0.11195999999999999, 0.1122088, 0.1124576, 0.1127064, 0.11295519999999999, 0.113204, 0.11345279999999999, 0.1137016, 0.11395040000000001, 0.11419919999999999, 0.114448, 0.1146968, 0.1149456, 0.1151944, 0.1154432, 0.11569199999999999, 0.1159408, 0.1161896, 0.1164384, 0.11668719999999999, 0.116936, 0.11718479999999999, 0.1174336, 0.1176824, 0.11793119999999999, 0.11818, 0.1184288, 0.1186776, 0.1189264, 0.11917520000000001, 0.11942399999999999, 0.1196728, 0.1199216, 0.1201704, 0.1204192, 0.120668, 0.12091679999999999, 0.1211656, 0.1214144, 0.1216632, 0.12191199999999999, 0.1221608, 0.1224096, 0.1226584, 0.12290720000000001, 0.12315599999999999, 0.1234048, 0.1236536, 0.1239024, 0.1241512], \"xaxis\": \"x\", \"y\": [6.37432160000277, 6.472491261804038, 6.569455411755793, 6.665156706271447, 6.759540902453355, 6.852556965661426, 6.944157165947463, 7.034297163125076, 7.122936080303215, 7.210036565769556, 7.2955648431678215, 7.379490749970349, 7.461787764303166, 7.542433020235418, 7.621407311697725, 7.698695085244486, 7.774284421923253, 7.848167008559476, 7.92033809880717, 7.990796464354898, 8.05954433671205, 8.126587340032039, 8.191934415457261, 8.255597737494615, 8.317592622950917, 8.37793743297355, 8.436653468754152, 8.493764861461699, 8.549298456975606, 8.60328369599081, 8.6557524900636, 8.706739094161218, 8.75627997626876, 8.80441368459434, 8.851180712898756, 8.896623364457753, 8.940785615145352, 8.983712976104849, 9.025452356450137, 9.0660519264155, 9.105560981345677, 9.14402980689124, 9.181509545747087, 9.21805206624403, 9.253709833076487, 9.288535780421494, 9.322583187678452, 9.355905558032607, 9.388556500020945, 9.420589612255814, 9.452058371438927, 9.48301602377858, 9.513515479903278, 9.543609213348308, 9.573349162676054, 9.602786637277458, 9.631972226890207, 9.660955714859295, 9.689785995157683, 9.718510993178004, 9.747177590301819, 9.775831552249374, 9.804517461211196, 9.833278651761832, 9.862157150556804, 9.891193619815004, 9.920427304590628, 9.949895983841696, 9.979635925304668, 10.009681844187849, 10.040066865699275, 10.070822491427421, 10.101978569595012, 10.133563269208322, 10.165603058124768, 10.198122685061483, 10.231145165566579, 10.264691771971977, 10.298782027343325, 10.333433703437041, 10.368662822668199, 10.404483664084646, 10.44090877333342, 10.477948976594242, 10.515613398442472, 10.553909483590068, 10.59284302243766, 10.632418180354675, 10.672637530586814, 10.713502090671739, 10.755011362224788, 10.79716337393653, 10.839954727604074, 10.883380646997466, 10.927435029342385, 10.972110499180346, 11.01739846434785, 11.063289173797754, 11.109771776967529, 11.156834384383446, 11.204464129173976, 11.252647229152492, 11.301369049118149, 11.3506141630138, 11.400366415573302, 11.450608983085507, 11.501324432900146, 11.552494781301647, 11.604101549380283, 11.656125816536237, 11.708548271261904, 11.76134925885958, 11.814508825767415, 11.868006760184375, 11.921822628706353, 11.975935808709528, 12.03032551624341, 12.084970829225654, 12.139850705761958, 12.19494399744828, 12.250229457548409, 12.305685743977218, 12.361291417059297, 12.417024932072245, 12.472864626625531, 12.528788702967251, 12.584775205352992, 12.640801992653111, 12.69684670641622, 12.752886734647333, 12.808899171599116, 12.864860773912994, 12.92074791348361, 12.976536527454563, 13.032202065786116, 13.087719436864838, 13.143062951652702, 13.198206266895596, 13.25312232793295, 13.307783311666121, 13.36216057025607, 13.416224576130102, 13.46994486888287, 13.523290004656381, 13.576227508581919, 13.628723830857895, 13.680744307026337, 13.732253122994418, 13.783213285326998, 13.833586597312138, 13.883333641272564, 13.932413767564771, 13.980785090670679, 14.028404492748844, 14.07522763496894, 14.12120897690845, 14.166301804243027, 14.210458264911578, 14.253629413885141, 14.295765266615442, 14.336814861183722, 14.376726329114865, 14.415446974765969, 14.452923363141204, 14.489101415930241, 14.523926515510414, 14.55734361659977, 14.589297365194213, 14.619732224371429, 14.648592606494505, 14.675823011302377, 14.701368169329578, 14.72517319005749, 14.747183714162034, 14.767346069188955, 14.785607427957617, 14.801915968969654, 14.81622103807598, 14.828473310639847, 14.838624953420734, 14.846629785395823, 14.852443436733454, 14.856023505133777, 14.857329708759032, 14.856324034986432, 14.852970884232377, 14.847237208117608, 14.839092641266625, 14.82850962606446, 14.81546352972642, 14.79993275307334, 14.78189883044538, 14.761346520231239, 14.738263885536202, 14.712642364562793, 14.68447683032879, 14.65376563940289, 14.620510669393141, 14.584717344980993, 14.546394652353074, 14.505555141940508, 14.462214919436047, 14.41639362511869, 14.3681144015735, 14.317403849953696, 14.264291974988476, 14.20881211899496, 14.151000885208092, 14.090898050791656, 14.028546469944505, 13.963991967561318, 13.897283223950971, 13.828471651155521, 13.757611261449457, 13.684758528631887, 13.609972242752962, 13.533313358941639, 13.45484484102209, 13.37463150062327, 13.292739832498953, 13.209237846782555, 13.124194898906953, 13.037681517917308, 12.949769233901264, 12.860530405252785, 12.770038046471335, 12.67836565718437, 12.585587053057997, 12.49177619923876, 12.397007046941571, 12.301353373769059, 12.204888628313746, 12.107685779559747, 12.009817171561942, 11.911354383840937, 11.812368097890205, 11.712927970148884, 11.613102511748972, 11.512958975301347, 11.412563248938776, 11.311979757789, 11.211271373005367, 11.110499328437166, 11.009723144978715, 10.909000562591427, 10.808387479953323, 10.707937901648888, 10.607703892774726, 10.507735540800212, 10.40808092448866, 10.308786089653202, 10.209895031493227, 10.111449683231486, 10.013489910749337, 9.916053512897873, 9.819176227146437, 9.722891740216419, 9.627231703338557, 9.53222575176451, 9.437901528160564, 9.344284709509868, 9.251399037152819, 9.15926634960005, 9.067906617760933, 8.977337982241274, 8.887576792377208, 8.798637646688034, 8.710533434448166, 8.62327537809831, 8.536873076237237, 8.451334546957977, 8.366666271316072, 8.282873236742853, 8.199958980241254, 8.117925631228188, 8.036773953913173, 7.956503389128456, 7.877112095551865, 7.798596990287952, 7.7209537887971385, 7.644177044185388, 7.568260185888634, 7.493195557806102, 7.4189744559553175, 7.345587165737952, 7.273022998920636, 7.201270330446981, 7.130316635208005, 7.06014852490559, 6.990751785150156, 6.9221114129363945, 6.85421165464263, 6.787036044697625, 6.720567445055584, 6.654788085613579, 6.589679605698267, 6.525223096738197, 6.461399146226344, 6.398187883063041, 6.335569024354627, 6.2735219237252915, 6.212025621181938, 6.151058894551457, 6.090600312490297, 6.030628289043947, 5.971121139713042, 5.912057138960161, 5.853414579069598, 5.79517183025017, 5.737307401849392, 5.679800004526671, 5.622628613212135, 5.565772530659176, 5.509211451379715, 5.4529255257350915, 5.396895423939554, 5.341102399719851, 5.285528353362423, 5.230155893869602, 5.174968399938347, 5.119950079468828, 5.065086027306722, 5.010362280921162, 4.955765873721326, 4.901284885717124, 4.846908491235073, 4.792627003407361, 4.738431915161942, 4.684315936453031, 4.630273027485084, 4.576298427698879, 4.522388680305805, 4.468541652175648, 4.414756548903862, 4.361033924906304, 4.307375688413136, 4.253785101257808, 4.2002667733827534, 4.14682665200946, 4.093472005447571, 4.040211401544741, 3.9870546808065996, 3.9340129242433846, 3.8810984160274877, 3.8283246010728424, 3.775706037673958, 3.7232583453679156, 3.670998148208026, 3.618943013661753, 3.5671113873684006, 3.5155225240141688, 3.464196414601922, 3.413153710412408, 3.362415643970702, 3.3120039473470757, 3.2619407681357457, 3.2122485834663976, 3.1629501124139403, 3.114068227179871, 3.065625863425018, 3.017645930137516, 2.970151219422315, 2.92316431659872, 2.876707510990976, 2.830802707793034, 2.7854713413836314, 2.7407342904601064, 2.6966117953504987, 2.653123377852803, 2.6102877639374795, 2.5681228096357054, 2.5266454304201194, 2.4858715343680995, 2.4458159593794195, 2.4064924147008346, 2.367913426989799, 2.3300902911280987, 2.293033025974072, 2.2567503352190745, 2.221249573490345, 2.1865367178184276, 2.1526163445627615, 2.119491611864415, 2.087164247670157, 2.055634543347031, 2.0249013528820283, 1.994962097636586, 1.9658127766016054, 1.937447982074665, 1.9098609206577772, 1.8830434394513318, 1.8569860572978112, 1.8316780009077114, 1.8071072456797463, 1.7832605610081462, 1.760123559851606, 1.737680752321274, 1.7159156030293872, 1.6948105919254972, 1.6743472783338818, 1.6545063678939842, 1.6352677820951833, 1.6166107300882233, 1.5985137824482065, 1.5809549465581076, 1.563911743277376, 1.5473612845574425, 1.5312803516646993, 1.515645473671873, 1.5004330058806754, 1.4856192078420916, 1.4711803206456668, 1.4570926431557187, 1.4433326068803571, 1.4298768491686589, 1.4167022844420865, 1.4037861731784356, 1.3911061883798645, 1.378640479271213, 1.3663677319904075, 1.3542672270495013, 1.3423188933624783, 1.3305033586544912, 1.3188019960863582, 1.307196966948155, 1.2956712592960322, 1.2842087224273862, 1.2727940971106626, 1.2614130415074936, 1.2500521527464978, 1.2386989841294647, 1.2273420579722187, 1.215970874103528, 1.2045759140663281, 1.193148641085927, 1.1816814958896735, 1.1701678884817601, 1.1586021859952809, 1.1469796967611605, 1.1352966507502777, 1.1235501765606353, 1.1117382751359586, 1.0998597904153669, 1.0879143771259057, 1.0759024659404253, 1.0638252262327625, 1.0516845266702433, 1.039482893890064, 1.0272234695114122, 1.0149099657388168, 1.0025466198145256, 0.9901381475785425, 0.9776896963942648, 0.9652067976956562, 0.9526953194083966, 0.9401614184926814, 0.9276114938491703, 0.9150521398222313, 0.9024901005260691, 0.8899322252095664, 0.8773854248649303, 0.8648566302735203, 0.8523527516695371, 0.8398806401888836, 0.8274470512563235, 0.8150586100493177, 0.8027217791616827, 0.7904428285744907, 0.7782278080256921, 0.7660825218537437, 0.7540125063742276, 0.7420230098321976, 0.7301189749567842, 0.7183050241286322, 0.7065854471550779, 0.6949641916326618, 0.683444855861842, 0.6720306842644491, 0.6607245652409051, 0.6495290313913361, 0.6384462620126139, 0.6274780877721228, 0.616625997448726, 0.6058911466219926, 0.5952743681823494, 0.5847761845274546, 0.5743968213037137, 0.5641362225466281, 0.5539940670694264, 0.5439697859463367, 0.5340625809347577, 0.5242714436796444, 0.5145951755434157, 0.5050324079057807, 0.495581622779899, 0.48624117359427965, 0.47700930599369223, 0.46788417851711134, 0.45886388301621234, 0.4499464646842108], \"yaxis\": \"y\"}],\n",
              "                        {\"barmode\": \"overlay\", \"hovermode\": \"closest\", \"legend\": {\"traceorder\": \"reversed\"}, \"template\": {\"data\": {\"bar\": [{\"error_x\": {\"color\": \"#2a3f5f\"}, \"error_y\": {\"color\": \"#2a3f5f\"}, \"marker\": {\"line\": {\"color\": \"#E5ECF6\", \"width\": 0.5}}, \"type\": \"bar\"}], \"barpolar\": [{\"marker\": {\"line\": {\"color\": \"#E5ECF6\", \"width\": 0.5}}, \"type\": \"barpolar\"}], \"carpet\": [{\"aaxis\": {\"endlinecolor\": \"#2a3f5f\", \"gridcolor\": \"white\", \"linecolor\": \"white\", \"minorgridcolor\": \"white\", \"startlinecolor\": \"#2a3f5f\"}, \"baxis\": {\"endlinecolor\": \"#2a3f5f\", \"gridcolor\": \"white\", \"linecolor\": \"white\", \"minorgridcolor\": \"white\", \"startlinecolor\": \"#2a3f5f\"}, \"type\": \"carpet\"}], \"choropleth\": [{\"colorbar\": {\"outlinewidth\": 0, \"ticks\": \"\"}, \"type\": \"choropleth\"}], \"contour\": [{\"colorbar\": {\"outlinewidth\": 0, \"ticks\": \"\"}, \"colorscale\": [[0.0, \"#0d0887\"], [0.1111111111111111, \"#46039f\"], [0.2222222222222222, \"#7201a8\"], [0.3333333333333333, \"#9c179e\"], [0.4444444444444444, \"#bd3786\"], [0.5555555555555556, \"#d8576b\"], [0.6666666666666666, \"#ed7953\"], [0.7777777777777778, \"#fb9f3a\"], [0.8888888888888888, \"#fdca26\"], [1.0, \"#f0f921\"]], \"type\": \"contour\"}], \"contourcarpet\": [{\"colorbar\": {\"outlinewidth\": 0, \"ticks\": \"\"}, \"type\": \"contourcarpet\"}], \"heatmap\": [{\"colorbar\": {\"outlinewidth\": 0, \"ticks\": \"\"}, \"colorscale\": [[0.0, \"#0d0887\"], [0.1111111111111111, \"#46039f\"], [0.2222222222222222, \"#7201a8\"], [0.3333333333333333, \"#9c179e\"], [0.4444444444444444, \"#bd3786\"], [0.5555555555555556, \"#d8576b\"], [0.6666666666666666, \"#ed7953\"], [0.7777777777777778, \"#fb9f3a\"], [0.8888888888888888, \"#fdca26\"], [1.0, \"#f0f921\"]], \"type\": \"heatmap\"}], \"heatmapgl\": [{\"colorbar\": {\"outlinewidth\": 0, \"ticks\": \"\"}, \"colorscale\": [[0.0, \"#0d0887\"], [0.1111111111111111, \"#46039f\"], [0.2222222222222222, \"#7201a8\"], [0.3333333333333333, \"#9c179e\"], [0.4444444444444444, \"#bd3786\"], [0.5555555555555556, \"#d8576b\"], [0.6666666666666666, \"#ed7953\"], [0.7777777777777778, \"#fb9f3a\"], [0.8888888888888888, \"#fdca26\"], [1.0, \"#f0f921\"]], \"type\": \"heatmapgl\"}], \"histogram\": [{\"marker\": {\"colorbar\": {\"outlinewidth\": 0, \"ticks\": \"\"}}, \"type\": \"histogram\"}], \"histogram2d\": [{\"colorbar\": {\"outlinewidth\": 0, \"ticks\": \"\"}, \"colorscale\": [[0.0, \"#0d0887\"], [0.1111111111111111, \"#46039f\"], [0.2222222222222222, \"#7201a8\"], [0.3333333333333333, \"#9c179e\"], [0.4444444444444444, \"#bd3786\"], [0.5555555555555556, \"#d8576b\"], [0.6666666666666666, \"#ed7953\"], [0.7777777777777778, \"#fb9f3a\"], [0.8888888888888888, \"#fdca26\"], [1.0, \"#f0f921\"]], \"type\": \"histogram2d\"}], \"histogram2dcontour\": [{\"colorbar\": {\"outlinewidth\": 0, \"ticks\": \"\"}, \"colorscale\": [[0.0, \"#0d0887\"], [0.1111111111111111, \"#46039f\"], [0.2222222222222222, \"#7201a8\"], [0.3333333333333333, \"#9c179e\"], [0.4444444444444444, \"#bd3786\"], [0.5555555555555556, \"#d8576b\"], [0.6666666666666666, \"#ed7953\"], [0.7777777777777778, \"#fb9f3a\"], [0.8888888888888888, \"#fdca26\"], [1.0, \"#f0f921\"]], \"type\": \"histogram2dcontour\"}], \"mesh3d\": [{\"colorbar\": {\"outlinewidth\": 0, \"ticks\": \"\"}, \"type\": \"mesh3d\"}], \"parcoords\": [{\"line\": {\"colorbar\": {\"outlinewidth\": 0, \"ticks\": \"\"}}, \"type\": \"parcoords\"}], \"pie\": [{\"automargin\": true, \"type\": \"pie\"}], \"scatter\": [{\"marker\": {\"colorbar\": {\"outlinewidth\": 0, \"ticks\": \"\"}}, \"type\": \"scatter\"}], \"scatter3d\": [{\"line\": {\"colorbar\": {\"outlinewidth\": 0, \"ticks\": \"\"}}, \"marker\": {\"colorbar\": {\"outlinewidth\": 0, \"ticks\": \"\"}}, \"type\": \"scatter3d\"}], \"scattercarpet\": [{\"marker\": {\"colorbar\": {\"outlinewidth\": 0, \"ticks\": \"\"}}, \"type\": \"scattercarpet\"}], \"scattergeo\": [{\"marker\": {\"colorbar\": {\"outlinewidth\": 0, \"ticks\": \"\"}}, \"type\": \"scattergeo\"}], \"scattergl\": [{\"marker\": {\"colorbar\": {\"outlinewidth\": 0, \"ticks\": \"\"}}, \"type\": \"scattergl\"}], \"scattermapbox\": [{\"marker\": {\"colorbar\": {\"outlinewidth\": 0, \"ticks\": \"\"}}, \"type\": \"scattermapbox\"}], \"scatterpolar\": [{\"marker\": {\"colorbar\": {\"outlinewidth\": 0, \"ticks\": \"\"}}, \"type\": \"scatterpolar\"}], \"scatterpolargl\": [{\"marker\": {\"colorbar\": {\"outlinewidth\": 0, \"ticks\": \"\"}}, \"type\": \"scatterpolargl\"}], \"scatterternary\": [{\"marker\": {\"colorbar\": {\"outlinewidth\": 0, \"ticks\": \"\"}}, \"type\": \"scatterternary\"}], \"surface\": [{\"colorbar\": {\"outlinewidth\": 0, \"ticks\": \"\"}, \"colorscale\": [[0.0, \"#0d0887\"], [0.1111111111111111, \"#46039f\"], [0.2222222222222222, \"#7201a8\"], [0.3333333333333333, \"#9c179e\"], [0.4444444444444444, \"#bd3786\"], [0.5555555555555556, \"#d8576b\"], [0.6666666666666666, \"#ed7953\"], [0.7777777777777778, \"#fb9f3a\"], [0.8888888888888888, \"#fdca26\"], [1.0, \"#f0f921\"]], \"type\": \"surface\"}], \"table\": [{\"cells\": {\"fill\": {\"color\": \"#EBF0F8\"}, \"line\": {\"color\": \"white\"}}, \"header\": {\"fill\": {\"color\": \"#C8D4E3\"}, \"line\": {\"color\": \"white\"}}, \"type\": \"table\"}]}, \"layout\": {\"annotationdefaults\": {\"arrowcolor\": \"#2a3f5f\", \"arrowhead\": 0, \"arrowwidth\": 1}, \"coloraxis\": {\"colorbar\": {\"outlinewidth\": 0, \"ticks\": \"\"}}, \"colorscale\": {\"diverging\": [[0, \"#8e0152\"], [0.1, \"#c51b7d\"], [0.2, \"#de77ae\"], [0.3, \"#f1b6da\"], [0.4, \"#fde0ef\"], [0.5, \"#f7f7f7\"], [0.6, \"#e6f5d0\"], [0.7, \"#b8e186\"], [0.8, \"#7fbc41\"], [0.9, \"#4d9221\"], [1, \"#276419\"]], \"sequential\": [[0.0, \"#0d0887\"], [0.1111111111111111, \"#46039f\"], [0.2222222222222222, \"#7201a8\"], [0.3333333333333333, \"#9c179e\"], [0.4444444444444444, \"#bd3786\"], [0.5555555555555556, \"#d8576b\"], [0.6666666666666666, \"#ed7953\"], [0.7777777777777778, \"#fb9f3a\"], [0.8888888888888888, \"#fdca26\"], [1.0, \"#f0f921\"]], \"sequentialminus\": [[0.0, \"#0d0887\"], [0.1111111111111111, \"#46039f\"], [0.2222222222222222, \"#7201a8\"], [0.3333333333333333, \"#9c179e\"], [0.4444444444444444, \"#bd3786\"], [0.5555555555555556, \"#d8576b\"], [0.6666666666666666, \"#ed7953\"], [0.7777777777777778, \"#fb9f3a\"], [0.8888888888888888, \"#fdca26\"], [1.0, \"#f0f921\"]]}, \"colorway\": [\"#636efa\", \"#EF553B\", \"#00cc96\", \"#ab63fa\", \"#FFA15A\", \"#19d3f3\", \"#FF6692\", \"#B6E880\", \"#FF97FF\", \"#FECB52\"], \"font\": {\"color\": \"#2a3f5f\"}, \"geo\": {\"bgcolor\": \"white\", \"lakecolor\": \"white\", \"landcolor\": \"#E5ECF6\", \"showlakes\": true, \"showland\": true, \"subunitcolor\": \"white\"}, \"hoverlabel\": {\"align\": \"left\"}, \"hovermode\": \"closest\", \"mapbox\": {\"style\": \"light\"}, \"paper_bgcolor\": \"white\", \"plot_bgcolor\": \"#E5ECF6\", \"polar\": {\"angularaxis\": {\"gridcolor\": \"white\", \"linecolor\": \"white\", \"ticks\": \"\"}, \"bgcolor\": \"#E5ECF6\", \"radialaxis\": {\"gridcolor\": \"white\", \"linecolor\": \"white\", \"ticks\": \"\"}}, \"scene\": {\"xaxis\": {\"backgroundcolor\": \"#E5ECF6\", \"gridcolor\": \"white\", \"gridwidth\": 2, \"linecolor\": \"white\", \"showbackground\": true, \"ticks\": \"\", \"zerolinecolor\": \"white\"}, \"yaxis\": {\"backgroundcolor\": \"#E5ECF6\", \"gridcolor\": \"white\", \"gridwidth\": 2, \"linecolor\": \"white\", \"showbackground\": true, \"ticks\": \"\", \"zerolinecolor\": \"white\"}, \"zaxis\": {\"backgroundcolor\": \"#E5ECF6\", \"gridcolor\": \"white\", \"gridwidth\": 2, \"linecolor\": \"white\", \"showbackground\": true, \"ticks\": \"\", \"zerolinecolor\": \"white\"}}, \"shapedefaults\": {\"line\": {\"color\": \"#2a3f5f\"}}, \"ternary\": {\"aaxis\": {\"gridcolor\": \"white\", \"linecolor\": \"white\", \"ticks\": \"\"}, \"baxis\": {\"gridcolor\": \"white\", \"linecolor\": \"white\", \"ticks\": \"\"}, \"bgcolor\": \"#E5ECF6\", \"caxis\": {\"gridcolor\": \"white\", \"linecolor\": \"white\", \"ticks\": \"\"}}, \"title\": {\"x\": 0.05}, \"xaxis\": {\"automargin\": true, \"gridcolor\": \"white\", \"linecolor\": \"white\", \"ticks\": \"\", \"title\": {\"standoff\": 15}, \"zerolinecolor\": \"white\", \"zerolinewidth\": 2}, \"yaxis\": {\"automargin\": true, \"gridcolor\": \"white\", \"linecolor\": \"white\", \"ticks\": \"\", \"title\": {\"standoff\": 15}, \"zerolinecolor\": \"white\", \"zerolinewidth\": 2}}}, \"title\": {\"text\": \"Distribution of Different Percentiles\"}, \"xaxis\": {\"anchor\": \"y2\", \"domain\": [0.0, 1.0], \"title\": {\"text\": \"Incarceration Rate\"}, \"zeroline\": false}, \"yaxis\": {\"anchor\": \"free\", \"domain\": [0.0, 1], \"position\": 0.0, \"title\": {\"text\": \"Number of neighborhoods\"}}},\n",
              "                        {\"responsive\": true}\n",
              "                    ).then(function(){\n",
              "                            \n",
              "var gd = document.getElementById('d64c7b80-e7dd-4c8b-be76-3d409afc169a');\n",
              "var x = new MutationObserver(function (mutations, observer) {{\n",
              "        var display = window.getComputedStyle(gd).display;\n",
              "        if (!display || display === 'none') {{\n",
              "            console.log([gd, 'removed!']);\n",
              "            Plotly.purge(gd);\n",
              "            observer.disconnect();\n",
              "        }}\n",
              "}});\n",
              "\n",
              "// Listen for the removal of the full notebook cells\n",
              "var notebookContainer = gd.closest('#notebook-container');\n",
              "if (notebookContainer) {{\n",
              "    x.observe(notebookContainer, {childList: true});\n",
              "}}\n",
              "\n",
              "// Listen for the clearing of the current output cell\n",
              "var outputEl = gd.closest('.output');\n",
              "if (outputEl) {{\n",
              "    x.observe(outputEl, {childList: true});\n",
              "}}\n",
              "\n",
              "                        })\n",
              "                };\n",
              "                \n",
              "            </script>\n",
              "        </div>\n",
              "</body>\n",
              "</html>"
            ]
          },
          "metadata": {
            "tags": []
          }
        }
      ]
    },
    {
      "cell_type": "markdown",
      "metadata": {
        "id": "XQf4ClvXx-Xu"
      },
      "source": [
        "# Line Graph of Average Incarceration Rate for Different Parent Income in Baltimore City"
      ]
    },
    {
      "cell_type": "code",
      "metadata": {
        "colab": {
          "base_uri": "https://localhost:8080/"
        },
        "id": "UQXt4loJtO1b",
        "outputId": "3dbff40e-0285-40c6-9bcd-7a8edea8b705"
      },
      "source": [
        "pip install plotly"
      ],
      "execution_count": 33,
      "outputs": [
        {
          "output_type": "stream",
          "text": [
            "Requirement already satisfied: plotly in /usr/local/lib/python3.6/dist-packages (4.4.1)\n",
            "Requirement already satisfied: retrying>=1.3.3 in /usr/local/lib/python3.6/dist-packages (from plotly) (1.3.3)\n",
            "Requirement already satisfied: six in /usr/local/lib/python3.6/dist-packages (from plotly) (1.15.0)\n"
          ],
          "name": "stdout"
        }
      ]
    },
    {
      "cell_type": "code",
      "metadata": {
        "id": "Z39Jj_7ys2Gs"
      },
      "source": [
        "import plotly.figure_factory as ff"
      ],
      "execution_count": 34,
      "outputs": []
    },
    {
      "cell_type": "code",
      "metadata": {
        "colab": {
          "base_uri": "https://localhost:8080/"
        },
        "id": "KQ25btfY7d2H",
        "outputId": "168d88c2-63fe-4da0-edcc-a6767cb2b3c3"
      },
      "source": [
        "df_bal_incar_merge.info()"
      ],
      "execution_count": 35,
      "outputs": [
        {
          "output_type": "stream",
          "text": [
            "<class 'pandas.core.frame.DataFrame'>\n",
            "Int64Index: 194 entries, 0 to 193\n",
            "Data columns (total 8 columns):\n",
            " #   Column                         Non-Null Count  Dtype  \n",
            "---  ------                         --------------  -----  \n",
            " 0   tract                          194 non-null    int64  \n",
            " 1   Neighborhood                   194 non-null    object \n",
            " 2   City                           194 non-null    object \n",
            " 3   State                          194 non-null    object \n",
            " 4   Incarceration_Rate_rP_gP_pall  194 non-null    float64\n",
            " 5   Incarceration_Rate_rP_gP_p75   194 non-null    float64\n",
            " 6   Incarceration_Rate_rP_gP_p50   194 non-null    float64\n",
            " 7   Incarceration_Rate_rP_gP_p25   194 non-null    float64\n",
            "dtypes: float64(4), int64(1), object(3)\n",
            "memory usage: 13.6+ KB\n"
          ],
          "name": "stdout"
        }
      ]
    },
    {
      "cell_type": "code",
      "metadata": {
        "colab": {
          "base_uri": "https://localhost:8080/",
          "height": 297
        },
        "id": "wbAtZoAa8HGO",
        "outputId": "a71551c8-815b-4cd0-b548-e6cf8487c3f2"
      },
      "source": [
        "df_bal_incar_merge.describe()"
      ],
      "execution_count": 36,
      "outputs": [
        {
          "output_type": "execute_result",
          "data": {
            "text/html": [
              "<div>\n",
              "<style scoped>\n",
              "    .dataframe tbody tr th:only-of-type {\n",
              "        vertical-align: middle;\n",
              "    }\n",
              "\n",
              "    .dataframe tbody tr th {\n",
              "        vertical-align: top;\n",
              "    }\n",
              "\n",
              "    .dataframe thead th {\n",
              "        text-align: right;\n",
              "    }\n",
              "</style>\n",
              "<table border=\"1\" class=\"dataframe\">\n",
              "  <thead>\n",
              "    <tr style=\"text-align: right;\">\n",
              "      <th></th>\n",
              "      <th>tract</th>\n",
              "      <th>Incarceration_Rate_rP_gP_pall</th>\n",
              "      <th>Incarceration_Rate_rP_gP_p75</th>\n",
              "      <th>Incarceration_Rate_rP_gP_p50</th>\n",
              "      <th>Incarceration_Rate_rP_gP_p25</th>\n",
              "    </tr>\n",
              "  </thead>\n",
              "  <tbody>\n",
              "    <tr>\n",
              "      <th>count</th>\n",
              "      <td>1.940000e+02</td>\n",
              "      <td>194.000000</td>\n",
              "      <td>194.000000</td>\n",
              "      <td>194.000000</td>\n",
              "      <td>194.000000</td>\n",
              "    </tr>\n",
              "    <tr>\n",
              "      <th>mean</th>\n",
              "      <td>2.448416e+10</td>\n",
              "      <td>0.043501</td>\n",
              "      <td>0.023774</td>\n",
              "      <td>0.031464</td>\n",
              "      <td>0.049538</td>\n",
              "    </tr>\n",
              "    <tr>\n",
              "      <th>std</th>\n",
              "      <td>1.119381e+08</td>\n",
              "      <td>0.024934</td>\n",
              "      <td>0.025698</td>\n",
              "      <td>0.023729</td>\n",
              "      <td>0.025459</td>\n",
              "    </tr>\n",
              "    <tr>\n",
              "      <th>min</th>\n",
              "      <td>2.400375e+10</td>\n",
              "      <td>0.000000</td>\n",
              "      <td>0.000000</td>\n",
              "      <td>0.000000</td>\n",
              "      <td>0.000000</td>\n",
              "    </tr>\n",
              "    <tr>\n",
              "      <th>25%</th>\n",
              "      <td>2.451011e+10</td>\n",
              "      <td>0.027350</td>\n",
              "      <td>0.004100</td>\n",
              "      <td>0.014850</td>\n",
              "      <td>0.034550</td>\n",
              "    </tr>\n",
              "    <tr>\n",
              "      <th>50%</th>\n",
              "      <td>2.451019e+10</td>\n",
              "      <td>0.039750</td>\n",
              "      <td>0.018550</td>\n",
              "      <td>0.027200</td>\n",
              "      <td>0.050600</td>\n",
              "    </tr>\n",
              "    <tr>\n",
              "      <th>75%</th>\n",
              "      <td>2.451026e+10</td>\n",
              "      <td>0.058350</td>\n",
              "      <td>0.032875</td>\n",
              "      <td>0.042625</td>\n",
              "      <td>0.064400</td>\n",
              "    </tr>\n",
              "    <tr>\n",
              "      <th>max</th>\n",
              "      <td>2.451028e+10</td>\n",
              "      <td>0.126800</td>\n",
              "      <td>0.148600</td>\n",
              "      <td>0.142600</td>\n",
              "      <td>0.130500</td>\n",
              "    </tr>\n",
              "  </tbody>\n",
              "</table>\n",
              "</div>"
            ],
            "text/plain": [
              "              tract  ...  Incarceration_Rate_rP_gP_p25\n",
              "count  1.940000e+02  ...                    194.000000\n",
              "mean   2.448416e+10  ...                      0.049538\n",
              "std    1.119381e+08  ...                      0.025459\n",
              "min    2.400375e+10  ...                      0.000000\n",
              "25%    2.451011e+10  ...                      0.034550\n",
              "50%    2.451019e+10  ...                      0.050600\n",
              "75%    2.451026e+10  ...                      0.064400\n",
              "max    2.451028e+10  ...                      0.130500\n",
              "\n",
              "[8 rows x 5 columns]"
            ]
          },
          "metadata": {
            "tags": []
          },
          "execution_count": 36
        }
      ]
    },
    {
      "cell_type": "code",
      "metadata": {
        "id": "v8Y0r-80xCbC"
      },
      "source": [
        "df_bal_stats = df_bal_incar_merge.describe().reset_index()"
      ],
      "execution_count": 37,
      "outputs": []
    },
    {
      "cell_type": "code",
      "metadata": {
        "colab": {
          "base_uri": "https://localhost:8080/",
          "height": 297
        },
        "id": "DlmS2wEgxMNV",
        "outputId": "e4bc20eb-c421-49df-b1ec-319a7c1f4d05"
      },
      "source": [
        "df_bal_stats.head(10)"
      ],
      "execution_count": 38,
      "outputs": [
        {
          "output_type": "execute_result",
          "data": {
            "text/html": [
              "<div>\n",
              "<style scoped>\n",
              "    .dataframe tbody tr th:only-of-type {\n",
              "        vertical-align: middle;\n",
              "    }\n",
              "\n",
              "    .dataframe tbody tr th {\n",
              "        vertical-align: top;\n",
              "    }\n",
              "\n",
              "    .dataframe thead th {\n",
              "        text-align: right;\n",
              "    }\n",
              "</style>\n",
              "<table border=\"1\" class=\"dataframe\">\n",
              "  <thead>\n",
              "    <tr style=\"text-align: right;\">\n",
              "      <th></th>\n",
              "      <th>index</th>\n",
              "      <th>tract</th>\n",
              "      <th>Incarceration_Rate_rP_gP_pall</th>\n",
              "      <th>Incarceration_Rate_rP_gP_p75</th>\n",
              "      <th>Incarceration_Rate_rP_gP_p50</th>\n",
              "      <th>Incarceration_Rate_rP_gP_p25</th>\n",
              "    </tr>\n",
              "  </thead>\n",
              "  <tbody>\n",
              "    <tr>\n",
              "      <th>0</th>\n",
              "      <td>count</td>\n",
              "      <td>1.940000e+02</td>\n",
              "      <td>194.000000</td>\n",
              "      <td>194.000000</td>\n",
              "      <td>194.000000</td>\n",
              "      <td>194.000000</td>\n",
              "    </tr>\n",
              "    <tr>\n",
              "      <th>1</th>\n",
              "      <td>mean</td>\n",
              "      <td>2.448416e+10</td>\n",
              "      <td>0.043501</td>\n",
              "      <td>0.023774</td>\n",
              "      <td>0.031464</td>\n",
              "      <td>0.049538</td>\n",
              "    </tr>\n",
              "    <tr>\n",
              "      <th>2</th>\n",
              "      <td>std</td>\n",
              "      <td>1.119381e+08</td>\n",
              "      <td>0.024934</td>\n",
              "      <td>0.025698</td>\n",
              "      <td>0.023729</td>\n",
              "      <td>0.025459</td>\n",
              "    </tr>\n",
              "    <tr>\n",
              "      <th>3</th>\n",
              "      <td>min</td>\n",
              "      <td>2.400375e+10</td>\n",
              "      <td>0.000000</td>\n",
              "      <td>0.000000</td>\n",
              "      <td>0.000000</td>\n",
              "      <td>0.000000</td>\n",
              "    </tr>\n",
              "    <tr>\n",
              "      <th>4</th>\n",
              "      <td>25%</td>\n",
              "      <td>2.451011e+10</td>\n",
              "      <td>0.027350</td>\n",
              "      <td>0.004100</td>\n",
              "      <td>0.014850</td>\n",
              "      <td>0.034550</td>\n",
              "    </tr>\n",
              "    <tr>\n",
              "      <th>5</th>\n",
              "      <td>50%</td>\n",
              "      <td>2.451019e+10</td>\n",
              "      <td>0.039750</td>\n",
              "      <td>0.018550</td>\n",
              "      <td>0.027200</td>\n",
              "      <td>0.050600</td>\n",
              "    </tr>\n",
              "    <tr>\n",
              "      <th>6</th>\n",
              "      <td>75%</td>\n",
              "      <td>2.451026e+10</td>\n",
              "      <td>0.058350</td>\n",
              "      <td>0.032875</td>\n",
              "      <td>0.042625</td>\n",
              "      <td>0.064400</td>\n",
              "    </tr>\n",
              "    <tr>\n",
              "      <th>7</th>\n",
              "      <td>max</td>\n",
              "      <td>2.451028e+10</td>\n",
              "      <td>0.126800</td>\n",
              "      <td>0.148600</td>\n",
              "      <td>0.142600</td>\n",
              "      <td>0.130500</td>\n",
              "    </tr>\n",
              "  </tbody>\n",
              "</table>\n",
              "</div>"
            ],
            "text/plain": [
              "   index  ...  Incarceration_Rate_rP_gP_p25\n",
              "0  count  ...                    194.000000\n",
              "1   mean  ...                      0.049538\n",
              "2    std  ...                      0.025459\n",
              "3    min  ...                      0.000000\n",
              "4    25%  ...                      0.034550\n",
              "5    50%  ...                      0.050600\n",
              "6    75%  ...                      0.064400\n",
              "7    max  ...                      0.130500\n",
              "\n",
              "[8 rows x 6 columns]"
            ]
          },
          "metadata": {
            "tags": []
          },
          "execution_count": 38
        }
      ]
    },
    {
      "cell_type": "code",
      "metadata": {
        "id": "tC1jNdeswtUt"
      },
      "source": [
        "df_bal_averages = df_bal_stats.loc[[1]]"
      ],
      "execution_count": 41,
      "outputs": []
    },
    {
      "cell_type": "code",
      "metadata": {
        "colab": {
          "base_uri": "https://localhost:8080/",
          "height": 80
        },
        "id": "ITAPxOqDxu13",
        "outputId": "677973fb-985c-4f04-f8b2-727d3d90fe14"
      },
      "source": [
        "df_bal_averages.head()"
      ],
      "execution_count": 42,
      "outputs": [
        {
          "output_type": "execute_result",
          "data": {
            "text/html": [
              "<div>\n",
              "<style scoped>\n",
              "    .dataframe tbody tr th:only-of-type {\n",
              "        vertical-align: middle;\n",
              "    }\n",
              "\n",
              "    .dataframe tbody tr th {\n",
              "        vertical-align: top;\n",
              "    }\n",
              "\n",
              "    .dataframe thead th {\n",
              "        text-align: right;\n",
              "    }\n",
              "</style>\n",
              "<table border=\"1\" class=\"dataframe\">\n",
              "  <thead>\n",
              "    <tr style=\"text-align: right;\">\n",
              "      <th></th>\n",
              "      <th>index</th>\n",
              "      <th>tract</th>\n",
              "      <th>Incarceration_Rate_rP_gP_pall</th>\n",
              "      <th>Incarceration_Rate_rP_gP_p75</th>\n",
              "      <th>Incarceration_Rate_rP_gP_p50</th>\n",
              "      <th>Incarceration_Rate_rP_gP_p25</th>\n",
              "    </tr>\n",
              "  </thead>\n",
              "  <tbody>\n",
              "    <tr>\n",
              "      <th>1</th>\n",
              "      <td>mean</td>\n",
              "      <td>2.448416e+10</td>\n",
              "      <td>0.043501</td>\n",
              "      <td>0.023774</td>\n",
              "      <td>0.031464</td>\n",
              "      <td>0.049538</td>\n",
              "    </tr>\n",
              "  </tbody>\n",
              "</table>\n",
              "</div>"
            ],
            "text/plain": [
              "  index  ...  Incarceration_Rate_rP_gP_p25\n",
              "1  mean  ...                      0.049538\n",
              "\n",
              "[1 rows x 6 columns]"
            ]
          },
          "metadata": {
            "tags": []
          },
          "execution_count": 42
        }
      ]
    },
    {
      "cell_type": "code",
      "metadata": {
        "id": "AIM1XMdSyjgD"
      },
      "source": [
        "del df_bal_averages[\"index\"]"
      ],
      "execution_count": 43,
      "outputs": []
    },
    {
      "cell_type": "code",
      "metadata": {
        "id": "BbPrMMmm_cA6"
      },
      "source": [
        "del df_bal_averages[\"tract\"]"
      ],
      "execution_count": 44,
      "outputs": []
    },
    {
      "cell_type": "code",
      "metadata": {
        "id": "9ODY6Fap_8vH"
      },
      "source": [
        "del df_bal_averages[\"Incarceration_Rate_rP_gP_pall\"]"
      ],
      "execution_count": 45,
      "outputs": []
    },
    {
      "cell_type": "code",
      "metadata": {
        "colab": {
          "base_uri": "https://localhost:8080/",
          "height": 80
        },
        "id": "e0tPOCAvAAxu",
        "outputId": "caf0989e-8d4e-4b18-e0f0-bac6e4fe706b"
      },
      "source": [
        "df_bal_averages.head()"
      ],
      "execution_count": 46,
      "outputs": [
        {
          "output_type": "execute_result",
          "data": {
            "text/html": [
              "<div>\n",
              "<style scoped>\n",
              "    .dataframe tbody tr th:only-of-type {\n",
              "        vertical-align: middle;\n",
              "    }\n",
              "\n",
              "    .dataframe tbody tr th {\n",
              "        vertical-align: top;\n",
              "    }\n",
              "\n",
              "    .dataframe thead th {\n",
              "        text-align: right;\n",
              "    }\n",
              "</style>\n",
              "<table border=\"1\" class=\"dataframe\">\n",
              "  <thead>\n",
              "    <tr style=\"text-align: right;\">\n",
              "      <th></th>\n",
              "      <th>Incarceration_Rate_rP_gP_p75</th>\n",
              "      <th>Incarceration_Rate_rP_gP_p50</th>\n",
              "      <th>Incarceration_Rate_rP_gP_p25</th>\n",
              "    </tr>\n",
              "  </thead>\n",
              "  <tbody>\n",
              "    <tr>\n",
              "      <th>1</th>\n",
              "      <td>0.023774</td>\n",
              "      <td>0.031464</td>\n",
              "      <td>0.049538</td>\n",
              "    </tr>\n",
              "  </tbody>\n",
              "</table>\n",
              "</div>"
            ],
            "text/plain": [
              "   Incarceration_Rate_rP_gP_p75  ...  Incarceration_Rate_rP_gP_p25\n",
              "1                      0.023774  ...                      0.049538\n",
              "\n",
              "[1 rows x 3 columns]"
            ]
          },
          "metadata": {
            "tags": []
          },
          "execution_count": 46
        }
      ]
    },
    {
      "cell_type": "code",
      "metadata": {
        "id": "R_fJZEWDzHoC"
      },
      "source": [
        "df_bal_averages = df_bal_averages.T"
      ],
      "execution_count": 47,
      "outputs": []
    },
    {
      "cell_type": "code",
      "metadata": {
        "colab": {
          "base_uri": "https://localhost:8080/",
          "height": 142
        },
        "id": "sXvSAeK4B11j",
        "outputId": "65b1e747-d315-4517-d88b-80f9c57da8c8"
      },
      "source": [
        "df_bal_averages.head()"
      ],
      "execution_count": 48,
      "outputs": [
        {
          "output_type": "execute_result",
          "data": {
            "text/html": [
              "<div>\n",
              "<style scoped>\n",
              "    .dataframe tbody tr th:only-of-type {\n",
              "        vertical-align: middle;\n",
              "    }\n",
              "\n",
              "    .dataframe tbody tr th {\n",
              "        vertical-align: top;\n",
              "    }\n",
              "\n",
              "    .dataframe thead th {\n",
              "        text-align: right;\n",
              "    }\n",
              "</style>\n",
              "<table border=\"1\" class=\"dataframe\">\n",
              "  <thead>\n",
              "    <tr style=\"text-align: right;\">\n",
              "      <th></th>\n",
              "      <th>1</th>\n",
              "    </tr>\n",
              "  </thead>\n",
              "  <tbody>\n",
              "    <tr>\n",
              "      <th>Incarceration_Rate_rP_gP_p75</th>\n",
              "      <td>0.023774</td>\n",
              "    </tr>\n",
              "    <tr>\n",
              "      <th>Incarceration_Rate_rP_gP_p50</th>\n",
              "      <td>0.031464</td>\n",
              "    </tr>\n",
              "    <tr>\n",
              "      <th>Incarceration_Rate_rP_gP_p25</th>\n",
              "      <td>0.049538</td>\n",
              "    </tr>\n",
              "  </tbody>\n",
              "</table>\n",
              "</div>"
            ],
            "text/plain": [
              "                                     1\n",
              "Incarceration_Rate_rP_gP_p75  0.023774\n",
              "Incarceration_Rate_rP_gP_p50  0.031464\n",
              "Incarceration_Rate_rP_gP_p25  0.049538"
            ]
          },
          "metadata": {
            "tags": []
          },
          "execution_count": 48
        }
      ]
    },
    {
      "cell_type": "code",
      "metadata": {
        "id": "P1irJqd0m0CR"
      },
      "source": [
        "df_bal_averages[\"Percentile\"] = df_bal_averages.index"
      ],
      "execution_count": 49,
      "outputs": []
    },
    {
      "cell_type": "code",
      "metadata": {
        "colab": {
          "base_uri": "https://localhost:8080/",
          "height": 142
        },
        "id": "BkPdXssrm1G5",
        "outputId": "50375b52-5214-420d-adf6-d40f2b7667b0"
      },
      "source": [
        "df_bal_averages.head()"
      ],
      "execution_count": 50,
      "outputs": [
        {
          "output_type": "execute_result",
          "data": {
            "text/html": [
              "<div>\n",
              "<style scoped>\n",
              "    .dataframe tbody tr th:only-of-type {\n",
              "        vertical-align: middle;\n",
              "    }\n",
              "\n",
              "    .dataframe tbody tr th {\n",
              "        vertical-align: top;\n",
              "    }\n",
              "\n",
              "    .dataframe thead th {\n",
              "        text-align: right;\n",
              "    }\n",
              "</style>\n",
              "<table border=\"1\" class=\"dataframe\">\n",
              "  <thead>\n",
              "    <tr style=\"text-align: right;\">\n",
              "      <th></th>\n",
              "      <th>1</th>\n",
              "      <th>Percentile</th>\n",
              "    </tr>\n",
              "  </thead>\n",
              "  <tbody>\n",
              "    <tr>\n",
              "      <th>Incarceration_Rate_rP_gP_p75</th>\n",
              "      <td>0.023774</td>\n",
              "      <td>Incarceration_Rate_rP_gP_p75</td>\n",
              "    </tr>\n",
              "    <tr>\n",
              "      <th>Incarceration_Rate_rP_gP_p50</th>\n",
              "      <td>0.031464</td>\n",
              "      <td>Incarceration_Rate_rP_gP_p50</td>\n",
              "    </tr>\n",
              "    <tr>\n",
              "      <th>Incarceration_Rate_rP_gP_p25</th>\n",
              "      <td>0.049538</td>\n",
              "      <td>Incarceration_Rate_rP_gP_p25</td>\n",
              "    </tr>\n",
              "  </tbody>\n",
              "</table>\n",
              "</div>"
            ],
            "text/plain": [
              "                                     1                    Percentile\n",
              "Incarceration_Rate_rP_gP_p75  0.023774  Incarceration_Rate_rP_gP_p75\n",
              "Incarceration_Rate_rP_gP_p50  0.031464  Incarceration_Rate_rP_gP_p50\n",
              "Incarceration_Rate_rP_gP_p25  0.049538  Incarceration_Rate_rP_gP_p25"
            ]
          },
          "metadata": {
            "tags": []
          },
          "execution_count": 50
        }
      ]
    },
    {
      "cell_type": "code",
      "metadata": {
        "id": "6xebclyom3nv"
      },
      "source": [
        "line_bal = px.line(df_bal_averages, x = \"Percentile\", y = 1)"
      ],
      "execution_count": 51,
      "outputs": []
    },
    {
      "cell_type": "code",
      "metadata": {
        "colab": {
          "base_uri": "https://localhost:8080/",
          "height": 542
        },
        "id": "xJnShhY7CSHu",
        "outputId": "feeb9569-5d38-4acb-9461-bab60120bae5"
      },
      "source": [
        "line_bal"
      ],
      "execution_count": 52,
      "outputs": [
        {
          "output_type": "display_data",
          "data": {
            "text/html": [
              "<html>\n",
              "<head><meta charset=\"utf-8\" /></head>\n",
              "<body>\n",
              "    <div>\n",
              "            <script src=\"https://cdnjs.cloudflare.com/ajax/libs/mathjax/2.7.5/MathJax.js?config=TeX-AMS-MML_SVG\"></script><script type=\"text/javascript\">if (window.MathJax) {MathJax.Hub.Config({SVG: {font: \"STIX-Web\"}});}</script>\n",
              "                <script type=\"text/javascript\">window.PlotlyConfig = {MathJaxConfig: 'local'};</script>\n",
              "        <script src=\"https://cdn.plot.ly/plotly-latest.min.js\"></script>    \n",
              "            <div id=\"5b00940d-d8da-4dfd-991c-fb1bbe89608d\" class=\"plotly-graph-div\" style=\"height:525px; width:100%;\"></div>\n",
              "            <script type=\"text/javascript\">\n",
              "                \n",
              "                    window.PLOTLYENV=window.PLOTLYENV || {};\n",
              "                    \n",
              "                if (document.getElementById(\"5b00940d-d8da-4dfd-991c-fb1bbe89608d\")) {\n",
              "                    Plotly.newPlot(\n",
              "                        '5b00940d-d8da-4dfd-991c-fb1bbe89608d',\n",
              "                        [{\"hoverlabel\": {\"namelength\": 0}, \"hovertemplate\": \"Percentile=%{x}<br>1=%{y}\", \"legendgroup\": \"\", \"line\": {\"color\": \"#636efa\", \"dash\": \"solid\"}, \"mode\": \"lines\", \"name\": \"\", \"showlegend\": false, \"type\": \"scatter\", \"x\": [\"Incarceration_Rate_rP_gP_p75\", \"Incarceration_Rate_rP_gP_p50\", \"Incarceration_Rate_rP_gP_p25\"], \"xaxis\": \"x\", \"y\": [0.023774226804123735, 0.03146443298969073, 0.04953762886597937], \"yaxis\": \"y\"}],\n",
              "                        {\"legend\": {\"tracegroupgap\": 0}, \"margin\": {\"t\": 60}, \"template\": {\"data\": {\"bar\": [{\"error_x\": {\"color\": \"#2a3f5f\"}, \"error_y\": {\"color\": \"#2a3f5f\"}, \"marker\": {\"line\": {\"color\": \"#E5ECF6\", \"width\": 0.5}}, \"type\": \"bar\"}], \"barpolar\": [{\"marker\": {\"line\": {\"color\": \"#E5ECF6\", \"width\": 0.5}}, \"type\": \"barpolar\"}], \"carpet\": [{\"aaxis\": {\"endlinecolor\": \"#2a3f5f\", \"gridcolor\": \"white\", \"linecolor\": \"white\", \"minorgridcolor\": \"white\", \"startlinecolor\": \"#2a3f5f\"}, \"baxis\": {\"endlinecolor\": \"#2a3f5f\", \"gridcolor\": \"white\", \"linecolor\": \"white\", \"minorgridcolor\": \"white\", \"startlinecolor\": \"#2a3f5f\"}, \"type\": \"carpet\"}], \"choropleth\": [{\"colorbar\": {\"outlinewidth\": 0, \"ticks\": \"\"}, \"type\": \"choropleth\"}], \"contour\": [{\"colorbar\": {\"outlinewidth\": 0, \"ticks\": \"\"}, \"colorscale\": [[0.0, \"#0d0887\"], [0.1111111111111111, \"#46039f\"], [0.2222222222222222, \"#7201a8\"], [0.3333333333333333, \"#9c179e\"], [0.4444444444444444, \"#bd3786\"], [0.5555555555555556, \"#d8576b\"], [0.6666666666666666, \"#ed7953\"], [0.7777777777777778, \"#fb9f3a\"], [0.8888888888888888, \"#fdca26\"], [1.0, \"#f0f921\"]], \"type\": \"contour\"}], \"contourcarpet\": [{\"colorbar\": {\"outlinewidth\": 0, \"ticks\": \"\"}, \"type\": \"contourcarpet\"}], \"heatmap\": [{\"colorbar\": {\"outlinewidth\": 0, \"ticks\": \"\"}, \"colorscale\": [[0.0, \"#0d0887\"], [0.1111111111111111, \"#46039f\"], [0.2222222222222222, \"#7201a8\"], [0.3333333333333333, \"#9c179e\"], [0.4444444444444444, \"#bd3786\"], [0.5555555555555556, \"#d8576b\"], [0.6666666666666666, \"#ed7953\"], [0.7777777777777778, \"#fb9f3a\"], [0.8888888888888888, \"#fdca26\"], [1.0, \"#f0f921\"]], \"type\": \"heatmap\"}], \"heatmapgl\": [{\"colorbar\": {\"outlinewidth\": 0, \"ticks\": \"\"}, \"colorscale\": [[0.0, \"#0d0887\"], [0.1111111111111111, \"#46039f\"], [0.2222222222222222, \"#7201a8\"], [0.3333333333333333, \"#9c179e\"], [0.4444444444444444, \"#bd3786\"], [0.5555555555555556, \"#d8576b\"], [0.6666666666666666, \"#ed7953\"], [0.7777777777777778, \"#fb9f3a\"], [0.8888888888888888, \"#fdca26\"], [1.0, \"#f0f921\"]], \"type\": \"heatmapgl\"}], \"histogram\": [{\"marker\": {\"colorbar\": {\"outlinewidth\": 0, \"ticks\": \"\"}}, \"type\": \"histogram\"}], \"histogram2d\": [{\"colorbar\": {\"outlinewidth\": 0, \"ticks\": \"\"}, \"colorscale\": [[0.0, \"#0d0887\"], [0.1111111111111111, \"#46039f\"], [0.2222222222222222, \"#7201a8\"], [0.3333333333333333, \"#9c179e\"], [0.4444444444444444, \"#bd3786\"], [0.5555555555555556, \"#d8576b\"], [0.6666666666666666, \"#ed7953\"], [0.7777777777777778, \"#fb9f3a\"], [0.8888888888888888, \"#fdca26\"], [1.0, \"#f0f921\"]], \"type\": \"histogram2d\"}], \"histogram2dcontour\": [{\"colorbar\": {\"outlinewidth\": 0, \"ticks\": \"\"}, \"colorscale\": [[0.0, \"#0d0887\"], [0.1111111111111111, \"#46039f\"], [0.2222222222222222, \"#7201a8\"], [0.3333333333333333, \"#9c179e\"], [0.4444444444444444, \"#bd3786\"], [0.5555555555555556, \"#d8576b\"], [0.6666666666666666, \"#ed7953\"], [0.7777777777777778, \"#fb9f3a\"], [0.8888888888888888, \"#fdca26\"], [1.0, \"#f0f921\"]], \"type\": \"histogram2dcontour\"}], \"mesh3d\": [{\"colorbar\": {\"outlinewidth\": 0, \"ticks\": \"\"}, \"type\": \"mesh3d\"}], \"parcoords\": [{\"line\": {\"colorbar\": {\"outlinewidth\": 0, \"ticks\": \"\"}}, \"type\": \"parcoords\"}], \"pie\": [{\"automargin\": true, \"type\": \"pie\"}], \"scatter\": [{\"marker\": {\"colorbar\": {\"outlinewidth\": 0, \"ticks\": \"\"}}, \"type\": \"scatter\"}], \"scatter3d\": [{\"line\": {\"colorbar\": {\"outlinewidth\": 0, \"ticks\": \"\"}}, \"marker\": {\"colorbar\": {\"outlinewidth\": 0, \"ticks\": \"\"}}, \"type\": \"scatter3d\"}], \"scattercarpet\": [{\"marker\": {\"colorbar\": {\"outlinewidth\": 0, \"ticks\": \"\"}}, \"type\": \"scattercarpet\"}], \"scattergeo\": [{\"marker\": {\"colorbar\": {\"outlinewidth\": 0, \"ticks\": \"\"}}, \"type\": \"scattergeo\"}], \"scattergl\": [{\"marker\": {\"colorbar\": {\"outlinewidth\": 0, \"ticks\": \"\"}}, \"type\": \"scattergl\"}], \"scattermapbox\": [{\"marker\": {\"colorbar\": {\"outlinewidth\": 0, \"ticks\": \"\"}}, \"type\": \"scattermapbox\"}], \"scatterpolar\": [{\"marker\": {\"colorbar\": {\"outlinewidth\": 0, \"ticks\": \"\"}}, \"type\": \"scatterpolar\"}], \"scatterpolargl\": [{\"marker\": {\"colorbar\": {\"outlinewidth\": 0, \"ticks\": \"\"}}, \"type\": \"scatterpolargl\"}], \"scatterternary\": [{\"marker\": {\"colorbar\": {\"outlinewidth\": 0, \"ticks\": \"\"}}, \"type\": \"scatterternary\"}], \"surface\": [{\"colorbar\": {\"outlinewidth\": 0, \"ticks\": \"\"}, \"colorscale\": [[0.0, \"#0d0887\"], [0.1111111111111111, \"#46039f\"], [0.2222222222222222, \"#7201a8\"], [0.3333333333333333, \"#9c179e\"], [0.4444444444444444, \"#bd3786\"], [0.5555555555555556, \"#d8576b\"], [0.6666666666666666, \"#ed7953\"], [0.7777777777777778, \"#fb9f3a\"], [0.8888888888888888, \"#fdca26\"], [1.0, \"#f0f921\"]], \"type\": \"surface\"}], \"table\": [{\"cells\": {\"fill\": {\"color\": \"#EBF0F8\"}, \"line\": {\"color\": \"white\"}}, \"header\": {\"fill\": {\"color\": \"#C8D4E3\"}, \"line\": {\"color\": \"white\"}}, \"type\": \"table\"}]}, \"layout\": {\"annotationdefaults\": {\"arrowcolor\": \"#2a3f5f\", \"arrowhead\": 0, \"arrowwidth\": 1}, \"coloraxis\": {\"colorbar\": {\"outlinewidth\": 0, \"ticks\": \"\"}}, \"colorscale\": {\"diverging\": [[0, \"#8e0152\"], [0.1, \"#c51b7d\"], [0.2, \"#de77ae\"], [0.3, \"#f1b6da\"], [0.4, \"#fde0ef\"], [0.5, \"#f7f7f7\"], [0.6, \"#e6f5d0\"], [0.7, \"#b8e186\"], [0.8, \"#7fbc41\"], [0.9, \"#4d9221\"], [1, \"#276419\"]], \"sequential\": [[0.0, \"#0d0887\"], [0.1111111111111111, \"#46039f\"], [0.2222222222222222, \"#7201a8\"], [0.3333333333333333, \"#9c179e\"], [0.4444444444444444, \"#bd3786\"], [0.5555555555555556, \"#d8576b\"], [0.6666666666666666, \"#ed7953\"], [0.7777777777777778, \"#fb9f3a\"], [0.8888888888888888, \"#fdca26\"], [1.0, \"#f0f921\"]], \"sequentialminus\": [[0.0, \"#0d0887\"], [0.1111111111111111, \"#46039f\"], [0.2222222222222222, \"#7201a8\"], [0.3333333333333333, \"#9c179e\"], [0.4444444444444444, \"#bd3786\"], [0.5555555555555556, \"#d8576b\"], [0.6666666666666666, \"#ed7953\"], [0.7777777777777778, \"#fb9f3a\"], [0.8888888888888888, \"#fdca26\"], [1.0, \"#f0f921\"]]}, \"colorway\": [\"#636efa\", \"#EF553B\", \"#00cc96\", \"#ab63fa\", \"#FFA15A\", \"#19d3f3\", \"#FF6692\", \"#B6E880\", \"#FF97FF\", \"#FECB52\"], \"font\": {\"color\": \"#2a3f5f\"}, \"geo\": {\"bgcolor\": \"white\", \"lakecolor\": \"white\", \"landcolor\": \"#E5ECF6\", \"showlakes\": true, \"showland\": true, \"subunitcolor\": \"white\"}, \"hoverlabel\": {\"align\": \"left\"}, \"hovermode\": \"closest\", \"mapbox\": {\"style\": \"light\"}, \"paper_bgcolor\": \"white\", \"plot_bgcolor\": \"#E5ECF6\", \"polar\": {\"angularaxis\": {\"gridcolor\": \"white\", \"linecolor\": \"white\", \"ticks\": \"\"}, \"bgcolor\": \"#E5ECF6\", \"radialaxis\": {\"gridcolor\": \"white\", \"linecolor\": \"white\", \"ticks\": \"\"}}, \"scene\": {\"xaxis\": {\"backgroundcolor\": \"#E5ECF6\", \"gridcolor\": \"white\", \"gridwidth\": 2, \"linecolor\": \"white\", \"showbackground\": true, \"ticks\": \"\", \"zerolinecolor\": \"white\"}, \"yaxis\": {\"backgroundcolor\": \"#E5ECF6\", \"gridcolor\": \"white\", \"gridwidth\": 2, \"linecolor\": \"white\", \"showbackground\": true, \"ticks\": \"\", \"zerolinecolor\": \"white\"}, \"zaxis\": {\"backgroundcolor\": \"#E5ECF6\", \"gridcolor\": \"white\", \"gridwidth\": 2, \"linecolor\": \"white\", \"showbackground\": true, \"ticks\": \"\", \"zerolinecolor\": \"white\"}}, \"shapedefaults\": {\"line\": {\"color\": \"#2a3f5f\"}}, \"ternary\": {\"aaxis\": {\"gridcolor\": \"white\", \"linecolor\": \"white\", \"ticks\": \"\"}, \"baxis\": {\"gridcolor\": \"white\", \"linecolor\": \"white\", \"ticks\": \"\"}, \"bgcolor\": \"#E5ECF6\", \"caxis\": {\"gridcolor\": \"white\", \"linecolor\": \"white\", \"ticks\": \"\"}}, \"title\": {\"x\": 0.05}, \"xaxis\": {\"automargin\": true, \"gridcolor\": \"white\", \"linecolor\": \"white\", \"ticks\": \"\", \"title\": {\"standoff\": 15}, \"zerolinecolor\": \"white\", \"zerolinewidth\": 2}, \"yaxis\": {\"automargin\": true, \"gridcolor\": \"white\", \"linecolor\": \"white\", \"ticks\": \"\", \"title\": {\"standoff\": 15}, \"zerolinecolor\": \"white\", \"zerolinewidth\": 2}}}, \"xaxis\": {\"anchor\": \"y\", \"domain\": [0.0, 1.0], \"title\": {\"text\": \"Percentile\"}}, \"yaxis\": {\"anchor\": \"x\", \"domain\": [0.0, 1.0], \"title\": {\"text\": \"1\"}}},\n",
              "                        {\"responsive\": true}\n",
              "                    ).then(function(){\n",
              "                            \n",
              "var gd = document.getElementById('5b00940d-d8da-4dfd-991c-fb1bbe89608d');\n",
              "var x = new MutationObserver(function (mutations, observer) {{\n",
              "        var display = window.getComputedStyle(gd).display;\n",
              "        if (!display || display === 'none') {{\n",
              "            console.log([gd, 'removed!']);\n",
              "            Plotly.purge(gd);\n",
              "            observer.disconnect();\n",
              "        }}\n",
              "}});\n",
              "\n",
              "// Listen for the removal of the full notebook cells\n",
              "var notebookContainer = gd.closest('#notebook-container');\n",
              "if (notebookContainer) {{\n",
              "    x.observe(notebookContainer, {childList: true});\n",
              "}}\n",
              "\n",
              "// Listen for the clearing of the current output cell\n",
              "var outputEl = gd.closest('.output');\n",
              "if (outputEl) {{\n",
              "    x.observe(outputEl, {childList: true});\n",
              "}}\n",
              "\n",
              "                        })\n",
              "                };\n",
              "                \n",
              "            </script>\n",
              "        </div>\n",
              "</body>\n",
              "</html>"
            ]
          },
          "metadata": {
            "tags": []
          }
        }
      ]
    },
    {
      "cell_type": "markdown",
      "metadata": {
        "id": "X4PZtdiIy43N"
      },
      "source": [
        "# Line Graph of Average Incarceration Rate for Different Parent Income in Washington, DC"
      ]
    },
    {
      "cell_type": "code",
      "metadata": {
        "colab": {
          "base_uri": "https://localhost:8080/",
          "height": 297
        },
        "id": "e1lghn1Cn3uH",
        "outputId": "983a7e0b-494d-40d5-d460-9d8d690702de"
      },
      "source": [
        "df_dc_incar_merge.describe()"
      ],
      "execution_count": 53,
      "outputs": [
        {
          "output_type": "execute_result",
          "data": {
            "text/html": [
              "<div>\n",
              "<style scoped>\n",
              "    .dataframe tbody tr th:only-of-type {\n",
              "        vertical-align: middle;\n",
              "    }\n",
              "\n",
              "    .dataframe tbody tr th {\n",
              "        vertical-align: top;\n",
              "    }\n",
              "\n",
              "    .dataframe thead th {\n",
              "        text-align: right;\n",
              "    }\n",
              "</style>\n",
              "<table border=\"1\" class=\"dataframe\">\n",
              "  <thead>\n",
              "    <tr style=\"text-align: right;\">\n",
              "      <th></th>\n",
              "      <th>tract</th>\n",
              "      <th>Incarceration_Rate_rP_gP_pall</th>\n",
              "      <th>Incarceration_Rate_rP_gP_p75</th>\n",
              "      <th>Incarceration_Rate_rP_gP_p50</th>\n",
              "      <th>Incarceration_Rate_rP_gP_p25</th>\n",
              "    </tr>\n",
              "  </thead>\n",
              "  <tbody>\n",
              "    <tr>\n",
              "      <th>count</th>\n",
              "      <td>1.750000e+02</td>\n",
              "      <td>175.000000</td>\n",
              "      <td>175.00000</td>\n",
              "      <td>175.000000</td>\n",
              "      <td>175.000000</td>\n",
              "    </tr>\n",
              "    <tr>\n",
              "      <th>mean</th>\n",
              "      <td>1.100101e+10</td>\n",
              "      <td>0.034035</td>\n",
              "      <td>0.01980</td>\n",
              "      <td>0.026426</td>\n",
              "      <td>0.042023</td>\n",
              "    </tr>\n",
              "    <tr>\n",
              "      <th>std</th>\n",
              "      <td>3.263336e+03</td>\n",
              "      <td>0.024138</td>\n",
              "      <td>0.01948</td>\n",
              "      <td>0.019262</td>\n",
              "      <td>0.026119</td>\n",
              "    </tr>\n",
              "    <tr>\n",
              "      <th>min</th>\n",
              "      <td>1.100100e+10</td>\n",
              "      <td>0.000000</td>\n",
              "      <td>0.00000</td>\n",
              "      <td>0.000000</td>\n",
              "      <td>0.000000</td>\n",
              "    </tr>\n",
              "    <tr>\n",
              "      <th>25%</th>\n",
              "      <td>1.100100e+10</td>\n",
              "      <td>0.013250</td>\n",
              "      <td>0.00460</td>\n",
              "      <td>0.011850</td>\n",
              "      <td>0.021950</td>\n",
              "    </tr>\n",
              "    <tr>\n",
              "      <th>50%</th>\n",
              "      <td>1.100101e+10</td>\n",
              "      <td>0.035000</td>\n",
              "      <td>0.01480</td>\n",
              "      <td>0.024500</td>\n",
              "      <td>0.043500</td>\n",
              "    </tr>\n",
              "    <tr>\n",
              "      <th>75%</th>\n",
              "      <td>1.100101e+10</td>\n",
              "      <td>0.049950</td>\n",
              "      <td>0.02935</td>\n",
              "      <td>0.037600</td>\n",
              "      <td>0.057000</td>\n",
              "    </tr>\n",
              "    <tr>\n",
              "      <th>max</th>\n",
              "      <td>1.100101e+10</td>\n",
              "      <td>0.107800</td>\n",
              "      <td>0.08080</td>\n",
              "      <td>0.081500</td>\n",
              "      <td>0.124400</td>\n",
              "    </tr>\n",
              "  </tbody>\n",
              "</table>\n",
              "</div>"
            ],
            "text/plain": [
              "              tract  ...  Incarceration_Rate_rP_gP_p25\n",
              "count  1.750000e+02  ...                    175.000000\n",
              "mean   1.100101e+10  ...                      0.042023\n",
              "std    3.263336e+03  ...                      0.026119\n",
              "min    1.100100e+10  ...                      0.000000\n",
              "25%    1.100100e+10  ...                      0.021950\n",
              "50%    1.100101e+10  ...                      0.043500\n",
              "75%    1.100101e+10  ...                      0.057000\n",
              "max    1.100101e+10  ...                      0.124400\n",
              "\n",
              "[8 rows x 5 columns]"
            ]
          },
          "metadata": {
            "tags": []
          },
          "execution_count": 53
        }
      ]
    },
    {
      "cell_type": "code",
      "metadata": {
        "id": "nA8IF84IoDHx"
      },
      "source": [
        "df_dc_stats = df_dc_incar_merge.describe().reset_index()"
      ],
      "execution_count": 54,
      "outputs": []
    },
    {
      "cell_type": "code",
      "metadata": {
        "colab": {
          "base_uri": "https://localhost:8080/",
          "height": 297
        },
        "id": "_BTM3-OUoGSG",
        "outputId": "240f899e-3b79-449c-81e1-231e494a6406"
      },
      "source": [
        "df_dc_stats.head(10)"
      ],
      "execution_count": 55,
      "outputs": [
        {
          "output_type": "execute_result",
          "data": {
            "text/html": [
              "<div>\n",
              "<style scoped>\n",
              "    .dataframe tbody tr th:only-of-type {\n",
              "        vertical-align: middle;\n",
              "    }\n",
              "\n",
              "    .dataframe tbody tr th {\n",
              "        vertical-align: top;\n",
              "    }\n",
              "\n",
              "    .dataframe thead th {\n",
              "        text-align: right;\n",
              "    }\n",
              "</style>\n",
              "<table border=\"1\" class=\"dataframe\">\n",
              "  <thead>\n",
              "    <tr style=\"text-align: right;\">\n",
              "      <th></th>\n",
              "      <th>index</th>\n",
              "      <th>tract</th>\n",
              "      <th>Incarceration_Rate_rP_gP_pall</th>\n",
              "      <th>Incarceration_Rate_rP_gP_p75</th>\n",
              "      <th>Incarceration_Rate_rP_gP_p50</th>\n",
              "      <th>Incarceration_Rate_rP_gP_p25</th>\n",
              "    </tr>\n",
              "  </thead>\n",
              "  <tbody>\n",
              "    <tr>\n",
              "      <th>0</th>\n",
              "      <td>count</td>\n",
              "      <td>1.750000e+02</td>\n",
              "      <td>175.000000</td>\n",
              "      <td>175.00000</td>\n",
              "      <td>175.000000</td>\n",
              "      <td>175.000000</td>\n",
              "    </tr>\n",
              "    <tr>\n",
              "      <th>1</th>\n",
              "      <td>mean</td>\n",
              "      <td>1.100101e+10</td>\n",
              "      <td>0.034035</td>\n",
              "      <td>0.01980</td>\n",
              "      <td>0.026426</td>\n",
              "      <td>0.042023</td>\n",
              "    </tr>\n",
              "    <tr>\n",
              "      <th>2</th>\n",
              "      <td>std</td>\n",
              "      <td>3.263336e+03</td>\n",
              "      <td>0.024138</td>\n",
              "      <td>0.01948</td>\n",
              "      <td>0.019262</td>\n",
              "      <td>0.026119</td>\n",
              "    </tr>\n",
              "    <tr>\n",
              "      <th>3</th>\n",
              "      <td>min</td>\n",
              "      <td>1.100100e+10</td>\n",
              "      <td>0.000000</td>\n",
              "      <td>0.00000</td>\n",
              "      <td>0.000000</td>\n",
              "      <td>0.000000</td>\n",
              "    </tr>\n",
              "    <tr>\n",
              "      <th>4</th>\n",
              "      <td>25%</td>\n",
              "      <td>1.100100e+10</td>\n",
              "      <td>0.013250</td>\n",
              "      <td>0.00460</td>\n",
              "      <td>0.011850</td>\n",
              "      <td>0.021950</td>\n",
              "    </tr>\n",
              "    <tr>\n",
              "      <th>5</th>\n",
              "      <td>50%</td>\n",
              "      <td>1.100101e+10</td>\n",
              "      <td>0.035000</td>\n",
              "      <td>0.01480</td>\n",
              "      <td>0.024500</td>\n",
              "      <td>0.043500</td>\n",
              "    </tr>\n",
              "    <tr>\n",
              "      <th>6</th>\n",
              "      <td>75%</td>\n",
              "      <td>1.100101e+10</td>\n",
              "      <td>0.049950</td>\n",
              "      <td>0.02935</td>\n",
              "      <td>0.037600</td>\n",
              "      <td>0.057000</td>\n",
              "    </tr>\n",
              "    <tr>\n",
              "      <th>7</th>\n",
              "      <td>max</td>\n",
              "      <td>1.100101e+10</td>\n",
              "      <td>0.107800</td>\n",
              "      <td>0.08080</td>\n",
              "      <td>0.081500</td>\n",
              "      <td>0.124400</td>\n",
              "    </tr>\n",
              "  </tbody>\n",
              "</table>\n",
              "</div>"
            ],
            "text/plain": [
              "   index  ...  Incarceration_Rate_rP_gP_p25\n",
              "0  count  ...                    175.000000\n",
              "1   mean  ...                      0.042023\n",
              "2    std  ...                      0.026119\n",
              "3    min  ...                      0.000000\n",
              "4    25%  ...                      0.021950\n",
              "5    50%  ...                      0.043500\n",
              "6    75%  ...                      0.057000\n",
              "7    max  ...                      0.124400\n",
              "\n",
              "[8 rows x 6 columns]"
            ]
          },
          "metadata": {
            "tags": []
          },
          "execution_count": 55
        }
      ]
    },
    {
      "cell_type": "code",
      "metadata": {
        "id": "0blLkN-RoRNu"
      },
      "source": [
        "df_dc_averages = df_dc_stats.loc[[1]]"
      ],
      "execution_count": 58,
      "outputs": []
    },
    {
      "cell_type": "code",
      "metadata": {
        "colab": {
          "base_uri": "https://localhost:8080/",
          "height": 80
        },
        "id": "Oci1HWbfods1",
        "outputId": "9407c4e7-d4c4-4c43-8d04-34c68ea6d977"
      },
      "source": [
        "df_dc_averages.head()"
      ],
      "execution_count": 59,
      "outputs": [
        {
          "output_type": "execute_result",
          "data": {
            "text/html": [
              "<div>\n",
              "<style scoped>\n",
              "    .dataframe tbody tr th:only-of-type {\n",
              "        vertical-align: middle;\n",
              "    }\n",
              "\n",
              "    .dataframe tbody tr th {\n",
              "        vertical-align: top;\n",
              "    }\n",
              "\n",
              "    .dataframe thead th {\n",
              "        text-align: right;\n",
              "    }\n",
              "</style>\n",
              "<table border=\"1\" class=\"dataframe\">\n",
              "  <thead>\n",
              "    <tr style=\"text-align: right;\">\n",
              "      <th></th>\n",
              "      <th>index</th>\n",
              "      <th>tract</th>\n",
              "      <th>Incarceration_Rate_rP_gP_pall</th>\n",
              "      <th>Incarceration_Rate_rP_gP_p75</th>\n",
              "      <th>Incarceration_Rate_rP_gP_p50</th>\n",
              "      <th>Incarceration_Rate_rP_gP_p25</th>\n",
              "    </tr>\n",
              "  </thead>\n",
              "  <tbody>\n",
              "    <tr>\n",
              "      <th>1</th>\n",
              "      <td>mean</td>\n",
              "      <td>1.100101e+10</td>\n",
              "      <td>0.034035</td>\n",
              "      <td>0.0198</td>\n",
              "      <td>0.026426</td>\n",
              "      <td>0.042023</td>\n",
              "    </tr>\n",
              "  </tbody>\n",
              "</table>\n",
              "</div>"
            ],
            "text/plain": [
              "  index  ...  Incarceration_Rate_rP_gP_p25\n",
              "1  mean  ...                      0.042023\n",
              "\n",
              "[1 rows x 6 columns]"
            ]
          },
          "metadata": {
            "tags": []
          },
          "execution_count": 59
        }
      ]
    },
    {
      "cell_type": "code",
      "metadata": {
        "id": "Fj3vKG72qCmz"
      },
      "source": [
        "del df_dc_averages[\"index\"]"
      ],
      "execution_count": 60,
      "outputs": []
    },
    {
      "cell_type": "code",
      "metadata": {
        "id": "4B9iPqqIqNnV"
      },
      "source": [
        "del df_dc_averages[\"tract\"]"
      ],
      "execution_count": 61,
      "outputs": []
    },
    {
      "cell_type": "code",
      "metadata": {
        "id": "tubw6mc0qQG0"
      },
      "source": [
        "del df_dc_averages[\"Incarceration_Rate_rP_gP_pall\"]"
      ],
      "execution_count": 62,
      "outputs": []
    },
    {
      "cell_type": "code",
      "metadata": {
        "id": "UiFgOotCpum8"
      },
      "source": [
        "df_dc_averages = df_dc_averages.T"
      ],
      "execution_count": 63,
      "outputs": []
    },
    {
      "cell_type": "code",
      "metadata": {
        "colab": {
          "base_uri": "https://localhost:8080/",
          "height": 142
        },
        "id": "Y7sHlMsip6yY",
        "outputId": "7d1e45e6-372b-4019-d831-14f8a3e3ab14"
      },
      "source": [
        "df_dc_averages.head()"
      ],
      "execution_count": 64,
      "outputs": [
        {
          "output_type": "execute_result",
          "data": {
            "text/html": [
              "<div>\n",
              "<style scoped>\n",
              "    .dataframe tbody tr th:only-of-type {\n",
              "        vertical-align: middle;\n",
              "    }\n",
              "\n",
              "    .dataframe tbody tr th {\n",
              "        vertical-align: top;\n",
              "    }\n",
              "\n",
              "    .dataframe thead th {\n",
              "        text-align: right;\n",
              "    }\n",
              "</style>\n",
              "<table border=\"1\" class=\"dataframe\">\n",
              "  <thead>\n",
              "    <tr style=\"text-align: right;\">\n",
              "      <th></th>\n",
              "      <th>1</th>\n",
              "    </tr>\n",
              "  </thead>\n",
              "  <tbody>\n",
              "    <tr>\n",
              "      <th>Incarceration_Rate_rP_gP_p75</th>\n",
              "      <td>0.019800</td>\n",
              "    </tr>\n",
              "    <tr>\n",
              "      <th>Incarceration_Rate_rP_gP_p50</th>\n",
              "      <td>0.026426</td>\n",
              "    </tr>\n",
              "    <tr>\n",
              "      <th>Incarceration_Rate_rP_gP_p25</th>\n",
              "      <td>0.042023</td>\n",
              "    </tr>\n",
              "  </tbody>\n",
              "</table>\n",
              "</div>"
            ],
            "text/plain": [
              "                                     1\n",
              "Incarceration_Rate_rP_gP_p75  0.019800\n",
              "Incarceration_Rate_rP_gP_p50  0.026426\n",
              "Incarceration_Rate_rP_gP_p25  0.042023"
            ]
          },
          "metadata": {
            "tags": []
          },
          "execution_count": 64
        }
      ]
    },
    {
      "cell_type": "code",
      "metadata": {
        "id": "2Q5NPpbGqz-x"
      },
      "source": [
        "df_dc_averages[\"Percentile\"] = df_dc_averages.index"
      ],
      "execution_count": 65,
      "outputs": []
    },
    {
      "cell_type": "code",
      "metadata": {
        "colab": {
          "base_uri": "https://localhost:8080/",
          "height": 142
        },
        "id": "UVL7oNspq45K",
        "outputId": "a682fc4e-93ea-437f-db75-4bf403a93dab"
      },
      "source": [
        "df_dc_averages.head()"
      ],
      "execution_count": 66,
      "outputs": [
        {
          "output_type": "execute_result",
          "data": {
            "text/html": [
              "<div>\n",
              "<style scoped>\n",
              "    .dataframe tbody tr th:only-of-type {\n",
              "        vertical-align: middle;\n",
              "    }\n",
              "\n",
              "    .dataframe tbody tr th {\n",
              "        vertical-align: top;\n",
              "    }\n",
              "\n",
              "    .dataframe thead th {\n",
              "        text-align: right;\n",
              "    }\n",
              "</style>\n",
              "<table border=\"1\" class=\"dataframe\">\n",
              "  <thead>\n",
              "    <tr style=\"text-align: right;\">\n",
              "      <th></th>\n",
              "      <th>1</th>\n",
              "      <th>Percentile</th>\n",
              "    </tr>\n",
              "  </thead>\n",
              "  <tbody>\n",
              "    <tr>\n",
              "      <th>Incarceration_Rate_rP_gP_p75</th>\n",
              "      <td>0.019800</td>\n",
              "      <td>Incarceration_Rate_rP_gP_p75</td>\n",
              "    </tr>\n",
              "    <tr>\n",
              "      <th>Incarceration_Rate_rP_gP_p50</th>\n",
              "      <td>0.026426</td>\n",
              "      <td>Incarceration_Rate_rP_gP_p50</td>\n",
              "    </tr>\n",
              "    <tr>\n",
              "      <th>Incarceration_Rate_rP_gP_p25</th>\n",
              "      <td>0.042023</td>\n",
              "      <td>Incarceration_Rate_rP_gP_p25</td>\n",
              "    </tr>\n",
              "  </tbody>\n",
              "</table>\n",
              "</div>"
            ],
            "text/plain": [
              "                                     1                    Percentile\n",
              "Incarceration_Rate_rP_gP_p75  0.019800  Incarceration_Rate_rP_gP_p75\n",
              "Incarceration_Rate_rP_gP_p50  0.026426  Incarceration_Rate_rP_gP_p50\n",
              "Incarceration_Rate_rP_gP_p25  0.042023  Incarceration_Rate_rP_gP_p25"
            ]
          },
          "metadata": {
            "tags": []
          },
          "execution_count": 66
        }
      ]
    },
    {
      "cell_type": "code",
      "metadata": {
        "id": "jVZGvkGRrGK3"
      },
      "source": [
        "line_dc = px.line(df_dc_averages, x = \"Percentile\", y = 1)"
      ],
      "execution_count": 75,
      "outputs": []
    },
    {
      "cell_type": "code",
      "metadata": {
        "colab": {
          "base_uri": "https://localhost:8080/",
          "height": 542
        },
        "id": "NvlJ3qnYrW39",
        "outputId": "51016a15-977e-4c34-cf20-d0e22fc47996"
      },
      "source": [
        "line_dc"
      ],
      "execution_count": 68,
      "outputs": [
        {
          "output_type": "display_data",
          "data": {
            "text/html": [
              "<html>\n",
              "<head><meta charset=\"utf-8\" /></head>\n",
              "<body>\n",
              "    <div>\n",
              "            <script src=\"https://cdnjs.cloudflare.com/ajax/libs/mathjax/2.7.5/MathJax.js?config=TeX-AMS-MML_SVG\"></script><script type=\"text/javascript\">if (window.MathJax) {MathJax.Hub.Config({SVG: {font: \"STIX-Web\"}});}</script>\n",
              "                <script type=\"text/javascript\">window.PlotlyConfig = {MathJaxConfig: 'local'};</script>\n",
              "        <script src=\"https://cdn.plot.ly/plotly-latest.min.js\"></script>    \n",
              "            <div id=\"9e5f2ed1-6eba-4419-bc31-6cf1af606432\" class=\"plotly-graph-div\" style=\"height:525px; width:100%;\"></div>\n",
              "            <script type=\"text/javascript\">\n",
              "                \n",
              "                    window.PLOTLYENV=window.PLOTLYENV || {};\n",
              "                    \n",
              "                if (document.getElementById(\"9e5f2ed1-6eba-4419-bc31-6cf1af606432\")) {\n",
              "                    Plotly.newPlot(\n",
              "                        '9e5f2ed1-6eba-4419-bc31-6cf1af606432',\n",
              "                        [{\"hoverlabel\": {\"namelength\": 0}, \"hovertemplate\": \"Percentile=%{x}<br>1=%{y}\", \"legendgroup\": \"\", \"line\": {\"color\": \"#636efa\", \"dash\": \"solid\"}, \"mode\": \"lines\", \"name\": \"\", \"showlegend\": false, \"type\": \"scatter\", \"x\": [\"Incarceration_Rate_rP_gP_p75\", \"Incarceration_Rate_rP_gP_p50\", \"Incarceration_Rate_rP_gP_p25\"], \"xaxis\": \"x\", \"y\": [0.019799999999999995, 0.02642571428571429, 0.042023428571428566], \"yaxis\": \"y\"}],\n",
              "                        {\"legend\": {\"tracegroupgap\": 0}, \"margin\": {\"t\": 60}, \"template\": {\"data\": {\"bar\": [{\"error_x\": {\"color\": \"#2a3f5f\"}, \"error_y\": {\"color\": \"#2a3f5f\"}, \"marker\": {\"line\": {\"color\": \"#E5ECF6\", \"width\": 0.5}}, \"type\": \"bar\"}], \"barpolar\": [{\"marker\": {\"line\": {\"color\": \"#E5ECF6\", \"width\": 0.5}}, \"type\": \"barpolar\"}], \"carpet\": [{\"aaxis\": {\"endlinecolor\": \"#2a3f5f\", \"gridcolor\": \"white\", \"linecolor\": \"white\", \"minorgridcolor\": \"white\", \"startlinecolor\": \"#2a3f5f\"}, \"baxis\": {\"endlinecolor\": \"#2a3f5f\", \"gridcolor\": \"white\", \"linecolor\": \"white\", \"minorgridcolor\": \"white\", \"startlinecolor\": \"#2a3f5f\"}, \"type\": \"carpet\"}], \"choropleth\": [{\"colorbar\": {\"outlinewidth\": 0, \"ticks\": \"\"}, \"type\": \"choropleth\"}], \"contour\": [{\"colorbar\": {\"outlinewidth\": 0, \"ticks\": \"\"}, \"colorscale\": [[0.0, \"#0d0887\"], [0.1111111111111111, \"#46039f\"], [0.2222222222222222, \"#7201a8\"], [0.3333333333333333, \"#9c179e\"], [0.4444444444444444, \"#bd3786\"], [0.5555555555555556, \"#d8576b\"], [0.6666666666666666, \"#ed7953\"], [0.7777777777777778, \"#fb9f3a\"], [0.8888888888888888, \"#fdca26\"], [1.0, \"#f0f921\"]], \"type\": \"contour\"}], \"contourcarpet\": [{\"colorbar\": {\"outlinewidth\": 0, \"ticks\": \"\"}, \"type\": \"contourcarpet\"}], \"heatmap\": [{\"colorbar\": {\"outlinewidth\": 0, \"ticks\": \"\"}, \"colorscale\": [[0.0, \"#0d0887\"], [0.1111111111111111, \"#46039f\"], [0.2222222222222222, \"#7201a8\"], [0.3333333333333333, \"#9c179e\"], [0.4444444444444444, \"#bd3786\"], [0.5555555555555556, \"#d8576b\"], [0.6666666666666666, \"#ed7953\"], [0.7777777777777778, \"#fb9f3a\"], [0.8888888888888888, \"#fdca26\"], [1.0, \"#f0f921\"]], \"type\": \"heatmap\"}], \"heatmapgl\": [{\"colorbar\": {\"outlinewidth\": 0, \"ticks\": \"\"}, \"colorscale\": [[0.0, \"#0d0887\"], [0.1111111111111111, \"#46039f\"], [0.2222222222222222, \"#7201a8\"], [0.3333333333333333, \"#9c179e\"], [0.4444444444444444, \"#bd3786\"], [0.5555555555555556, \"#d8576b\"], [0.6666666666666666, \"#ed7953\"], [0.7777777777777778, \"#fb9f3a\"], [0.8888888888888888, \"#fdca26\"], [1.0, \"#f0f921\"]], \"type\": \"heatmapgl\"}], \"histogram\": [{\"marker\": {\"colorbar\": {\"outlinewidth\": 0, \"ticks\": \"\"}}, \"type\": \"histogram\"}], \"histogram2d\": [{\"colorbar\": {\"outlinewidth\": 0, \"ticks\": \"\"}, \"colorscale\": [[0.0, \"#0d0887\"], [0.1111111111111111, \"#46039f\"], [0.2222222222222222, \"#7201a8\"], [0.3333333333333333, \"#9c179e\"], [0.4444444444444444, \"#bd3786\"], [0.5555555555555556, \"#d8576b\"], [0.6666666666666666, \"#ed7953\"], [0.7777777777777778, \"#fb9f3a\"], [0.8888888888888888, \"#fdca26\"], [1.0, \"#f0f921\"]], \"type\": \"histogram2d\"}], \"histogram2dcontour\": [{\"colorbar\": {\"outlinewidth\": 0, \"ticks\": \"\"}, \"colorscale\": [[0.0, \"#0d0887\"], [0.1111111111111111, \"#46039f\"], [0.2222222222222222, \"#7201a8\"], [0.3333333333333333, \"#9c179e\"], [0.4444444444444444, \"#bd3786\"], [0.5555555555555556, \"#d8576b\"], [0.6666666666666666, \"#ed7953\"], [0.7777777777777778, \"#fb9f3a\"], [0.8888888888888888, \"#fdca26\"], [1.0, \"#f0f921\"]], \"type\": \"histogram2dcontour\"}], \"mesh3d\": [{\"colorbar\": {\"outlinewidth\": 0, \"ticks\": \"\"}, \"type\": \"mesh3d\"}], \"parcoords\": [{\"line\": {\"colorbar\": {\"outlinewidth\": 0, \"ticks\": \"\"}}, \"type\": \"parcoords\"}], \"pie\": [{\"automargin\": true, \"type\": \"pie\"}], \"scatter\": [{\"marker\": {\"colorbar\": {\"outlinewidth\": 0, \"ticks\": \"\"}}, \"type\": \"scatter\"}], \"scatter3d\": [{\"line\": {\"colorbar\": {\"outlinewidth\": 0, \"ticks\": \"\"}}, \"marker\": {\"colorbar\": {\"outlinewidth\": 0, \"ticks\": \"\"}}, \"type\": \"scatter3d\"}], \"scattercarpet\": [{\"marker\": {\"colorbar\": {\"outlinewidth\": 0, \"ticks\": \"\"}}, \"type\": \"scattercarpet\"}], \"scattergeo\": [{\"marker\": {\"colorbar\": {\"outlinewidth\": 0, \"ticks\": \"\"}}, \"type\": \"scattergeo\"}], \"scattergl\": [{\"marker\": {\"colorbar\": {\"outlinewidth\": 0, \"ticks\": \"\"}}, \"type\": \"scattergl\"}], \"scattermapbox\": [{\"marker\": {\"colorbar\": {\"outlinewidth\": 0, \"ticks\": \"\"}}, \"type\": \"scattermapbox\"}], \"scatterpolar\": [{\"marker\": {\"colorbar\": {\"outlinewidth\": 0, \"ticks\": \"\"}}, \"type\": \"scatterpolar\"}], \"scatterpolargl\": [{\"marker\": {\"colorbar\": {\"outlinewidth\": 0, \"ticks\": \"\"}}, \"type\": \"scatterpolargl\"}], \"scatterternary\": [{\"marker\": {\"colorbar\": {\"outlinewidth\": 0, \"ticks\": \"\"}}, \"type\": \"scatterternary\"}], \"surface\": [{\"colorbar\": {\"outlinewidth\": 0, \"ticks\": \"\"}, \"colorscale\": [[0.0, \"#0d0887\"], [0.1111111111111111, \"#46039f\"], [0.2222222222222222, \"#7201a8\"], [0.3333333333333333, \"#9c179e\"], [0.4444444444444444, \"#bd3786\"], [0.5555555555555556, \"#d8576b\"], [0.6666666666666666, \"#ed7953\"], [0.7777777777777778, \"#fb9f3a\"], [0.8888888888888888, \"#fdca26\"], [1.0, \"#f0f921\"]], \"type\": \"surface\"}], \"table\": [{\"cells\": {\"fill\": {\"color\": \"#EBF0F8\"}, \"line\": {\"color\": \"white\"}}, \"header\": {\"fill\": {\"color\": \"#C8D4E3\"}, \"line\": {\"color\": \"white\"}}, \"type\": \"table\"}]}, \"layout\": {\"annotationdefaults\": {\"arrowcolor\": \"#2a3f5f\", \"arrowhead\": 0, \"arrowwidth\": 1}, \"coloraxis\": {\"colorbar\": {\"outlinewidth\": 0, \"ticks\": \"\"}}, \"colorscale\": {\"diverging\": [[0, \"#8e0152\"], [0.1, \"#c51b7d\"], [0.2, \"#de77ae\"], [0.3, \"#f1b6da\"], [0.4, \"#fde0ef\"], [0.5, \"#f7f7f7\"], [0.6, \"#e6f5d0\"], [0.7, \"#b8e186\"], [0.8, \"#7fbc41\"], [0.9, \"#4d9221\"], [1, \"#276419\"]], \"sequential\": [[0.0, \"#0d0887\"], [0.1111111111111111, \"#46039f\"], [0.2222222222222222, \"#7201a8\"], [0.3333333333333333, \"#9c179e\"], [0.4444444444444444, \"#bd3786\"], [0.5555555555555556, \"#d8576b\"], [0.6666666666666666, \"#ed7953\"], [0.7777777777777778, \"#fb9f3a\"], [0.8888888888888888, \"#fdca26\"], [1.0, \"#f0f921\"]], \"sequentialminus\": [[0.0, \"#0d0887\"], [0.1111111111111111, \"#46039f\"], [0.2222222222222222, \"#7201a8\"], [0.3333333333333333, \"#9c179e\"], [0.4444444444444444, \"#bd3786\"], [0.5555555555555556, \"#d8576b\"], [0.6666666666666666, \"#ed7953\"], [0.7777777777777778, \"#fb9f3a\"], [0.8888888888888888, \"#fdca26\"], [1.0, \"#f0f921\"]]}, \"colorway\": [\"#636efa\", \"#EF553B\", \"#00cc96\", \"#ab63fa\", \"#FFA15A\", \"#19d3f3\", \"#FF6692\", \"#B6E880\", \"#FF97FF\", \"#FECB52\"], \"font\": {\"color\": \"#2a3f5f\"}, \"geo\": {\"bgcolor\": \"white\", \"lakecolor\": \"white\", \"landcolor\": \"#E5ECF6\", \"showlakes\": true, \"showland\": true, \"subunitcolor\": \"white\"}, \"hoverlabel\": {\"align\": \"left\"}, \"hovermode\": \"closest\", \"mapbox\": {\"style\": \"light\"}, \"paper_bgcolor\": \"white\", \"plot_bgcolor\": \"#E5ECF6\", \"polar\": {\"angularaxis\": {\"gridcolor\": \"white\", \"linecolor\": \"white\", \"ticks\": \"\"}, \"bgcolor\": \"#E5ECF6\", \"radialaxis\": {\"gridcolor\": \"white\", \"linecolor\": \"white\", \"ticks\": \"\"}}, \"scene\": {\"xaxis\": {\"backgroundcolor\": \"#E5ECF6\", \"gridcolor\": \"white\", \"gridwidth\": 2, \"linecolor\": \"white\", \"showbackground\": true, \"ticks\": \"\", \"zerolinecolor\": \"white\"}, \"yaxis\": {\"backgroundcolor\": \"#E5ECF6\", \"gridcolor\": \"white\", \"gridwidth\": 2, \"linecolor\": \"white\", \"showbackground\": true, \"ticks\": \"\", \"zerolinecolor\": \"white\"}, \"zaxis\": {\"backgroundcolor\": \"#E5ECF6\", \"gridcolor\": \"white\", \"gridwidth\": 2, \"linecolor\": \"white\", \"showbackground\": true, \"ticks\": \"\", \"zerolinecolor\": \"white\"}}, \"shapedefaults\": {\"line\": {\"color\": \"#2a3f5f\"}}, \"ternary\": {\"aaxis\": {\"gridcolor\": \"white\", \"linecolor\": \"white\", \"ticks\": \"\"}, \"baxis\": {\"gridcolor\": \"white\", \"linecolor\": \"white\", \"ticks\": \"\"}, \"bgcolor\": \"#E5ECF6\", \"caxis\": {\"gridcolor\": \"white\", \"linecolor\": \"white\", \"ticks\": \"\"}}, \"title\": {\"x\": 0.05}, \"xaxis\": {\"automargin\": true, \"gridcolor\": \"white\", \"linecolor\": \"white\", \"ticks\": \"\", \"title\": {\"standoff\": 15}, \"zerolinecolor\": \"white\", \"zerolinewidth\": 2}, \"yaxis\": {\"automargin\": true, \"gridcolor\": \"white\", \"linecolor\": \"white\", \"ticks\": \"\", \"title\": {\"standoff\": 15}, \"zerolinecolor\": \"white\", \"zerolinewidth\": 2}}}, \"xaxis\": {\"anchor\": \"y\", \"domain\": [0.0, 1.0], \"title\": {\"text\": \"Percentile\"}}, \"yaxis\": {\"anchor\": \"x\", \"domain\": [0.0, 1.0], \"title\": {\"text\": \"1\"}}},\n",
              "                        {\"responsive\": true}\n",
              "                    ).then(function(){\n",
              "                            \n",
              "var gd = document.getElementById('9e5f2ed1-6eba-4419-bc31-6cf1af606432');\n",
              "var x = new MutationObserver(function (mutations, observer) {{\n",
              "        var display = window.getComputedStyle(gd).display;\n",
              "        if (!display || display === 'none') {{\n",
              "            console.log([gd, 'removed!']);\n",
              "            Plotly.purge(gd);\n",
              "            observer.disconnect();\n",
              "        }}\n",
              "}});\n",
              "\n",
              "// Listen for the removal of the full notebook cells\n",
              "var notebookContainer = gd.closest('#notebook-container');\n",
              "if (notebookContainer) {{\n",
              "    x.observe(notebookContainer, {childList: true});\n",
              "}}\n",
              "\n",
              "// Listen for the clearing of the current output cell\n",
              "var outputEl = gd.closest('.output');\n",
              "if (outputEl) {{\n",
              "    x.observe(outputEl, {childList: true});\n",
              "}}\n",
              "\n",
              "                        })\n",
              "                };\n",
              "                \n",
              "            </script>\n",
              "        </div>\n",
              "</body>\n",
              "</html>"
            ]
          },
          "metadata": {
            "tags": []
          }
        }
      ]
    },
    {
      "cell_type": "code",
      "metadata": {
        "id": "m72ZZwjQs2TU"
      },
      "source": [
        "# don't know how to change the histogram into a line graph (and combine those two line graphs into one graph)"
      ],
      "execution_count": 69,
      "outputs": []
    },
    {
      "cell_type": "code",
      "metadata": {
        "id": "GWXlQWO3Ql-c"
      },
      "source": [
        " # dont know how to use the mean row to create a line graph ( is this okay to use instead of pivot table)"
      ],
      "execution_count": 70,
      "outputs": []
    },
    {
      "cell_type": "code",
      "metadata": {
        "id": "WQ28JJCkRD2L"
      },
      "source": [
        "# is it okay to use the clean version of excel "
      ],
      "execution_count": 71,
      "outputs": []
    }
  ]
}